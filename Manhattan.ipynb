{
 "cells": [
  {
   "cell_type": "code",
   "execution_count": 1,
   "metadata": {},
   "outputs": [],
   "source": [
    "import consMDP\n",
    "import json\n",
    "from decimal import Decimal"
   ]
  },
  {
   "cell_type": "code",
   "execution_count": 2,
   "metadata": {},
   "outputs": [],
   "source": [
    "file_path = 'NYCstreetnetwork.json'\n",
    "with open(file_path,'r') as f:\n",
    "        graph_file = json.load(f)"
   ]
  },
  {
   "cell_type": "code",
   "execution_count": 3,
   "metadata": {},
   "outputs": [],
   "source": [
    "def convert(g):\n",
    "    states = []\n",
    "    actions = dict()\n",
    "\n",
    "    mdp = consMDP.ConsMDP()\n",
    "\n",
    "    for node in g[\"nodes\"]:\n",
    "        if node[\"action\"]:\n",
    "            actions[node[\"label\"]] = dict()\n",
    "        else:\n",
    "            states.append(node)\n",
    "\n",
    "    for s in states:\n",
    "        mdp.new_state(s[\"reload\"], s[\"label\"])\n",
    "\n",
    "    for edge in g[\"edges\"]:\n",
    "        fr = edge[\"tail\"]\n",
    "        to = edge[\"head\"]\n",
    "        if to in actions:\n",
    "            actions[to][\"from\"] = fr\n",
    "            actions[to][\"cons\"] = edge[\"consumption\"]\n",
    "        else:\n",
    "            dist = actions[fr].get(\"dist\")\n",
    "            to = mdp.state_with_label(to)\n",
    "            if dist is None:\n",
    "                actions[fr][\"dist\"] = dict()\n",
    "            actions[fr][\"dist\"][to] = Decimal(f'{edge[\"probability\"]}')\n",
    "\n",
    "    for label, a in actions.items():\n",
    "        fr = mdp.state_with_label(a[\"from\"])\n",
    "        mdp.add_action(fr, a[\"dist\"], label, a[\"cons\"])\n",
    "\n",
    "    return mdp"
   ]
  },
  {
   "cell_type": "code",
   "execution_count": 4,
   "metadata": {},
   "outputs": [],
   "source": [
    "def get_target_set(g, mdp):\n",
    "    T = set()\n",
    "    for t in g[\"T\"]:\n",
    "        T.add(mdp.state_with_label(t[\"label\"]))\n",
    "    return T"
   ]
  },
  {
   "cell_type": "code",
   "execution_count": 5,
   "metadata": {},
   "outputs": [
    {
     "name": "stdout",
     "output_type": "stream",
     "text": [
      "41.8 ms ± 608 µs per loop (mean ± std. dev. of 7 runs, 10 loops each)\n"
     ]
    }
   ],
   "source": [
    "%%timeit\n",
    "m = convert(graph_file)\n",
    "targets = get_target_set(graph_file, m)"
   ]
  },
  {
   "cell_type": "code",
   "execution_count": 6,
   "metadata": {},
   "outputs": [
    {
     "data": {
      "text/plain": [
       "consMDP.ConsMDP"
      ]
     },
     "execution_count": 6,
     "metadata": {},
     "output_type": "execute_result"
    }
   ],
   "source": [
    "m = convert(graph_file)\n",
    "targets = get_target_set(graph_file, m)\n",
    "type(m)"
   ]
  },
  {
   "cell_type": "code",
   "execution_count": 7,
   "metadata": {},
   "outputs": [
    {
     "name": "stdout",
     "output_type": "stream",
     "text": [
      "342 ms ± 4.16 ms per loop (mean ± std. dev. of 7 runs, 1 loop each)\n"
     ]
    }
   ],
   "source": [
    "%%timeit\n",
    "m.get_minInitCons(recompute=True);"
   ]
  },
  {
   "cell_type": "code",
   "execution_count": 8,
   "metadata": {},
   "outputs": [
    {
     "name": "stdout",
     "output_type": "stream",
     "text": [
      "181 ms ± 1.95 ms per loop (mean ± std. dev. of 7 runs, 1 loop each)\n"
     ]
    }
   ],
   "source": [
    "%%timeit\n",
    "m.get_minInitCons(30, recompute=True);"
   ]
  },
  {
   "cell_type": "code",
   "execution_count": 9,
   "metadata": {},
   "outputs": [
    {
     "name": "stdout",
     "output_type": "stream",
     "text": [
      "375 ms ± 4.59 ms per loop (mean ± std. dev. of 7 runs, 1 loop each)\n"
     ]
    }
   ],
   "source": [
    "%%timeit\n",
    "m.get_safeReloads(100, recompute=True)"
   ]
  },
  {
   "cell_type": "code",
   "execution_count": 10,
   "metadata": {},
   "outputs": [
    {
     "name": "stdout",
     "output_type": "stream",
     "text": [
      "1.05 s ± 29.9 ms per loop (mean ± std. dev. of 7 runs, 1 loop each)\n"
     ]
    }
   ],
   "source": [
    "%%timeit\n",
    "m.get_positiveReachability(targets, 100, recompute=True)"
   ]
  }
 ],
 "metadata": {
  "kernelspec": {
   "display_name": "Python 3",
   "language": "python",
   "name": "python3"
  },
  "language_info": {
   "codemirror_mode": {
    "name": "ipython",
    "version": 3
   },
   "file_extension": ".py",
   "mimetype": "text/x-python",
   "name": "python",
   "nbconvert_exporter": "python",
   "pygments_lexer": "ipython3",
   "version": "3.7.5rc1"
  }
 },
 "nbformat": 4,
 "nbformat_minor": 4
}
