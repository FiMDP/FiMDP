{
 "cells": [
  {
   "cell_type": "code",
   "execution_count": 1,
   "metadata": {},
   "outputs": [],
   "source": [
    "import consMDP\n",
    "import json\n",
    "from decimal import Decimal\n",
    "from tools import CMDPgraph"
   ]
  },
  {
   "cell_type": "code",
   "execution_count": 2,
   "metadata": {},
   "outputs": [],
   "source": [
    "file_path = 'NYCstreetnetwork.json'\n",
    "with open(file_path,'r') as f:\n",
    "        graph_file = json.load(f)"
   ]
  },
  {
   "cell_type": "code",
   "execution_count": 3,
   "metadata": {},
   "outputs": [
    {
     "name": "stdout",
     "output_type": "stream",
     "text": [
      "38.8 s ± 3.81 s per loop (mean ± std. dev. of 7 runs, 1 loop each)\n"
     ]
    }
   ],
   "source": [
    "%%timeit\n",
    "chase = CMDPgraph.graph_from_json(file_path)[0]"
   ]
  },
  {
   "cell_type": "code",
   "execution_count": 4,
   "metadata": {},
   "outputs": [
    {
     "data": {
      "text/plain": [
       "tools.CMDPgraph.CMDP"
      ]
     },
     "execution_count": 4,
     "metadata": {},
     "output_type": "execute_result"
    }
   ],
   "source": [
    "chase = CMDPgraph.graph_from_json(file_path)[0]\n",
    "type(chase)"
   ]
  },
  {
   "cell_type": "code",
   "execution_count": 5,
   "metadata": {},
   "outputs": [],
   "source": [
    "def convert(g):\n",
    "    states = []\n",
    "    actions = dict()\n",
    "\n",
    "    mdp = consMDP.ConsMDP()\n",
    "\n",
    "    for node in g[\"nodes\"]:\n",
    "        if node[\"action\"]:\n",
    "            actions[node[\"label\"]] = dict()\n",
    "        else:\n",
    "            states.append(node)\n",
    "\n",
    "    for s in states:\n",
    "        mdp.new_state(s[\"reload\"], s[\"label\"])\n",
    "\n",
    "    for edge in g[\"edges\"]:\n",
    "        fr = edge[\"tail\"]\n",
    "        to = edge[\"head\"]\n",
    "        if to in actions:\n",
    "            actions[to][\"from\"] = fr\n",
    "            actions[to][\"cons\"] = edge[\"consumption\"]\n",
    "        else:\n",
    "            dist = actions[fr].get(\"dist\")\n",
    "            to = mdp.state_with_label(to)\n",
    "            if dist is None:\n",
    "                actions[fr][\"dist\"] = dict()\n",
    "            actions[fr][\"dist\"][to] = Decimal(f'{edge[\"probability\"]}')\n",
    "\n",
    "    for label, a in actions.items():\n",
    "        fr = mdp.state_with_label(a[\"from\"])\n",
    "        mdp.add_action(fr, a[\"dist\"], label, a[\"cons\"])\n",
    "\n",
    "    return mdp"
   ]
  },
  {
   "cell_type": "code",
   "execution_count": 6,
   "metadata": {},
   "outputs": [
    {
     "name": "stdout",
     "output_type": "stream",
     "text": [
      "84.3 ms ± 1.04 ms per loop (mean ± std. dev. of 7 runs, 10 loops each)\n"
     ]
    }
   ],
   "source": [
    "%timeit m = convert(graph_file)"
   ]
  },
  {
   "cell_type": "code",
   "execution_count": 7,
   "metadata": {},
   "outputs": [
    {
     "data": {
      "text/plain": [
       "consMDP.ConsMDP"
      ]
     },
     "execution_count": 7,
     "metadata": {},
     "output_type": "execute_result"
    }
   ],
   "source": [
    "m = convert(graph_file)\n",
    "type(m)"
   ]
  },
  {
   "cell_type": "code",
   "execution_count": 10,
   "metadata": {},
   "outputs": [
    {
     "name": "stdout",
     "output_type": "stream",
     "text": [
      "589 ms ± 3.98 ms per loop (mean ± std. dev. of 7 runs, 1 loop each)\n"
     ]
    }
   ],
   "source": [
    "%%timeit\n",
    "m.compute_minInitCons();"
   ]
  },
  {
   "cell_type": "code",
   "execution_count": 12,
   "metadata": {},
   "outputs": [
    {
     "name": "stdout",
     "output_type": "stream",
     "text": [
      "140 ms ± 1.12 ms per loop (mean ± std. dev. of 7 runs, 10 loops each)\n"
     ]
    }
   ],
   "source": [
    "%%timeit\n",
    "m.compute_minInitCons(10);"
   ]
  }
 ],
 "metadata": {
  "kernelspec": {
   "display_name": "Python 3",
   "language": "python",
   "name": "python3"
  },
  "language_info": {
   "codemirror_mode": {
    "name": "ipython",
    "version": 3
   },
   "file_extension": ".py",
   "mimetype": "text/x-python",
   "name": "python",
   "nbconvert_exporter": "python",
   "pygments_lexer": "ipython3",
   "version": "3.7.4"
  }
 },
 "nbformat": 4,
 "nbformat_minor": 4
}
