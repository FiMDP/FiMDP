{
 "cells": [
  {
   "cell_type": "code",
   "execution_count": 1,
   "metadata": {},
   "outputs": [],
   "source": [
    "import consMDP\n",
    "import json\n",
    "from decimal import Decimal"
   ]
  },
  {
   "cell_type": "code",
   "execution_count": 2,
   "metadata": {},
   "outputs": [],
   "source": [
    "file_path = 'NYCstreetnetwork.json'\n",
    "with open(file_path,'r') as f:\n",
    "        graph_file = json.load(f)"
   ]
  },
  {
   "cell_type": "code",
   "execution_count": 3,
   "metadata": {},
   "outputs": [],
   "source": [
    "def convert(g):\n",
    "    states = []\n",
    "    actions = dict()\n",
    "\n",
    "    mdp = consMDP.ConsMDP()\n",
    "\n",
    "    for node in g[\"nodes\"]:\n",
    "        if node[\"action\"]:\n",
    "            actions[node[\"label\"]] = dict()\n",
    "        else:\n",
    "            states.append(node)\n",
    "\n",
    "    for s in states:\n",
    "        mdp.new_state(s[\"reload\"], s[\"label\"])\n",
    "\n",
    "    for edge in g[\"edges\"]:\n",
    "        fr = edge[\"tail\"]\n",
    "        to = edge[\"head\"]\n",
    "        if to in actions:\n",
    "            actions[to][\"from\"] = fr\n",
    "            actions[to][\"cons\"] = edge[\"consumption\"]\n",
    "        else:\n",
    "            dist = actions[fr].get(\"dist\")\n",
    "            to = mdp.state_with_label(to)\n",
    "            if dist is None:\n",
    "                actions[fr][\"dist\"] = dict()\n",
    "            actions[fr][\"dist\"][to] = Decimal(f'{edge[\"probability\"]}')\n",
    "\n",
    "    for label, a in actions.items():\n",
    "        fr = mdp.state_with_label(a[\"from\"])\n",
    "        mdp.add_action(fr, a[\"dist\"], label, a[\"cons\"])\n",
    "\n",
    "    return mdp"
   ]
  },
  {
   "cell_type": "code",
   "execution_count": 6,
   "metadata": {},
   "outputs": [
    {
     "name": "stdout",
     "output_type": "stream",
     "text": [
      "84.1 ms ± 1.62 ms per loop (mean ± std. dev. of 7 runs, 10 loops each)\n"
     ]
    }
   ],
   "source": [
    "%timeit m = convert(graph_file)"
   ]
  },
  {
   "cell_type": "code",
   "execution_count": 4,
   "metadata": {},
   "outputs": [
    {
     "data": {
      "text/plain": [
       "consMDP.ConsMDP"
      ]
     },
     "execution_count": 4,
     "metadata": {},
     "output_type": "execute_result"
    }
   ],
   "source": [
    "m = convert(graph_file)\n",
    "type(m)"
   ]
  },
  {
   "cell_type": "code",
   "execution_count": 8,
   "metadata": {},
   "outputs": [
    {
     "name": "stdout",
     "output_type": "stream",
     "text": [
      "647 ms ± 3.79 ms per loop (mean ± std. dev. of 7 runs, 1 loop each)\n"
     ]
    }
   ],
   "source": [
    "%%timeit\n",
    "m.get_minInitCons(recompute=True);"
   ]
  },
  {
   "cell_type": "code",
   "execution_count": 9,
   "metadata": {},
   "outputs": [
    {
     "name": "stdout",
     "output_type": "stream",
     "text": [
      "361 ms ± 12.8 ms per loop (mean ± std. dev. of 7 runs, 1 loop each)\n"
     ]
    }
   ],
   "source": [
    "%%timeit\n",
    "m.get_minInitCons(30, recompute=True);"
   ]
  },
  {
   "cell_type": "code",
   "execution_count": 5,
   "metadata": {},
   "outputs": [
    {
     "name": "stdout",
     "output_type": "stream",
     "text": [
      "737 ms ± 10.5 ms per loop (mean ± std. dev. of 7 runs, 1 loop each)\n"
     ]
    }
   ],
   "source": [
    "%%timeit\n",
    "m.get_safeReloads(100, recompute=True)"
   ]
  },
  {
   "cell_type": "code",
   "execution_count": null,
   "metadata": {},
   "outputs": [],
   "source": []
  }
 ],
 "metadata": {
  "kernelspec": {
   "display_name": "Python 3",
   "language": "python",
   "name": "python3"
  },
  "language_info": {
   "codemirror_mode": {
    "name": "ipython",
    "version": 3
   },
   "file_extension": ".py",
   "mimetype": "text/x-python",
   "name": "python",
   "nbconvert_exporter": "python",
   "pygments_lexer": "ipython3",
   "version": "3.7.4"
  }
 },
 "nbformat": 4,
 "nbformat_minor": 4
}
