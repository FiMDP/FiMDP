{
 "cells": [
  {
   "cell_type": "markdown",
   "metadata": {},
   "source": [
    "# Reading Prism and Storm models using Stormpy"
   ]
  },
  {
   "cell_type": "markdown",
   "metadata": {},
   "source": [
    "For parsing and building [PRISM] models, we rely on [Stormpy] and [Storm]. In this notebook, we demonstrate how the interface works.\n",
    "\n",
    "Let's first create some model in the [PRISM language]. We create a simple grid-world model where the agent can move into 4 directions (`NORTH`, `SOUTH`, `EAST`, and `WEST`) and he has 2 types of actions for each direction. The strong actions cost 3 units of energy and lead to the requested direction deterministically. The weak actions are cheaper, they cost only 1 unit of energy, but inctorduce a stochastic failure and can drift the agent into one of the two diagonal directions (for `NORTH` this would be north-west or north-east) with a small probability.\n",
    "\n",
    "The encoding of Consumption MDPs is done as a standard `mdp` model with two additional requirements.\n",
    "\n",
    " 1. The consumption of actions is given by a reward structure called `consumption`. This reward structure has to assign some consumption to each action (choice).\n",
    " 2. The set of reload states must be specified using the `reload` state label.\n",
    " \n",
    "Note that such encoding **does not** produce model with the same semantics in PRISM and other tools.\n",
    "\n",
    "Further, we allow to define the targets using the `target` label and capacity using the `capacity` constant in the prism model. These are defined at the bottom of the following file.\n",
    "\n",
    "[Storm]: https://www.stormchecker.org/\n",
    "[Stormpy]: https://moves-rwth.github.io/stormpy/index.html\n",
    "[PRISM]: https://www.prismmodelchecker.org/\n",
    "[PRISM language]: https://www.prismmodelchecker.org/manual/ThePRISMLanguage/Introduction"
   ]
  },
  {
   "cell_type": "code",
   "execution_count": 1,
   "metadata": {},
   "outputs": [
    {
     "name": "stdout",
     "output_type": "stream",
     "text": [
      "Overwriting gw.prism\n"
     ]
    }
   ],
   "source": [
    "%%writefile gw.prism\n",
    "mdp\n",
    "\n",
    "const int size_x = 10;\n",
    "const int size_y = 10;\n",
    "const int border_x = size_x-1;\n",
    "const int border_y = size_y-1;\n",
    "\n",
    "// Let's set some reload states\n",
    "formula is_reload = (x=round(border_x/2) & y=round(border_y/2));\n",
    "\n",
    "// Consumption of strong and weak actions\n",
    "const int cons_s = 3;\n",
    "const int cons_w = 1;\n",
    "\n",
    "const double succ_p = 0.9;\n",
    "const double fail_left_p = 0.04;\n",
    "const double fail_right_p = 0.06;\n",
    "\n",
    "// Conditions for hitting walls — robot\n",
    "formula wall_north = (y = border_y);\n",
    "formula wall_east = (x = border_x); \n",
    "formula wall_south = (y = 0);\n",
    "formula wall_west = (x = 0);\n",
    "\n",
    "module movement\n",
    "  x : [0..size_x-1] init 0;\n",
    "  y : [0..size_y-1] init 0;\n",
    "\n",
    "  [strong_north] !wall_north -> (y'=y+1);\n",
    "  [north] !wall_north & !wall_east & !wall_west -> \n",
    "\tsucc_p: (y'=y+1) + \n",
    "\tfail_left_p: (y'=y+1)&(x'=x-1) + \n",
    "\tfail_right_p: (y'=y+1)&(x'=x+1);\n",
    "  [north] !wall_north &  wall_east & !wall_west -> \n",
    "\tsucc_p: (y'=y+1) + \n",
    "\t1-succ_p: (y'=y+1)&(x'=x-1); \n",
    "  [north] !wall_north & !wall_east &  wall_west -> \n",
    "\tsucc_p: (y'=y+1) + \n",
    "\t1-succ_p: (y'=y+1)&(x'=x+1);\n",
    "\n",
    "  [strong_south] !wall_south -> (y'=y-1);\n",
    "  [south] !wall_south & !wall_east & !wall_west -> \n",
    "\tsucc_p: (y'=y-1) + \n",
    "\tfail_left_p: (y'=y-1)&(x'=x-1) + \n",
    "\tfail_right_p: (y'=y-1)&(x'=x+1);\n",
    "  [south] !wall_south &  wall_east & !wall_west -> \n",
    "\tsucc_p: (y'=y-1) + \n",
    "\t1-succ_p: (y'=y-1)&(x'=x-1); \n",
    "  [south] !wall_south & !wall_east &  wall_west -> \n",
    "\tsucc_p: (y'=y-1) + \n",
    "\t1-succ_p: (y'=y-1)&(x'=x+1); \n",
    "\n",
    "  [strong_east] !wall_east -> (x'=x+1);\n",
    "  [east] !wall_east & !wall_north & !wall_south -> \n",
    "\tsucc_p: (x'=x+1) + \n",
    "\tfail_left_p: (x'=x+1)&(y'=y-1) + \n",
    "\tfail_right_p: (x'=x+1)&(y'=y+1);\n",
    "  [east] !wall_east &  wall_north & !wall_south -> \n",
    "\tsucc_p: (x'=x+1) + \n",
    "\t1-succ_p: (x'=x+1)&(y'=y-1); \n",
    "  [east] !wall_east & !wall_north &  wall_south -> \n",
    "\tsucc_p: (x'=x+1) + \n",
    "\t1-succ_p: (x'=x+1)&(y'=y+1); \n",
    "\n",
    "  [strong_west] !wall_west -> (x'=x-1);\n",
    "  [west] !wall_west & !wall_north & !wall_south -> \n",
    "\tsucc_p: (x'=x-1) + \n",
    "\tfail_left_p: (x'=x-1)&(y'=y-1) + \n",
    "\tfail_right_p: (x'=x-1)&(y'=y+1);\n",
    "  [west] !wall_west &  wall_north & !wall_south -> \n",
    "\tsucc_p: (x'=x-1) + \n",
    "\t1-succ_p: (x'=x-1)&(y'=y-1); \n",
    "  [west] !wall_west & !wall_north &  wall_south -> \n",
    "\tsucc_p: (x'=x-1) + \n",
    "\t1-succ_p: (x'=x-1)&(y'=y+1); \n",
    "\n",
    "endmodule\n",
    "\n",
    "rewards \"consumption\"\n",
    "\t[north] true : cons_w;\n",
    "\t[south] true : cons_w;\n",
    "\t[east] true : cons_w;\n",
    "\t[west] true : cons_w;\n",
    "\t[strong_north] true : cons_s;\n",
    "\t[strong_south] true : cons_s;\n",
    "\t[strong_east] true : cons_s;\n",
    "\t[strong_west] true : cons_s;\n",
    "endrewards\n",
    "\n",
    "label \"reload\" = is_reload;\n",
    "label \"target\" = (x=border_x & y=2);\n",
    "const int capacity = 2 * size_x;"
   ]
  },
  {
   "cell_type": "markdown",
   "metadata": {},
   "source": [
    "We can get a consumption MDP right from the model using the `prism_to_consmdp` function."
   ]
  },
  {
   "cell_type": "code",
   "execution_count": 2,
   "metadata": {},
   "outputs": [
    {
     "name": "stdout",
     "output_type": "stream",
     "text": [
      "100\n"
     ]
    }
   ],
   "source": [
    "import fimdp\n",
    "fimdp.setup()\n",
    "from fimdp.io import prism_to_consmdp\n",
    "mdp = prism_to_consmdp(\"gw.prism\")\n",
    "print(mdp.num_states)"
   ]
  },
  {
   "cell_type": "markdown",
   "metadata": {},
   "source": [
    "By default, this functions keeps the action names and stores the variable valuations in state names."
   ]
  },
  {
   "cell_type": "code",
   "execution_count": 3,
   "metadata": {},
   "outputs": [
    {
     "name": "stdout",
     "output_type": "stream",
     "text": [
      "15: x=3 y=0\n",
      "15——strong_north[3]——>{13: 1.0}\n",
      "13: x=3 y=1\n"
     ]
    }
   ],
   "source": [
    "print(mdp.names[15])\n",
    "print(mdp.actions[mdp.succ[15]])\n",
    "print(mdp.names[13])"
   ]
  },
  {
   "cell_type": "markdown",
   "metadata": {},
   "source": [
    "Names of states can be discarded by setting `state_valuations=False` and action labels can be discarded by `action_labels=False`"
   ]
  },
  {
   "cell_type": "code",
   "execution_count": 4,
   "metadata": {},
   "outputs": [
    {
     "name": "stdout",
     "output_type": "stream",
     "text": [
      "None\n",
      "15——106[3]——>{13: 1.0}\n",
      "None\n"
     ]
    }
   ],
   "source": [
    "pure_mdp = prism_to_consmdp(\"gw.prism\", \n",
    "                            state_valuations=False,\n",
    "                            action_labels=False)\n",
    "print(pure_mdp.names[15])\n",
    "print(pure_mdp.actions[mdp.succ[15]])\n",
    "print(pure_mdp.names[13])"
   ]
  },
  {
   "cell_type": "markdown",
   "metadata": {},
   "source": [
    "### Targets and capacity"
   ]
  },
  {
   "cell_type": "markdown",
   "metadata": {},
   "source": [
    "In our example, we have defined the targets and capacity we want to use in our analysis. We can read the targets by passing `return_targets=True` to the `prism_to_consmdp` function, and we can read the capacity using the function `parse_cap_from_prism`."
   ]
  },
  {
   "cell_type": "code",
   "execution_count": 5,
   "metadata": {},
   "outputs": [
    {
     "name": "stdout",
     "output_type": "stream",
     "text": [
      "[98]\n",
      "20\n",
      "[20, 19, 19, 19, 18, 18, 18, 18, 18, 17, 17, 15, 12, 17, 15, 17, 16, 15, 12, 9, 6, 12, 9, 16, 15, 15, 12, 9, 6, 3, 0, 6, 3, 12, 9, 15, 16, 15, 12, 9, 6, 3, 6, 6, 3, 12, 9, 16, 15, 17, 16, 15, 12, 9, 6, 9, 12, 6, 9, 12, 9, 16, 15, 17, 17, 16, 15, 14, 12, 9, 12, 14, 15, 12, 14, 12, 9, 15, 14, 17, 16, 17, 16, 15, 14, 13, 12, 13, 14, 15, 16, 14, 15, 12, 13, 14, 13, 16, 15, 17]\n"
     ]
    }
   ],
   "source": [
    "from fimdp.io import parse_cap_from_prism\n",
    "from fimdp.energy_solvers import BasicES\n",
    "from fimdp.objectives import BUCHI\n",
    "\n",
    "mdp, targets = prism_to_consmdp(\"gw.prism\", return_targets=True)\n",
    "capacity = parse_cap_from_prism(\"gw.prism\")\n",
    "print(targets)\n",
    "print(capacity)\n",
    "solver = BasicES(mdp, capacity, targets)\n",
    "print(solver.get_min_levels(BUCHI))"
   ]
  },
  {
   "cell_type": "markdown",
   "metadata": {},
   "source": [
    "## Stormpy models"
   ]
  },
  {
   "cell_type": "markdown",
   "metadata": {},
   "source": [
    "FiMDP also offers `storm_sparsemdp_to_consmdp` which translates a stormpy sparse representation of MDP (satisfying the same requirements as for PRISM) into Consumption MDP. It also offers `consmdp_to_storm_consmdp` which encodes the FiMDP representation into SparseMDP from Storm. This encoding is exactly such that it can be used to build the ConsMDP object back."
   ]
  },
  {
   "cell_type": "code",
   "execution_count": 6,
   "metadata": {},
   "outputs": [],
   "source": [
    "from fimdp.io import consmdp_to_storm_consmdp, storm_sparsemdp_to_consmdp\n",
    "from fimdp.examples.cons_mdp import little_alsure\n",
    "from fimdp.dot import dot_to_svg\n",
    "from IPython.display import SVG\n",
    "import stormpy\n",
    "\n",
    "def display_storm(sparseMDP):\n",
    "    return SVG(dot_to_svg(sparseMDP.to_dot()))"
   ]
  },
  {
   "cell_type": "code",
   "execution_count": 7,
   "metadata": {},
   "outputs": [],
   "source": [
    "m, T = little_alsure()\n",
    "storm = consmdp_to_storm_consmdp(m)"
   ]
  },
  {
   "cell_type": "code",
   "execution_count": 8,
   "metadata": {},
   "outputs": [
    {
     "data": {
      "image/svg+xml": [
       "<?xml version=\"1.0\" encoding=\"UTF-8\" standalone=\"no\"?>\n",
       "<!DOCTYPE svg PUBLIC \"-//W3C//DTD SVG 1.1//EN\"\n",
       " \"http://www.w3.org/Graphics/SVG/1.1/DTD/svg11.dtd\">\n",
       "<!-- Generated by graphviz version 2.43.0 (0)\n",
       " -->\n",
       "<!-- Pages: 1 -->\n",
       "<svg width=\"437pt\" height=\"111pt\"\n",
       " viewBox=\"0.00 0.00 436.60 110.58\" xmlns=\"http://www.w3.org/2000/svg\" xmlns:xlink=\"http://www.w3.org/1999/xlink\">\n",
       "<g id=\"graph0\" class=\"graph\" transform=\"scale(1 1) rotate(0) translate(4 106.58)\">\n",
       "<polygon fill=\"white\" stroke=\"transparent\" points=\"-4,4 -4,-106.58 432.6,-106.58 432.6,4 -4,4\"/>\n",
       "<!-- 0 -->\n",
       "<g id=\"node1\" class=\"node\">\n",
       "<title>0</title>\n",
       "<ellipse fill=\"#eeeeff\" fill-opacity=\"0.800000\" stroke=\"black\" cx=\"18\" cy=\"-30.58\" rx=\"18\" ry=\"18\"/>\n",
       "<text text-anchor=\"middle\" x=\"18\" y=\"-26.88\" font-family=\"Lato\" font-size=\"14.00\">0</text>\n",
       "</g>\n",
       "<!-- 0_t -->\n",
       "<g id=\"node2\" class=\"node\">\n",
       "<title>0_t</title>\n",
       "<ellipse fill=\"#858585\" stroke=\"black\" cx=\"113.6\" cy=\"-49.58\" rx=\"3.6\" ry=\"3.6\"/>\n",
       "</g>\n",
       "<!-- 0&#45;&gt;0_t -->\n",
       "<g id=\"edge1\" class=\"edge\">\n",
       "<title>0&#45;&gt;0_t</title>\n",
       "<path fill=\"none\" stroke=\"black\" d=\"M35.73,-33.97C54.17,-37.72 83.4,-43.65 100,-47.02\"/>\n",
       "<polygon fill=\"none\" stroke=\"black\" points=\"99.34,-50.46 109.84,-49.02 100.74,-43.6 99.34,-50.46\"/>\n",
       "<text text-anchor=\"middle\" x=\"73\" y=\"-49.38\" font-family=\"Lato\" font-size=\"14.00\">t: 2</text>\n",
       "</g>\n",
       "<!-- 0_pos -->\n",
       "<g id=\"node5\" class=\"node\">\n",
       "<title>0_pos</title>\n",
       "<ellipse fill=\"#858585\" stroke=\"black\" cx=\"113.6\" cy=\"-11.58\" rx=\"3.6\" ry=\"3.6\"/>\n",
       "</g>\n",
       "<!-- 0&#45;&gt;0_pos -->\n",
       "<g id=\"edge4\" class=\"edge\">\n",
       "<title>0&#45;&gt;0_pos</title>\n",
       "<path fill=\"none\" stroke=\"black\" d=\"M35.23,-24.85C41.08,-22.95 47.78,-20.97 54,-19.58 69.6,-16.09 87.9,-13.88 99.84,-12.69\"/>\n",
       "<polygon fill=\"none\" stroke=\"black\" points=\"100.24,-16.17 109.88,-11.78 99.61,-9.2 100.24,-16.17\"/>\n",
       "<text text-anchor=\"middle\" x=\"73\" y=\"-23.38\" font-family=\"Lato\" font-size=\"14.00\">pos: 1</text>\n",
       "</g>\n",
       "<!-- 1 -->\n",
       "<g id=\"node3\" class=\"node\">\n",
       "<title>1</title>\n",
       "<ellipse fill=\"#eeeeff\" fill-opacity=\"0.800000\" stroke=\"black\" cx=\"191.2\" cy=\"-28.58\" rx=\"18\" ry=\"18\"/>\n",
       "<text text-anchor=\"middle\" x=\"191.2\" y=\"-24.88\" font-family=\"Lato\" font-size=\"14.00\">1</text>\n",
       "</g>\n",
       "<!-- 0_t&#45;&gt;1 -->\n",
       "<g id=\"edge2\" class=\"edge\">\n",
       "<title>0_t&#45;&gt;1</title>\n",
       "<path fill=\"none\" stroke=\"#858585\" d=\"M117.47,-48.78C125.05,-46.67 146.2,-40.8 163.75,-35.92\"/>\n",
       "<polygon fill=\"#858585\" stroke=\"#858585\" points=\"164.84,-39.25 173.54,-33.2 162.97,-32.51 164.84,-39.25\"/>\n",
       "<text text-anchor=\"middle\" x=\"145.2\" y=\"-47.38\" font-family=\"Lato\" font-size=\"14.00\" fill=\"#858585\">0.5</text>\n",
       "</g>\n",
       "<!-- 2 -->\n",
       "<g id=\"node4\" class=\"node\">\n",
       "<title>2</title>\n",
       "<ellipse fill=\"#eeeeff\" fill-opacity=\"0.800000\" stroke=\"black\" cx=\"191.2\" cy=\"-84.58\" rx=\"18\" ry=\"18\"/>\n",
       "<text text-anchor=\"middle\" x=\"191.2\" y=\"-80.88\" font-family=\"Lato\" font-size=\"14.00\">2</text>\n",
       "</g>\n",
       "<!-- 0_t&#45;&gt;2 -->\n",
       "<g id=\"edge3\" class=\"edge\">\n",
       "<title>0_t&#45;&gt;2</title>\n",
       "<path fill=\"none\" stroke=\"#858585\" d=\"M116.93,-51.24C120.66,-53.87 128.27,-59.04 135.2,-62.58 144.48,-67.31 155.04,-71.75 164.4,-75.38\"/>\n",
       "<polygon fill=\"#858585\" stroke=\"#858585\" points=\"163.38,-78.73 173.97,-78.97 165.84,-72.18 163.38,-78.73\"/>\n",
       "<text text-anchor=\"middle\" x=\"145.2\" y=\"-74.38\" font-family=\"Lato\" font-size=\"14.00\" fill=\"#858585\">0.5</text>\n",
       "</g>\n",
       "<!-- 1_r -->\n",
       "<g id=\"node7\" class=\"node\">\n",
       "<title>1_r</title>\n",
       "<ellipse fill=\"#858585\" stroke=\"black\" cx=\"270.8\" cy=\"-28.58\" rx=\"3.6\" ry=\"3.6\"/>\n",
       "</g>\n",
       "<!-- 1&#45;&gt;1_r -->\n",
       "<g id=\"edge7\" class=\"edge\">\n",
       "<title>1&#45;&gt;1_r</title>\n",
       "<path fill=\"none\" stroke=\"black\" d=\"M209.42,-28.58C223.76,-28.58 243.85,-28.58 256.85,-28.58\"/>\n",
       "<polygon fill=\"none\" stroke=\"black\" points=\"257,-32.08 267,-28.58 257,-25.08 257,-32.08\"/>\n",
       "<text text-anchor=\"middle\" x=\"238.2\" y=\"-32.38\" font-family=\"Lato\" font-size=\"14.00\">r: 1</text>\n",
       "</g>\n",
       "<!-- 2_r -->\n",
       "<g id=\"node8\" class=\"node\">\n",
       "<title>2_r</title>\n",
       "<ellipse fill=\"#858585\" stroke=\"black\" cx=\"270.8\" cy=\"-72.58\" rx=\"3.6\" ry=\"3.6\"/>\n",
       "</g>\n",
       "<!-- 2&#45;&gt;2_r -->\n",
       "<g id=\"edge9\" class=\"edge\">\n",
       "<title>2&#45;&gt;2_r</title>\n",
       "<path fill=\"none\" stroke=\"black\" d=\"M209.04,-81.97C223.35,-79.76 243.6,-76.63 256.72,-74.6\"/>\n",
       "<polygon fill=\"none\" stroke=\"black\" points=\"257.62,-78 266.97,-73.01 256.55,-71.08 257.62,-78\"/>\n",
       "<text text-anchor=\"middle\" x=\"238.2\" y=\"-82.38\" font-family=\"Lato\" font-size=\"14.00\">r: 2</text>\n",
       "</g>\n",
       "<!-- 0_pos&#45;&gt;1 -->\n",
       "<g id=\"edge5\" class=\"edge\">\n",
       "<title>0_pos&#45;&gt;1</title>\n",
       "<path fill=\"none\" stroke=\"#858585\" d=\"M117.21,-11.28C123.72,-10.63 141.18,-9.34 155.2,-12.58 158.69,-13.38 162.26,-14.55 165.71,-15.9\"/>\n",
       "<polygon fill=\"#858585\" stroke=\"#858585\" points=\"164.44,-19.16 175,-20 167.27,-12.76 164.44,-19.16\"/>\n",
       "<text text-anchor=\"middle\" x=\"145.2\" y=\"-16.38\" font-family=\"Lato\" font-size=\"14.00\" fill=\"#858585\">0.5</text>\n",
       "</g>\n",
       "<!-- 3 -->\n",
       "<g id=\"node6\" class=\"node\">\n",
       "<title>3</title>\n",
       "<ellipse fill=\"#eeeeff\" fill-opacity=\"0.800000\" stroke=\"black\" cx=\"341.4\" cy=\"-28.58\" rx=\"18\" ry=\"18\"/>\n",
       "<ellipse fill=\"none\" stroke=\"black\" cx=\"341.4\" cy=\"-28.58\" rx=\"22\" ry=\"22\"/>\n",
       "<text text-anchor=\"middle\" x=\"341.4\" y=\"-24.88\" font-family=\"Lato\" font-size=\"14.00\">3</text>\n",
       "</g>\n",
       "<!-- 0_pos&#45;&gt;3 -->\n",
       "<g id=\"edge6\" class=\"edge\">\n",
       "<title>0_pos&#45;&gt;3</title>\n",
       "<path fill=\"none\" stroke=\"#858585\" d=\"M117.25,-10.84C121.15,-9.77 128.69,-7.79 135.2,-6.58 151.95,-3.45 156.2,-2.69 173.2,-1.58 189.17,-0.53 193.28,0 209.2,-1.58 244.14,-5.04 283.49,-13.8 309.91,-20.42\"/>\n",
       "<polygon fill=\"#858585\" stroke=\"#858585\" points=\"309.15,-23.84 319.7,-22.92 310.88,-17.05 309.15,-23.84\"/>\n",
       "<text text-anchor=\"middle\" x=\"238.2\" y=\"-11.38\" font-family=\"Lato\" font-size=\"14.00\" fill=\"#858585\">0.5</text>\n",
       "</g>\n",
       "<!-- 3_r -->\n",
       "<g id=\"node9\" class=\"node\">\n",
       "<title>3_r</title>\n",
       "<ellipse fill=\"#858585\" stroke=\"black\" cx=\"425\" cy=\"-28.58\" rx=\"3.6\" ry=\"3.6\"/>\n",
       "</g>\n",
       "<!-- 3&#45;&gt;3_r -->\n",
       "<g id=\"edge11\" class=\"edge\">\n",
       "<title>3&#45;&gt;3_r</title>\n",
       "<path fill=\"none\" stroke=\"black\" d=\"M363.41,-28.58C378.43,-28.58 398.17,-28.58 410.96,-28.58\"/>\n",
       "<polygon fill=\"none\" stroke=\"black\" points=\"411.02,-32.08 421.02,-28.58 411.02,-25.08 411.02,-32.08\"/>\n",
       "<text text-anchor=\"middle\" x=\"392.4\" y=\"-32.38\" font-family=\"Lato\" font-size=\"14.00\">r: 3</text>\n",
       "</g>\n",
       "<!-- 1_r&#45;&gt;3 -->\n",
       "<g id=\"edge8\" class=\"edge\">\n",
       "<title>1_r&#45;&gt;3</title>\n",
       "<path fill=\"none\" stroke=\"#858585\" d=\"M274.41,-28.58C280.27,-28.58 295.12,-28.58 309.25,-28.58\"/>\n",
       "<polygon fill=\"#858585\" stroke=\"#858585\" points=\"309.27,-32.08 319.27,-28.58 309.27,-25.08 309.27,-32.08\"/>\n",
       "<text text-anchor=\"middle\" x=\"296.9\" y=\"-32.38\" font-family=\"Lato\" font-size=\"14.00\" fill=\"#858585\">1</text>\n",
       "</g>\n",
       "<!-- 2_r&#45;&gt;3 -->\n",
       "<g id=\"edge10\" class=\"edge\">\n",
       "<title>2_r&#45;&gt;3</title>\n",
       "<path fill=\"none\" stroke=\"#858585\" d=\"M274.41,-70.91C280.91,-66.73 298.45,-55.48 313.81,-45.63\"/>\n",
       "<polygon fill=\"#858585\" stroke=\"#858585\" points=\"315.98,-48.4 322.51,-40.05 312.2,-42.51 315.98,-48.4\"/>\n",
       "<text text-anchor=\"middle\" x=\"296.9\" y=\"-62.38\" font-family=\"Lato\" font-size=\"14.00\" fill=\"#858585\">1</text>\n",
       "</g>\n",
       "<!-- 3_r&#45;&gt;3 -->\n",
       "<g id=\"edge12\" class=\"edge\">\n",
       "<title>3_r&#45;&gt;3</title>\n",
       "<path fill=\"none\" stroke=\"#858585\" d=\"M422.22,-25.97C419.04,-21.59 411.92,-12.91 403.4,-9.58 392.41,-5.28 380.01,-7.84 369.28,-12.3\"/>\n",
       "<polygon fill=\"#858585\" stroke=\"#858585\" points=\"367.47,-9.29 359.98,-16.78 370.51,-15.59 367.47,-9.29\"/>\n",
       "<text text-anchor=\"middle\" x=\"392.4\" y=\"-13.38\" font-family=\"Lato\" font-size=\"14.00\" fill=\"#858585\">1</text>\n",
       "</g>\n",
       "</g>\n",
       "</svg>\n"
      ],
      "text/plain": [
       "<fimdp.core.ConsMDP at 0x7f3287cb2bb0>"
      ]
     },
     "metadata": {},
     "output_type": "display_data"
    },
    {
     "data": {
      "image/svg+xml": [
       "<svg xmlns=\"http://www.w3.org/2000/svg\" xmlns:xlink=\"http://www.w3.org/1999/xlink\" width=\"193pt\" height=\"382pt\" viewBox=\"0.00 0.00 193.14 381.80\">\n",
       "<g id=\"graph0\" class=\"graph\" transform=\"scale(1 1) rotate(0) translate(4 377.8)\">\n",
       "<title>model</title>\n",
       "<polygon fill=\"white\" stroke=\"transparent\" points=\"-4,4 -4,-377.8 189.14,-377.8 189.14,4 -4,4\"/>\n",
       "<!-- 0 -->\n",
       "<g id=\"node1\" class=\"node\">\n",
       "<title>0</title>\n",
       "<ellipse fill=\"none\" stroke=\"black\" cx=\"117.45\" cy=\"-355.8\" rx=\"34.39\" ry=\"18\"/>\n",
       "<text text-anchor=\"middle\" x=\"117.45\" y=\"-352.1\" font-family=\"Times,serif\" font-size=\"14.00\">0: {}</text>\n",
       "</g>\n",
       "<!-- 0c0 -->\n",
       "<g id=\"node5\" class=\"node\">\n",
       "<title>0c0</title>\n",
       "<ellipse fill=\"black\" stroke=\"black\" cx=\"93.45\" cy=\"-285\" rx=\"1.8\" ry=\"1.8\"/>\n",
       "</g>\n",
       "<!-- 0&#45;&gt;0c0 -->\n",
       "<g id=\"edge1\" class=\"edge\">\n",
       "<title>0-&gt;0c0</title>\n",
       "<path fill=\"none\" stroke=\"black\" d=\"M104.43,-339.03C100.46,-333.32 96.59,-326.6 94.45,-319.8 92.13,-312.45 91.93,-303.75 92.28,-297.02\"/>\n",
       "<polygon fill=\"black\" stroke=\"black\" points=\"95.78,-297.17 93.3,-286.86 88.82,-296.46 95.78,-297.17\"/>\n",
       "<text text-anchor=\"middle\" x=\"106.95\" y=\"-308.6\" font-family=\"Times,serif\" font-size=\"14.00\">{t}</text>\n",
       "</g>\n",
       "<!-- 0c1 -->\n",
       "<g id=\"node6\" class=\"node\">\n",
       "<title>0c1</title>\n",
       "<ellipse fill=\"black\" stroke=\"black\" cx=\"141.45\" cy=\"-285\" rx=\"1.8\" ry=\"1.8\"/>\n",
       "</g>\n",
       "<!-- 0&#45;&gt;0c1 -->\n",
       "<g id=\"edge4\" class=\"edge\">\n",
       "<title>0-&gt;0c1</title>\n",
       "<path fill=\"none\" stroke=\"black\" d=\"M123.38,-337.79C127.91,-324.81 134,-307.34 137.83,-296.38\"/>\n",
       "<polygon fill=\"black\" stroke=\"black\" points=\"141.18,-297.39 141.17,-286.79 134.57,-295.08 141.18,-297.39\"/>\n",
       "<text text-anchor=\"middle\" x=\"154.95\" y=\"-308.6\" font-family=\"Times,serif\" font-size=\"14.00\">{pos}</text>\n",
       "</g>\n",
       "<!-- 1 -->\n",
       "<g id=\"node2\" class=\"node\">\n",
       "<title>1</title>\n",
       "<ellipse fill=\"none\" stroke=\"black\" cx=\"121.45\" cy=\"-214.2\" rx=\"34.39\" ry=\"18\"/>\n",
       "<text text-anchor=\"middle\" x=\"121.45\" y=\"-210.5\" font-family=\"Times,serif\" font-size=\"14.00\">1: {}</text>\n",
       "</g>\n",
       "<!-- 1c0 -->\n",
       "<g id=\"node7\" class=\"node\">\n",
       "<title>1c0</title>\n",
       "<ellipse fill=\"black\" stroke=\"black\" cx=\"121.45\" cy=\"-143.4\" rx=\"1.8\" ry=\"1.8\"/>\n",
       "</g>\n",
       "<!-- 1&#45;&gt;1c0 -->\n",
       "<g id=\"edge7\" class=\"edge\">\n",
       "<title>1-&gt;1c0</title>\n",
       "<path fill=\"none\" stroke=\"black\" d=\"M121.45,-196.19C121.45,-183.66 121.45,-166.94 121.45,-155.94\"/>\n",
       "<polygon fill=\"black\" stroke=\"black\" points=\"124.95,-155.79 121.45,-145.79 117.95,-155.79 124.95,-155.79\"/>\n",
       "<text text-anchor=\"middle\" x=\"133.95\" y=\"-167\" font-family=\"Times,serif\" font-size=\"14.00\">{r}</text>\n",
       "</g>\n",
       "<!-- 2 -->\n",
       "<g id=\"node3\" class=\"node\">\n",
       "<title>2</title>\n",
       "<ellipse fill=\"none\" stroke=\"black\" cx=\"34.45\" cy=\"-214.2\" rx=\"34.39\" ry=\"18\"/>\n",
       "<text text-anchor=\"middle\" x=\"34.45\" y=\"-210.5\" font-family=\"Times,serif\" font-size=\"14.00\">2: {}</text>\n",
       "</g>\n",
       "<!-- 2c0 -->\n",
       "<g id=\"node8\" class=\"node\">\n",
       "<title>2c0</title>\n",
       "<ellipse fill=\"black\" stroke=\"black\" cx=\"77.45\" cy=\"-143.4\" rx=\"1.8\" ry=\"1.8\"/>\n",
       "</g>\n",
       "<!-- 2&#45;&gt;2c0 -->\n",
       "<g id=\"edge9\" class=\"edge\">\n",
       "<title>2-&gt;2c0</title>\n",
       "<path fill=\"none\" stroke=\"black\" d=\"M44.64,-196.9C53.01,-183.5 64.58,-164.98 71.51,-153.9\"/>\n",
       "<polygon fill=\"black\" stroke=\"black\" points=\"74.61,-155.55 76.94,-145.21 68.67,-151.84 74.61,-155.55\"/>\n",
       "<text text-anchor=\"middle\" x=\"76.95\" y=\"-167\" font-family=\"Times,serif\" font-size=\"14.00\">{r}</text>\n",
       "</g>\n",
       "<!-- 3 -->\n",
       "<g id=\"node4\" class=\"node\">\n",
       "<title>3</title>\n",
       "<ellipse fill=\"none\" stroke=\"black\" cx=\"121.45\" cy=\"-72.6\" rx=\"63.89\" ry=\"18\"/>\n",
       "<text text-anchor=\"middle\" x=\"121.45\" y=\"-68.9\" font-family=\"Times,serif\" font-size=\"14.00\">3: {reload}</text>\n",
       "</g>\n",
       "<!-- 3c0 -->\n",
       "<g id=\"node9\" class=\"node\">\n",
       "<title>3c0</title>\n",
       "<ellipse fill=\"black\" stroke=\"black\" cx=\"121.45\" cy=\"-1.8\" rx=\"1.8\" ry=\"1.8\"/>\n",
       "</g>\n",
       "<!-- 3&#45;&gt;3c0 -->\n",
       "<g id=\"edge11\" class=\"edge\">\n",
       "<title>3-&gt;3c0</title>\n",
       "<path fill=\"none\" stroke=\"black\" d=\"M107.58,-54.8C103.87,-49.33 100.36,-43.01 98.45,-36.6 96.54,-30.21 95.59,-27.62 98.45,-21.6 101.13,-15.94 106.45,-11.42 111.29,-8.23\"/>\n",
       "<polygon fill=\"black\" stroke=\"black\" points=\"113.2,-11.17 120.29,-3.3 109.84,-5.04 113.2,-11.17\"/>\n",
       "<text text-anchor=\"middle\" x=\"110.95\" y=\"-25.4\" font-family=\"Times,serif\" font-size=\"14.00\">{r}</text>\n",
       "</g>\n",
       "<!-- 0c0&#45;&gt;1 -->\n",
       "<g id=\"edge2\" class=\"edge\">\n",
       "<title>0c0-&gt;1</title>\n",
       "<path fill=\"none\" stroke=\"black\" d=\"M93.68,-283.15C94.73,-279.28 99.28,-263.02 104.45,-250.2 105.69,-247.13 107.07,-243.95 108.51,-240.82\"/>\n",
       "<polygon fill=\"black\" stroke=\"black\" points=\"111.7,-242.26 112.84,-231.72 105.38,-239.24 111.7,-242.26\"/>\n",
       "<text text-anchor=\"middle\" x=\"115.95\" y=\"-254\" font-family=\"Times,serif\" font-size=\"14.00\">0.5</text>\n",
       "</g>\n",
       "<!-- 0c0&#45;&gt;2 -->\n",
       "<g id=\"edge3\" class=\"edge\">\n",
       "<title>0c0-&gt;2</title>\n",
       "<path fill=\"none\" stroke=\"black\" d=\"M92.55,-283.35C89.42,-281.06 78.85,-273.14 71.45,-265.2 64.23,-257.46 57.12,-248.32 51.09,-239.99\"/>\n",
       "<polygon fill=\"black\" stroke=\"black\" points=\"53.86,-237.85 45.24,-231.69 48.14,-241.88 53.86,-237.85\"/>\n",
       "<text text-anchor=\"middle\" x=\"82.95\" y=\"-254\" font-family=\"Times,serif\" font-size=\"14.00\">0.5</text>\n",
       "</g>\n",
       "<!-- 0c1&#45;&gt;1 -->\n",
       "<g id=\"edge5\" class=\"edge\">\n",
       "<title>0c1-&gt;1</title>\n",
       "<path fill=\"none\" stroke=\"black\" d=\"M141.16,-283.03C139.85,-278.51 134.2,-259.08 129.29,-242.17\"/>\n",
       "<polygon fill=\"black\" stroke=\"black\" points=\"132.52,-240.74 126.36,-232.12 125.79,-242.7 132.52,-240.74\"/>\n",
       "<text text-anchor=\"middle\" x=\"146.95\" y=\"-254\" font-family=\"Times,serif\" font-size=\"14.00\">0.5</text>\n",
       "</g>\n",
       "<!-- 0c1&#45;&gt;3 -->\n",
       "<g id=\"edge6\" class=\"edge\">\n",
       "<title>0c1-&gt;3</title>\n",
       "<path fill=\"none\" stroke=\"black\" d=\"M142.49,-283.46C146.06,-281.56 157.84,-274.71 162.45,-265.2 175.81,-237.58 169.33,-226.49 164.45,-196.2 158.89,-161.75 144.35,-124.17 133.71,-99.82\"/>\n",
       "<polygon fill=\"black\" stroke=\"black\" points=\"136.84,-98.25 129.57,-90.55 130.45,-101.11 136.84,-98.25\"/>\n",
       "<text text-anchor=\"middle\" x=\"171.95\" y=\"-167\" font-family=\"Times,serif\" font-size=\"14.00\">0.5</text>\n",
       "</g>\n",
       "<!-- 1c0&#45;&gt;3 -->\n",
       "<g id=\"edge8\" class=\"edge\">\n",
       "<title>1c0-&gt;3</title>\n",
       "<path fill=\"none\" stroke=\"black\" d=\"M121.45,-141.43C121.45,-136.94 121.45,-117.71 121.45,-100.87\"/>\n",
       "<polygon fill=\"black\" stroke=\"black\" points=\"124.95,-100.84 121.45,-90.84 117.95,-100.84 124.95,-100.84\"/>\n",
       "<text text-anchor=\"middle\" x=\"126.45\" y=\"-112.4\" font-family=\"Times,serif\" font-size=\"14.00\">1</text>\n",
       "</g>\n",
       "<!-- 2c0&#45;&gt;3 -->\n",
       "<g id=\"edge10\" class=\"edge\">\n",
       "<title>2c0-&gt;3</title>\n",
       "<path fill=\"none\" stroke=\"black\" d=\"M77.94,-141.63C80.64,-137.4 93.91,-116.66 105.09,-99.17\"/>\n",
       "<polygon fill=\"black\" stroke=\"black\" points=\"108.24,-100.74 110.68,-90.43 102.35,-96.97 108.24,-100.74\"/>\n",
       "<text text-anchor=\"middle\" x=\"102.45\" y=\"-112.4\" font-family=\"Times,serif\" font-size=\"14.00\">1</text>\n",
       "</g>\n",
       "<!-- 3c0&#45;&gt;3 -->\n",
       "<g id=\"edge12\" class=\"edge\">\n",
       "<title>3c0-&gt;3</title>\n",
       "<path fill=\"none\" stroke=\"black\" d=\"M121.59,-3.82C121.99,-6.63 123.09,-14.78 123.45,-21.6 123.84,-28.94 123.75,-36.9 123.46,-44.26\"/>\n",
       "<polygon fill=\"black\" stroke=\"black\" points=\"119.95,-44.3 122.92,-54.47 126.94,-44.67 119.95,-44.3\"/>\n",
       "<text text-anchor=\"middle\" x=\"128.45\" y=\"-25.4\" font-family=\"Times,serif\" font-size=\"14.00\">1</text>\n",
       "</g>\n",
       "</g>\n",
       "</svg>"
      ],
      "text/plain": [
       "<IPython.core.display.SVG object>"
      ]
     },
     "metadata": {},
     "output_type": "display_data"
    }
   ],
   "source": [
    "display(m, display_storm(storm))"
   ]
  },
  {
   "cell_type": "markdown",
   "metadata": {},
   "source": [
    "We can also encode the target states."
   ]
  },
  {
   "cell_type": "code",
   "execution_count": 9,
   "metadata": {},
   "outputs": [
    {
     "name": "stdout",
     "output_type": "stream",
     "text": [
      "{1, 2}\n"
     ]
    },
    {
     "data": {
      "image/svg+xml": [
       "<svg xmlns=\"http://www.w3.org/2000/svg\" xmlns:xlink=\"http://www.w3.org/1999/xlink\" width=\"303pt\" height=\"382pt\" viewBox=\"0.00 0.00 303.04 381.80\">\n",
       "<g id=\"graph0\" class=\"graph\" transform=\"scale(1 1) rotate(0) translate(4 377.8)\">\n",
       "<title>model</title>\n",
       "<polygon fill=\"white\" stroke=\"transparent\" points=\"-4,4 -4,-377.8 299.04,-377.8 299.04,4 -4,4\"/>\n",
       "<!-- 0 -->\n",
       "<g id=\"node1\" class=\"node\">\n",
       "<title>0</title>\n",
       "<ellipse fill=\"none\" stroke=\"black\" cx=\"206.04\" cy=\"-355.8\" rx=\"34.39\" ry=\"18\"/>\n",
       "<text text-anchor=\"middle\" x=\"206.04\" y=\"-352.1\" font-family=\"Times,serif\" font-size=\"14.00\">0: {}</text>\n",
       "</g>\n",
       "<!-- 0c0 -->\n",
       "<g id=\"node5\" class=\"node\">\n",
       "<title>0c0</title>\n",
       "<ellipse fill=\"black\" stroke=\"black\" cx=\"182.04\" cy=\"-285\" rx=\"1.8\" ry=\"1.8\"/>\n",
       "</g>\n",
       "<!-- 0&#45;&gt;0c0 -->\n",
       "<g id=\"edge1\" class=\"edge\">\n",
       "<title>0-&gt;0c0</title>\n",
       "<path fill=\"none\" stroke=\"black\" d=\"M193.02,-339.03C189.06,-333.32 185.19,-326.6 183.04,-319.8 180.73,-312.45 180.52,-303.75 180.87,-297.02\"/>\n",
       "<polygon fill=\"black\" stroke=\"black\" points=\"184.38,-297.17 181.9,-286.86 177.41,-296.46 184.38,-297.17\"/>\n",
       "<text text-anchor=\"middle\" x=\"195.54\" y=\"-308.6\" font-family=\"Times,serif\" font-size=\"14.00\">{t}</text>\n",
       "</g>\n",
       "<!-- 0c1 -->\n",
       "<g id=\"node6\" class=\"node\">\n",
       "<title>0c1</title>\n",
       "<ellipse fill=\"black\" stroke=\"black\" cx=\"230.04\" cy=\"-285\" rx=\"1.8\" ry=\"1.8\"/>\n",
       "</g>\n",
       "<!-- 0&#45;&gt;0c1 -->\n",
       "<g id=\"edge4\" class=\"edge\">\n",
       "<title>0-&gt;0c1</title>\n",
       "<path fill=\"none\" stroke=\"black\" d=\"M211.98,-337.79C216.51,-324.81 222.6,-307.34 226.42,-296.38\"/>\n",
       "<polygon fill=\"black\" stroke=\"black\" points=\"229.78,-297.39 229.77,-286.79 223.17,-295.08 229.78,-297.39\"/>\n",
       "<text text-anchor=\"middle\" x=\"243.54\" y=\"-308.6\" font-family=\"Times,serif\" font-size=\"14.00\">{pos}</text>\n",
       "</g>\n",
       "<!-- 1 -->\n",
       "<g id=\"node2\" class=\"node\">\n",
       "<title>1</title>\n",
       "<ellipse fill=\"none\" stroke=\"black\" cx=\"207.04\" cy=\"-214.2\" rx=\"63.09\" ry=\"18\"/>\n",
       "<text text-anchor=\"middle\" x=\"207.04\" y=\"-210.5\" font-family=\"Times,serif\" font-size=\"14.00\">1: {target}</text>\n",
       "</g>\n",
       "<!-- 1c0 -->\n",
       "<g id=\"node7\" class=\"node\">\n",
       "<title>1c0</title>\n",
       "<ellipse fill=\"black\" stroke=\"black\" cx=\"207.04\" cy=\"-143.4\" rx=\"1.8\" ry=\"1.8\"/>\n",
       "</g>\n",
       "<!-- 1&#45;&gt;1c0 -->\n",
       "<g id=\"edge7\" class=\"edge\">\n",
       "<title>1-&gt;1c0</title>\n",
       "<path fill=\"none\" stroke=\"black\" d=\"M207.04,-196.19C207.04,-183.66 207.04,-166.94 207.04,-155.94\"/>\n",
       "<polygon fill=\"black\" stroke=\"black\" points=\"210.54,-155.79 207.04,-145.79 203.54,-155.79 210.54,-155.79\"/>\n",
       "<text text-anchor=\"middle\" x=\"219.54\" y=\"-167\" font-family=\"Times,serif\" font-size=\"14.00\">{r}</text>\n",
       "</g>\n",
       "<!-- 2 -->\n",
       "<g id=\"node3\" class=\"node\">\n",
       "<title>2</title>\n",
       "<ellipse fill=\"none\" stroke=\"black\" cx=\"63.04\" cy=\"-214.2\" rx=\"63.09\" ry=\"18\"/>\n",
       "<text text-anchor=\"middle\" x=\"63.04\" y=\"-210.5\" font-family=\"Times,serif\" font-size=\"14.00\">2: {target}</text>\n",
       "</g>\n",
       "<!-- 2c0 -->\n",
       "<g id=\"node8\" class=\"node\">\n",
       "<title>2c0</title>\n",
       "<ellipse fill=\"black\" stroke=\"black\" cx=\"163.04\" cy=\"-143.4\" rx=\"1.8\" ry=\"1.8\"/>\n",
       "</g>\n",
       "<!-- 2&#45;&gt;2c0 -->\n",
       "<g id=\"edge9\" class=\"edge\">\n",
       "<title>2-&gt;2c0</title>\n",
       "<path fill=\"none\" stroke=\"black\" d=\"M86.24,-197.24C107.57,-182.57 138.15,-161.53 153.49,-150.97\"/>\n",
       "<polygon fill=\"black\" stroke=\"black\" points=\"155.6,-153.77 161.85,-145.22 151.63,-148.01 155.6,-153.77\"/>\n",
       "<text text-anchor=\"middle\" x=\"145.54\" y=\"-167\" font-family=\"Times,serif\" font-size=\"14.00\">{r}</text>\n",
       "</g>\n",
       "<!-- 3 -->\n",
       "<g id=\"node4\" class=\"node\">\n",
       "<title>3</title>\n",
       "<ellipse fill=\"none\" stroke=\"black\" cx=\"207.04\" cy=\"-72.6\" rx=\"63.89\" ry=\"18\"/>\n",
       "<text text-anchor=\"middle\" x=\"207.04\" y=\"-68.9\" font-family=\"Times,serif\" font-size=\"14.00\">3: {reload}</text>\n",
       "</g>\n",
       "<!-- 3c0 -->\n",
       "<g id=\"node9\" class=\"node\">\n",
       "<title>3c0</title>\n",
       "<ellipse fill=\"black\" stroke=\"black\" cx=\"207.04\" cy=\"-1.8\" rx=\"1.8\" ry=\"1.8\"/>\n",
       "</g>\n",
       "<!-- 3&#45;&gt;3c0 -->\n",
       "<g id=\"edge11\" class=\"edge\">\n",
       "<title>3-&gt;3c0</title>\n",
       "<path fill=\"none\" stroke=\"black\" d=\"M193.18,-54.8C189.47,-49.33 185.96,-43.01 184.04,-36.6 182.13,-30.21 181.19,-27.62 184.04,-21.6 186.73,-15.94 192.05,-11.42 196.89,-8.23\"/>\n",
       "<polygon fill=\"black\" stroke=\"black\" points=\"198.8,-11.17 205.88,-3.3 195.43,-5.04 198.8,-11.17\"/>\n",
       "<text text-anchor=\"middle\" x=\"196.54\" y=\"-25.4\" font-family=\"Times,serif\" font-size=\"14.00\">{r}</text>\n",
       "</g>\n",
       "<!-- 0c0&#45;&gt;1 -->\n",
       "<g id=\"edge2\" class=\"edge\">\n",
       "<title>0c0-&gt;1</title>\n",
       "<path fill=\"none\" stroke=\"black\" d=\"M182.26,-283.15C183.23,-279.3 187.39,-263.09 192.04,-250.2 193.05,-247.4 194.17,-244.51 195.33,-241.63\"/>\n",
       "<polygon fill=\"black\" stroke=\"black\" points=\"198.68,-242.71 199.31,-232.13 192.22,-240 198.68,-242.71\"/>\n",
       "<text text-anchor=\"middle\" x=\"203.54\" y=\"-254\" font-family=\"Times,serif\" font-size=\"14.00\">0.5</text>\n",
       "</g>\n",
       "<!-- 0c0&#45;&gt;2 -->\n",
       "<g id=\"edge3\" class=\"edge\">\n",
       "<title>0c0-&gt;2</title>\n",
       "<path fill=\"none\" stroke=\"black\" d=\"M180.71,-283.23C172.69,-278.59 130.25,-254.06 98.63,-235.77\"/>\n",
       "<polygon fill=\"black\" stroke=\"black\" points=\"100.03,-232.54 89.62,-230.57 96.53,-238.6 100.03,-232.54\"/>\n",
       "<text text-anchor=\"middle\" x=\"157.54\" y=\"-254\" font-family=\"Times,serif\" font-size=\"14.00\">0.5</text>\n",
       "</g>\n",
       "<!-- 0c1&#45;&gt;1 -->\n",
       "<g id=\"edge5\" class=\"edge\">\n",
       "<title>0c1-&gt;1</title>\n",
       "<path fill=\"none\" stroke=\"black\" d=\"M229.72,-283.03C228.2,-278.49 221.67,-258.95 216,-241.99\"/>\n",
       "<polygon fill=\"black\" stroke=\"black\" points=\"219.3,-240.82 212.81,-232.44 212.66,-243.04 219.3,-240.82\"/>\n",
       "<text text-anchor=\"middle\" x=\"234.54\" y=\"-254\" font-family=\"Times,serif\" font-size=\"14.00\">0.5</text>\n",
       "</g>\n",
       "<!-- 0c1&#45;&gt;3 -->\n",
       "<g id=\"edge6\" class=\"edge\">\n",
       "<title>0c1-&gt;3</title>\n",
       "<path fill=\"none\" stroke=\"black\" d=\"M230.99,-283.43C236.9,-279.78 268.91,-259.07 279.04,-232.2 284.69,-217.23 283.24,-211.64 279.04,-196.2 269.01,-159.29 244.74,-122.14 227.15,-98.57\"/>\n",
       "<polygon fill=\"black\" stroke=\"black\" points=\"229.85,-96.35 221,-90.52 224.29,-100.59 229.85,-96.35\"/>\n",
       "<text text-anchor=\"middle\" x=\"283.54\" y=\"-167\" font-family=\"Times,serif\" font-size=\"14.00\">0.5</text>\n",
       "</g>\n",
       "<!-- 1c0&#45;&gt;3 -->\n",
       "<g id=\"edge8\" class=\"edge\">\n",
       "<title>1c0-&gt;3</title>\n",
       "<path fill=\"none\" stroke=\"black\" d=\"M207.04,-141.43C207.04,-136.94 207.04,-117.71 207.04,-100.87\"/>\n",
       "<polygon fill=\"black\" stroke=\"black\" points=\"210.54,-100.84 207.04,-90.84 203.54,-100.84 210.54,-100.84\"/>\n",
       "<text text-anchor=\"middle\" x=\"212.04\" y=\"-112.4\" font-family=\"Times,serif\" font-size=\"14.00\">1</text>\n",
       "</g>\n",
       "<!-- 2c0&#45;&gt;3 -->\n",
       "<g id=\"edge10\" class=\"edge\">\n",
       "<title>2c0-&gt;3</title>\n",
       "<path fill=\"none\" stroke=\"black\" d=\"M163.54,-141.63C166.24,-137.4 179.51,-116.66 190.69,-99.17\"/>\n",
       "<polygon fill=\"black\" stroke=\"black\" points=\"193.84,-100.74 196.28,-90.43 187.94,-96.97 193.84,-100.74\"/>\n",
       "<text text-anchor=\"middle\" x=\"188.04\" y=\"-112.4\" font-family=\"Times,serif\" font-size=\"14.00\">1</text>\n",
       "</g>\n",
       "<!-- 3c0&#45;&gt;3 -->\n",
       "<g id=\"edge12\" class=\"edge\">\n",
       "<title>3c0-&gt;3</title>\n",
       "<path fill=\"none\" stroke=\"black\" d=\"M207.19,-3.82C207.59,-6.63 208.68,-14.78 209.04,-21.6 209.43,-28.94 209.35,-36.9 209.06,-44.26\"/>\n",
       "<polygon fill=\"black\" stroke=\"black\" points=\"205.55,-44.3 208.52,-54.47 212.54,-44.67 205.55,-44.3\"/>\n",
       "<text text-anchor=\"middle\" x=\"214.04\" y=\"-25.4\" font-family=\"Times,serif\" font-size=\"14.00\">1</text>\n",
       "</g>\n",
       "</g>\n",
       "</svg>"
      ],
      "text/plain": [
       "<IPython.core.display.SVG object>"
      ]
     },
     "execution_count": 9,
     "metadata": {},
     "output_type": "execute_result"
    }
   ],
   "source": [
    "print(T)\n",
    "display_storm(consmdp_to_storm_consmdp(m, T))"
   ]
  },
  {
   "cell_type": "markdown",
   "metadata": {},
   "source": [
    "Let's see if the conversion back works as expected."
   ]
  },
  {
   "cell_type": "code",
   "execution_count": 10,
   "metadata": {},
   "outputs": [
    {
     "data": {
      "text/plain": [
       "False"
      ]
     },
     "execution_count": 10,
     "metadata": {},
     "output_type": "execute_result"
    }
   ],
   "source": [
    "m.get_dot() == storm_sparsemdp_to_consmdp(storm).get_dot()"
   ]
  },
  {
   "cell_type": "markdown",
   "metadata": {},
   "source": [
    "Analogously to the PRISM models, we can also read the target states back from the Storm's representation of ConsMDPs."
   ]
  },
  {
   "cell_type": "code",
   "execution_count": 11,
   "metadata": {},
   "outputs": [
    {
     "data": {
      "text/plain": [
       "True"
      ]
     },
     "execution_count": 11,
     "metadata": {},
     "output_type": "execute_result"
    }
   ],
   "source": [
    "st_targets = consmdp_to_storm_consmdp(m, T)\n",
    "mdp, st_T = storm_sparsemdp_to_consmdp(st_targets, return_targets=True)\n",
    "set(st_T) == T"
   ]
  },
  {
   "cell_type": "markdown",
   "metadata": {},
   "source": [
    "## Encoding energy into state-space using FiMDP\n",
    "If we want to analyze consumption MDPs in Storm, we need to encode the energy explicitly into the state-space. This means, for different capacity values we have different MDPs. We can achieve that with the function `fimdp.explicit.product_energy` and then with the `consmdp_to_storm_consmdp` function discussed above. Let's illustrate that on the grid-world example. The explicit encoding increases, of course, the number of states."
   ]
  },
  {
   "cell_type": "code",
   "execution_count": 12,
   "metadata": {},
   "outputs": [],
   "source": [
    "from fimdp.explicit import product_energy"
   ]
  },
  {
   "cell_type": "code",
   "execution_count": 13,
   "metadata": {},
   "outputs": [],
   "source": [
    "mdp, targets = prism_to_consmdp(\"gw.prism\", return_targets=True)\n",
    "capacity = parse_cap_from_prism(\"gw.prism\")\n",
    "product, product_targets = product_energy(mdp, capacity, targets)\n",
    "storm_mdp = consmdp_to_storm_consmdp(product, product_targets)"
   ]
  },
  {
   "cell_type": "code",
   "execution_count": 14,
   "metadata": {},
   "outputs": [
    {
     "name": "stdout",
     "output_type": "stream",
     "text": [
      "The number of states in the consumption MDP: 100\n",
      "The number of states in the explicit MDP: 2081\n",
      "The number of states in the explicit MDP in Storm: 2081\n"
     ]
    }
   ],
   "source": [
    "print(f\"The number of states in the consumption MDP: {mdp.num_states}\")\n",
    "print(f\"The number of states in the explicit MDP: {product.num_states}\")\n",
    "print(f\"The number of states in the explicit MDP in Storm: {storm_mdp.nr_states}\")"
   ]
  },
  {
   "cell_type": "markdown",
   "metadata": {},
   "source": [
    "This workflow is implemented in function `fimdp.io.encode_to_stormpy` which takes the original ConsMDP, capacity, and targets and returns the storm explicit encoding of the Consumption MDP"
   ]
  },
  {
   "cell_type": "code",
   "execution_count": 15,
   "metadata": {},
   "outputs": [
    {
     "name": "stdout",
     "output_type": "stream",
     "text": [
      "The number of states in the explicit MDP in Storm: 2081\n"
     ]
    }
   ],
   "source": [
    "from fimdp.io import encode_to_stormpy\n",
    "storm_mdp = encode_to_stormpy(mdp, capacity, targets)\n",
    "print(f\"The number of states in the explicit MDP in Storm: {storm_mdp.nr_states}\")"
   ]
  },
  {
   "cell_type": "markdown",
   "metadata": {},
   "source": [
    "We are now ready to analyze the product using stormpy. Let's check the almost-sure reachability (and survival) which can be expressed by the following [PCTL] formula. Intuitivelly, we ask if we can achieve the probability 1 of eventually (`F`) visiting a state labeled with the label `\"target\"` and such that we can, with probability 1 survive from that state. The survival is encoded by visiting _reload_ states infinitely often (always eventually = `GF`).\n",
    "\n",
    "[PCTL]: https://www.stormchecker.org/documentation/background/properties.html"
   ]
  },
  {
   "cell_type": "code",
   "execution_count": 16,
   "metadata": {},
   "outputs": [],
   "source": [
    "formula = 'Pmax>=1 [F \"target\" & Pmax>=1 [F \"reload\"]]'\n",
    "prop = stormpy.parse_properties(formula)"
   ]
  },
  {
   "cell_type": "code",
   "execution_count": 17,
   "metadata": {},
   "outputs": [],
   "source": [
    "storm_result = stormpy.model_checking(storm_mdp, prop[0])"
   ]
  },
  {
   "cell_type": "markdown",
   "metadata": {},
   "source": [
    "Let's now check if the results agree with the ones achieved by FiMDP. We do that by checking whether Storm claims the validity of the formula exactly for the states of the product with the form `(s,e)`, where `e` is the energy and is at least equal to the value returned by the FiMDP solver for `s`."
   ]
  },
  {
   "cell_type": "code",
   "execution_count": 18,
   "metadata": {},
   "outputs": [],
   "source": [
    "from fimdp.objectives import AS_REACH\n",
    "from fimdp.energy_solvers import BasicES\n",
    "solver = BasicES(mdp, capacity, targets)\n",
    "\n",
    "fimdp_res = solver.get_min_levels(AS_REACH)\n",
    "\n",
    "for s in range(product.num_states):\n",
    "    state, energy = product.components[s]\n",
    "    if energy == \"-∞\":\n",
    "        assert not storm_result.at(s)\n",
    "        continue\n",
    "    assert storm_result.at(s) == (int(energy) >= solver.get_min_levels(AS_REACH)[state])"
   ]
  },
  {
   "cell_type": "markdown",
   "metadata": {},
   "source": [
    "## Encoding energy into state-space in the PRISM model\n",
    "The encoding can be added simply to our model through the synchronization of modules in PRISM models. To be more concrete, we add a new module, called `energy` into our model. In this module, we model how energy is treated in consumption MDPs. An action decreases the energy level and it can only be taken if the energy level would not drop below 0 after the action. Also, the energy is replenished in reload states."
   ]
  },
  {
   "cell_type": "markdown",
   "metadata": {},
   "source": [
    "For our example, the `energy` module can look like this. The actions of the `energy` module synchronize with the actions of the `movement` module with the same label. The effect on energy depends on whether or not we are in a reload state."
   ]
  },
  {
   "cell_type": "raw",
   "metadata": {},
   "source": [
    "// Conditions for weak and strong actions\n",
    "formula allowed_w = (e-cons_w >=0);\n",
    "formula allowed_s = (e-cons_s >=0);\n",
    "formula allowed_w_r = (capacity-cons_w >=0);\n",
    "formula allowed_s_r = (capacity-cons_s >=0);\n",
    "\n",
    "module energy\n",
    "  e : [0..capacity] init capacity;\n",
    "\n",
    "  // NO RELOADS\n",
    "  [strong_north] !is_reload & allowed_s -> (e'=e-cons_s);\n",
    "  [strong_south] !is_reload & allowed_s -> (e'=e-cons_s);\n",
    "  [strong_east] !is_reload & allowed_s -> (e'=e-cons_s);\n",
    "  [strong_west] !is_reload & allowed_s -> (e'=e-cons_s);\n",
    "  [north] !is_reload & allowed_w -> (e'=e-cons_w);\n",
    "  [south] !is_reload & allowed_w -> (e'=e-cons_w);\n",
    "  [east] !is_reload & allowed_w -> (e'=e-cons_w);\n",
    "  [west] !is_reload & allowed_w -> (e'=e-cons_w);\n",
    "\n",
    "  //RELOADS\n",
    "  [strong_north] is_reload & allowed_s_r -> (e'=capacity-cons_s);\n",
    "  [strong_south] is_reload & allowed_s_r -> (e'=capacity-cons_s);\n",
    "  [strong_east] is_reload & allowed_s_r -> (e'=capacity-cons_s);\n",
    "  [strong_west] is_reload & allowed_s_r -> (e'=capacity-cons_s);\n",
    "  [north] is_reload & allowed_w_r -> (e'=capacity-cons_w);\n",
    "  [south] is_reload & allowed_w_r -> (e'=capacity-cons_w);\n",
    "  [east] is_reload & allowed_w_r -> (e'=capacity-cons_w);\n",
    "  [west] is_reload & allowed_w_r -> (e'=capacity-cons_w);\n",
    "endmodule"
   ]
  },
  {
   "cell_type": "markdown",
   "metadata": {},
   "source": [
    "The full model is defined below. Of course, we do not longer need the `consumption` reward."
   ]
  },
  {
   "cell_type": "code",
   "execution_count": 19,
   "metadata": {},
   "outputs": [
    {
     "name": "stdout",
     "output_type": "stream",
     "text": [
      "Overwriting gw_explicit.prism\n"
     ]
    }
   ],
   "source": [
    "%%writefile gw_explicit.prism\n",
    "mdp\n",
    "\n",
    "const int size_x = 10;\n",
    "const int size_y = 10;\n",
    "\n",
    "const int capacity = 18;\n",
    "\n",
    "const int cons_w = 1;\n",
    "const int cons_s = 3;\n",
    "\n",
    "const int border_x = size_x-1;\n",
    "const int border_y = size_y-1;\n",
    "\n",
    "formula is_reload = (x=round(border_x/2) & y=round(border_y/2)) |\n",
    "                    (x=5 & y=5) |\n",
    "                    (x=round(border_x/3) & mod(y,15)=7);\n",
    "\n",
    "const double succ_p = 0.9;\n",
    "const double fail_left_p = 0.04;\n",
    "const double fail_right_p = 0.06;\n",
    "\n",
    "\n",
    "// Conditions for hitting walls — robot\n",
    "formula wall_north = (y = border_y);\n",
    "formula wall_east = (x = border_x); \n",
    "formula wall_south = (y = 0);\n",
    "formula wall_west = (x = 0);\n",
    "\n",
    "// Conditions for weak and strong actions\n",
    "formula allowed_w = (e-cons_w >=0);\n",
    "formula allowed_s = (e-cons_s >=0);\n",
    "formula allowed_w_r = (capacity-cons_w >=0);\n",
    "formula allowed_s_r = (capacity-cons_s >=0);\n",
    "\n",
    "module movement\n",
    "  x : [0..size_x-1] init 0;\n",
    "  y : [0..size_y-1] init 0;\n",
    "\n",
    "  [strong_north] !wall_north -> (y'=y+1);\n",
    "  [north] !wall_north & !wall_east & !wall_west ->\n",
    "\tsucc_p: (y'=y+1) + \n",
    "\tfail_left_p: (y'=y+1)&(x'=x-1) + \n",
    "\tfail_right_p: (y'=y+1)&(x'=x+1);\n",
    "  [north] !wall_north &  wall_east & !wall_west ->\n",
    "\tsucc_p: (y'=y+1) + \n",
    "\t1-succ_p: (y'=y+1)&(x'=x-1); \n",
    "  [north] !wall_north & !wall_east &  wall_west ->\n",
    "\tsucc_p: (y'=y+1) + \n",
    "\t1-succ_p: (y'=y+1)&(x'=x+1);\n",
    "\n",
    "  [strong_south] !wall_south -> (y'=y-1);\n",
    "  [south] !wall_south & !wall_east & !wall_west -> \n",
    "\tsucc_p: (y'=y-1) + \n",
    "\tfail_left_p: (y'=y-1)&(x'=x-1) + \n",
    "\tfail_right_p: (y'=y-1)&(x'=x+1);\n",
    "  [south] !wall_south &  wall_east & !wall_west -> \n",
    "\tsucc_p: (y'=y-1) + \n",
    "\t1-succ_p: (y'=y-1)&(x'=x-1); \n",
    "  [south] !wall_south & !wall_east &  wall_west -> \n",
    "\tsucc_p: (y'=y-1) + \n",
    "\t1-succ_p: (y'=y-1)&(x'=x+1); \n",
    "\n",
    "  [strong_east] !wall_east -> (x'=x+1);\n",
    "  [east] !wall_east & !wall_north & !wall_south -> \n",
    "\tsucc_p: (x'=x+1) + \n",
    "\tfail_left_p: (x'=x+1)&(y'=y-1) + \n",
    "\tfail_right_p: (x'=x+1)&(y'=y+1);\n",
    "  [east] !wall_east &  wall_north & !wall_south -> \n",
    "\tsucc_p: (x'=x+1) + \n",
    "\t1-succ_p: (x'=x+1)&(y'=y-1); \n",
    "  [east] !wall_east & !wall_north &  wall_south -> \n",
    "\tsucc_p: (x'=x+1) + \n",
    "\t1-succ_p: (x'=x+1)&(y'=y+1); \n",
    "\n",
    "  [strong_west] !wall_west -> (x'=x-1);\n",
    "  [west] !wall_west & !wall_north & !wall_south -> \n",
    "\tsucc_p: (x'=x-1) + \n",
    "\tfail_left_p: (x'=x-1)&(y'=y-1) + \n",
    "\tfail_right_p: (x'=x-1)&(y'=y+1);\n",
    "  [west] !wall_west &  wall_north & !wall_south -> \n",
    "\tsucc_p: (x'=x-1) + \n",
    "\t1-succ_p: (x'=x-1)&(y'=y-1); \n",
    "  [west] !wall_west & !wall_north &  wall_south -> \n",
    "\tsucc_p: (x'=x-1) + \n",
    "\t1-succ_p: (x'=x-1)&(y'=y+1); \n",
    "\n",
    "endmodule\n",
    "\n",
    "module energy\n",
    "  e : [0..capacity] init capacity;\n",
    "\n",
    "  // NO RELOADS\n",
    "  [strong_north] !is_reload & allowed_s -> (e'=e-cons_s);\n",
    "  [strong_south] !is_reload & allowed_s -> (e'=e-cons_s);\n",
    "  [strong_east] !is_reload & allowed_s -> (e'=e-cons_s);\n",
    "  [strong_west] !is_reload & allowed_s -> (e'=e-cons_s);\n",
    "  [north] !is_reload & allowed_w -> (e'=e-cons_w);\n",
    "  [south] !is_reload & allowed_w -> (e'=e-cons_w);\n",
    "  [east] !is_reload & allowed_w -> (e'=e-cons_w);\n",
    "  [west] !is_reload & allowed_w -> (e'=e-cons_w);\n",
    "\n",
    "  //RELOADS\n",
    "  [strong_north] is_reload & allowed_s_r -> (e'=capacity-cons_s);\n",
    "  [strong_south] is_reload & allowed_s_r -> (e'=capacity-cons_s);\n",
    "  [strong_east] is_reload & allowed_s_r -> (e'=capacity-cons_s);\n",
    "  [strong_west] is_reload & allowed_s_r -> (e'=capacity-cons_s);\n",
    "  [north] is_reload & allowed_w_r -> (e'=capacity-cons_w);\n",
    "  [south] is_reload & allowed_w_r -> (e'=capacity-cons_w);\n",
    "  [east] is_reload & allowed_w_r -> (e'=capacity-cons_w);\n",
    "  [west] is_reload & allowed_w_r -> (e'=capacity-cons_w);\n",
    "endmodule\n",
    "\n",
    "label \"reload\" = is_reload;\n",
    "label \"target\" = (x=border_x-2) & (y=border_y);"
   ]
  },
  {
   "cell_type": "markdown",
   "metadata": {},
   "source": [
    "This encoding yields a slightly smaller model than the one produced by FiMDP. The reason is that FiMDP does not use initial states, rather it builds the product from all states. This might change in the future."
   ]
  },
  {
   "cell_type": "code",
   "execution_count": 20,
   "metadata": {},
   "outputs": [
    {
     "data": {
      "text/plain": [
       "1642"
      ]
     },
     "execution_count": 20,
     "metadata": {},
     "output_type": "execute_result"
    }
   ],
   "source": [
    "file_ex = \"gw_explicit.prism\"\n",
    "prism_ex = stormpy.parse_prism_program(\"gw_explicit.prism\")\n",
    "storm_ex = stormpy.build_model(prism_ex)\n",
    "storm_ex.nr_states"
   ]
  },
  {
   "cell_type": "markdown",
   "metadata": {},
   "source": [
    "## Hybrid encoding in PRISM\n",
    "Now we want to describe one PRISM model, that can be used by both FiMDP and by Storm without the product built by FiMDP. The key concept here are uninitialized constants that we used to define the consumption for the explicit encoding (the `energy` module).\n",
    "```\n",
    "const int cons_w = 1;\n",
    "const int cons_s = 3;\n",
    "// Consumption for the explicit encoding of energy\n",
    "const int cons_w_ex;\n",
    "const int cons_s_ex;\n",
    "```\n",
    "\n",
    "We then have 2 possibilities how to set `cons_w_ex` and `cons_s_ex`:\n",
    " 1. both to `0`: only the grid is built and consMDP can be easily created\n",
    " 2. to `cons_w` and `cons_s`: the product is built and can be used directly by Stormpy"
   ]
  },
  {
   "cell_type": "code",
   "execution_count": 21,
   "metadata": {},
   "outputs": [
    {
     "name": "stdout",
     "output_type": "stream",
     "text": [
      "Overwriting gw_hybrid.prism\n"
     ]
    }
   ],
   "source": [
    "%%writefile gw_hybrid.prism\n",
    "mdp\n",
    "\n",
    "const int size_x = 10;\n",
    "const int size_y = 10;\n",
    "\n",
    "const int capacity = 18;\n",
    "\n",
    "const int cons_w = 1;\n",
    "const int cons_s = 3;\n",
    "// Consumption for the explicit encoding is left intentionally\n",
    "// uninitialized. When set to 0, just the grid is built,\n",
    "// if set to cons_w and cons_s, the product is built.\n",
    "const int cons_w_ex;\n",
    "const int cons_s_ex;\n",
    "\n",
    "const int border_x = size_x-1;\n",
    "const int border_y = size_y-1;\n",
    "\n",
    "formula is_reload = (x=round(border_x/2) & y=round(border_y/2)) |\n",
    "                    (x=5 & y=5) |\n",
    "                    (x=round(border_x/3) & mod(y,15)=7);\n",
    "\n",
    "const double succ_p = 0.9;\n",
    "const double fail_left_p = 0.04;\n",
    "const double fail_right_p = 0.06;\n",
    "\n",
    "\n",
    "// Conditions for hitting walls — robot\n",
    "formula wall_north = (y = border_y);\n",
    "formula wall_east = (x = border_x); \n",
    "formula wall_south = (y = 0);\n",
    "formula wall_west = (x = 0);\n",
    "\n",
    "// Conditions for weak and strong actions\n",
    "formula allowed_w = (e-cons_w_ex >=0);\n",
    "formula allowed_s = (e-cons_s_ex >=0);\n",
    "formula allowed_w_r = (capacity-cons_w_ex >=0);\n",
    "formula allowed_s_r = (capacity-cons_s_ex >=0);\n",
    "\n",
    "module movement\n",
    "  x : [0..size_x-1] init 0;\n",
    "  y : [0..size_y-1] init 0;\n",
    "\n",
    "  [strong_north] !wall_north -> (y'=y+1);\n",
    "  [north] !wall_north & !wall_east & !wall_west ->\n",
    "\tsucc_p: (y'=y+1) + \n",
    "\tfail_left_p: (y'=y+1)&(x'=x-1) + \n",
    "\tfail_right_p: (y'=y+1)&(x'=x+1);\n",
    "  [north] !wall_north &  wall_east & !wall_west ->\n",
    "\tsucc_p: (y'=y+1) + \n",
    "\t1-succ_p: (y'=y+1)&(x'=x-1); \n",
    "  [north] !wall_north & !wall_east &  wall_west ->\n",
    "\tsucc_p: (y'=y+1) + \n",
    "\t1-succ_p: (y'=y+1)&(x'=x+1);\n",
    "\n",
    "  [strong_south] !wall_south -> (y'=y-1);\n",
    "  [south] !wall_south & !wall_east & !wall_west -> \n",
    "\tsucc_p: (y'=y-1) + \n",
    "\tfail_left_p: (y'=y-1)&(x'=x-1) + \n",
    "\tfail_right_p: (y'=y-1)&(x'=x+1);\n",
    "  [south] !wall_south &  wall_east & !wall_west -> \n",
    "\tsucc_p: (y'=y-1) + \n",
    "\t1-succ_p: (y'=y-1)&(x'=x-1); \n",
    "  [south] !wall_south & !wall_east &  wall_west -> \n",
    "\tsucc_p: (y'=y-1) + \n",
    "\t1-succ_p: (y'=y-1)&(x'=x+1); \n",
    "\n",
    "  [strong_east] !wall_east -> (x'=x+1);\n",
    "  [east] !wall_east & !wall_north & !wall_south -> \n",
    "\tsucc_p: (x'=x+1) + \n",
    "\tfail_left_p: (x'=x+1)&(y'=y-1) + \n",
    "\tfail_right_p: (x'=x+1)&(y'=y+1);\n",
    "  [east] !wall_east &  wall_north & !wall_south -> \n",
    "\tsucc_p: (x'=x+1) + \n",
    "\t1-succ_p: (x'=x+1)&(y'=y-1); \n",
    "  [east] !wall_east & !wall_north &  wall_south -> \n",
    "\tsucc_p: (x'=x+1) + \n",
    "\t1-succ_p: (x'=x+1)&(y'=y+1); \n",
    "\n",
    "  [strong_west] !wall_west -> (x'=x-1);\n",
    "  [west] !wall_west & !wall_north & !wall_south -> \n",
    "\tsucc_p: (x'=x-1) + \n",
    "\tfail_left_p: (x'=x-1)&(y'=y-1) + \n",
    "\tfail_right_p: (x'=x-1)&(y'=y+1);\n",
    "  [west] !wall_west &  wall_north & !wall_south -> \n",
    "\tsucc_p: (x'=x-1) + \n",
    "\t1-succ_p: (x'=x-1)&(y'=y-1); \n",
    "  [west] !wall_west & !wall_north &  wall_south -> \n",
    "\tsucc_p: (x'=x-1) + \n",
    "\t1-succ_p: (x'=x-1)&(y'=y+1); \n",
    "\n",
    "endmodule\n",
    "\n",
    "module energy\n",
    "  e : [0..capacity] init capacity;\n",
    "\n",
    "  // NO RELOADS\n",
    "  [strong_north] !is_reload & allowed_s -> (e'=e-cons_s_ex);\n",
    "  [strong_south] !is_reload & allowed_s -> (e'=e-cons_s_ex);\n",
    "  [strong_east] !is_reload & allowed_s -> (e'=e-cons_s_ex);\n",
    "  [strong_west] !is_reload & allowed_s -> (e'=e-cons_s_ex);\n",
    "  [north] !is_reload & allowed_w -> (e'=e-cons_w_ex);\n",
    "  [south] !is_reload & allowed_w -> (e'=e-cons_w_ex);\n",
    "  [east] !is_reload & allowed_w -> (e'=e-cons_w_ex);\n",
    "  [west] !is_reload & allowed_w -> (e'=e-cons_w_ex);\n",
    "\n",
    "  //RELOADS\n",
    "  [strong_north] is_reload & allowed_s_r -> (e'=capacity-cons_s_ex);\n",
    "  [strong_south] is_reload & allowed_s_r -> (e'=capacity-cons_s_ex);\n",
    "  [strong_east] is_reload & allowed_s_r -> (e'=capacity-cons_s_ex);\n",
    "  [strong_west] is_reload & allowed_s_r -> (e'=capacity-cons_s_ex);\n",
    "  [north] is_reload & allowed_w_r -> (e'=capacity-cons_w_ex);\n",
    "  [south] is_reload & allowed_w_r -> (e'=capacity-cons_w_ex);\n",
    "  [east] is_reload & allowed_w_r -> (e'=capacity-cons_w_ex);\n",
    "  [west] is_reload & allowed_w_r -> (e'=capacity-cons_w_ex);\n",
    "endmodule\n",
    "\n",
    "rewards \"consumption\"\n",
    "\t[north] true : cons_w;\n",
    "\t[south] true : cons_w;\n",
    "\t[east] true : cons_w;\n",
    "\t[west] true : cons_w;\n",
    "\t[strong_north] true : cons_s;\n",
    "\t[strong_south] true : cons_s;\n",
    "\t[strong_east] true : cons_s;\n",
    "\t[strong_west] true : cons_s;\n",
    "endrewards\n",
    "\n",
    "label \"reload\" = is_reload;\n",
    "label \"target\" = (x=border_x-2) & (y=border_y);"
   ]
  },
  {
   "cell_type": "code",
   "execution_count": 22,
   "metadata": {},
   "outputs": [],
   "source": [
    "file_hybrid = \"gw_hybrid.prism\"\n",
    "prism_hybrid = stormpy.parse_prism_program(file_hybrid)"
   ]
  },
  {
   "cell_type": "markdown",
   "metadata": {},
   "source": [
    "The `prism_hybrid` program contains the uninitialized constants. In the following cells, we create two concrete prism programs by instantiating the variables as described above.|"
   ]
  },
  {
   "cell_type": "code",
   "execution_count": 23,
   "metadata": {},
   "outputs": [],
   "source": [
    "man = prism_hybrid.expression_manager\n",
    "cons_w = man.get_variable(\"cons_w_ex\")\n",
    "cons_s = man.get_variable(\"cons_s_ex\")\n",
    "zero = man.create_integer(0)\n",
    "cons_w_ex = man.get_variable(\"cons_w\").get_expression()\n",
    "cons_s_ex = man.get_variable(\"cons_s\").get_expression()\n",
    "\n",
    "prism_consmdp = prism_hybrid.define_constants({cons_w : zero, cons_s : zero})\n",
    "storm_consmdp = stormpy.build_model(prism_consmdp)\n",
    "prism_storm = prism_hybrid.define_constants({cons_w : cons_w_ex, cons_s : cons_s_ex})\n",
    "storm_hybrid = stormpy.build_model(prism_storm)"
   ]
  },
  {
   "cell_type": "code",
   "execution_count": 24,
   "metadata": {},
   "outputs": [
    {
     "data": {
      "text/plain": [
       "100"
      ]
     },
     "execution_count": 24,
     "metadata": {},
     "output_type": "execute_result"
    }
   ],
   "source": [
    "fimdp_hybrid = storm_sparsemdp_to_consmdp(storm_consmdp)\n",
    "fimdp_hybrid.num_states"
   ]
  },
  {
   "cell_type": "code",
   "execution_count": 25,
   "metadata": {},
   "outputs": [
    {
     "data": {
      "text/plain": [
       "1642"
      ]
     },
     "execution_count": 25,
     "metadata": {},
     "output_type": "execute_result"
    }
   ],
   "source": [
    "storm_hybrid.nr_states"
   ]
  },
  {
   "cell_type": "markdown",
   "metadata": {},
   "source": [
    "### Parametric models"
   ]
  },
  {
   "cell_type": "markdown",
   "metadata": {},
   "source": [
    "With the uninitialized constants, one can even build parametric models (e.g. for the size of the grid) in the very same fashion. So let's keep the size and capacity undefined and define them later."
   ]
  },
  {
   "cell_type": "code",
   "execution_count": 26,
   "metadata": {},
   "outputs": [
    {
     "name": "stdout",
     "output_type": "stream",
     "text": [
      "Overwriting gw_param.prism\n"
     ]
    }
   ],
   "source": [
    "%%writefile gw_param.prism\n",
    "mdp\n",
    "\n",
    "const int size_x;\n",
    "const int size_y;\n",
    "\n",
    "const int capacity;\n",
    "\n",
    "const int cons_w = 1;\n",
    "const int cons_s = 3;\n",
    "// Consumption for the explicit encoding is left intentionally\n",
    "// uninitialized. When set to 0, just the grid is built,\n",
    "// if set to cons_w and cons_s, the product is built.\n",
    "const int cons_w_ex;\n",
    "const int cons_s_ex;\n",
    "\n",
    "const int border_x = size_x-1;\n",
    "const int border_y = size_y-1;\n",
    "\n",
    "formula is_reload = (x=round(border_x/2) & y=round(border_y/2)) |\n",
    "                    (x=5 & y=5) |\n",
    "                    (x=round(border_x/3) & mod(y,15)=7);\n",
    "\n",
    "const double succ_p = 0.9;\n",
    "const double fail_left_p = 0.04;\n",
    "const double fail_right_p = 0.06;\n",
    "\n",
    "\n",
    "// Conditions for hitting walls — robot\n",
    "formula wall_north = (y = border_y);\n",
    "formula wall_east = (x = border_x); \n",
    "formula wall_south = (y = 0);\n",
    "formula wall_west = (x = 0);\n",
    "\n",
    "// Conditions for weak and strong actions\n",
    "formula allowed_w = (e-cons_w_ex >=0);\n",
    "formula allowed_s = (e-cons_s_ex >=0);\n",
    "formula allowed_w_r = (capacity-cons_w_ex >=0);\n",
    "formula allowed_s_r = (capacity-cons_s_ex >=0);\n",
    "\n",
    "module movement\n",
    "  x : [0..size_x-1] init 0;\n",
    "  y : [0..size_y-1] init 0;\n",
    "\n",
    "  [strong_north] !wall_north -> (y'=y+1);\n",
    "  [north] !wall_north & !wall_east & !wall_west ->\n",
    "\tsucc_p: (y'=y+1) + \n",
    "\tfail_left_p: (y'=y+1)&(x'=x-1) + \n",
    "\tfail_right_p: (y'=y+1)&(x'=x+1);\n",
    "  [north] !wall_north &  wall_east & !wall_west ->\n",
    "\tsucc_p: (y'=y+1) + \n",
    "\t1-succ_p: (y'=y+1)&(x'=x-1); \n",
    "  [north] !wall_north & !wall_east &  wall_west ->\n",
    "\tsucc_p: (y'=y+1) + \n",
    "\t1-succ_p: (y'=y+1)&(x'=x+1);\n",
    "\n",
    "  [strong_south] !wall_south -> (y'=y-1);\n",
    "  [south] !wall_south & !wall_east & !wall_west -> \n",
    "\tsucc_p: (y'=y-1) + \n",
    "\tfail_left_p: (y'=y-1)&(x'=x-1) + \n",
    "\tfail_right_p: (y'=y-1)&(x'=x+1);\n",
    "  [south] !wall_south &  wall_east & !wall_west -> \n",
    "\tsucc_p: (y'=y-1) + \n",
    "\t1-succ_p: (y'=y-1)&(x'=x-1); \n",
    "  [south] !wall_south & !wall_east &  wall_west -> \n",
    "\tsucc_p: (y'=y-1) + \n",
    "\t1-succ_p: (y'=y-1)&(x'=x+1); \n",
    "\n",
    "  [strong_east] !wall_east -> (x'=x+1);\n",
    "  [east] !wall_east & !wall_north & !wall_south -> \n",
    "\tsucc_p: (x'=x+1) + \n",
    "\tfail_left_p: (x'=x+1)&(y'=y-1) + \n",
    "\tfail_right_p: (x'=x+1)&(y'=y+1);\n",
    "  [east] !wall_east &  wall_north & !wall_south -> \n",
    "\tsucc_p: (x'=x+1) + \n",
    "\t1-succ_p: (x'=x+1)&(y'=y-1); \n",
    "  [east] !wall_east & !wall_north &  wall_south -> \n",
    "\tsucc_p: (x'=x+1) + \n",
    "\t1-succ_p: (x'=x+1)&(y'=y+1); \n",
    "\n",
    "  [strong_west] !wall_west -> (x'=x-1);\n",
    "  [west] !wall_west & !wall_north & !wall_south -> \n",
    "\tsucc_p: (x'=x-1) + \n",
    "\tfail_left_p: (x'=x-1)&(y'=y-1) + \n",
    "\tfail_right_p: (x'=x-1)&(y'=y+1);\n",
    "  [west] !wall_west &  wall_north & !wall_south -> \n",
    "\tsucc_p: (x'=x-1) + \n",
    "\t1-succ_p: (x'=x-1)&(y'=y-1); \n",
    "  [west] !wall_west & !wall_north &  wall_south -> \n",
    "\tsucc_p: (x'=x-1) + \n",
    "\t1-succ_p: (x'=x-1)&(y'=y+1); \n",
    "\n",
    "endmodule\n",
    "\n",
    "module energy\n",
    "  e : [0..capacity] init capacity;\n",
    "\n",
    "  // NO RELOADS\n",
    "  [strong_north] !is_reload & allowed_s -> (e'=e-cons_s_ex);\n",
    "  [strong_south] !is_reload & allowed_s -> (e'=e-cons_s_ex);\n",
    "  [strong_east] !is_reload & allowed_s -> (e'=e-cons_s_ex);\n",
    "  [strong_west] !is_reload & allowed_s -> (e'=e-cons_s_ex);\n",
    "  [north] !is_reload & allowed_w -> (e'=e-cons_w_ex);\n",
    "  [south] !is_reload & allowed_w -> (e'=e-cons_w_ex);\n",
    "  [east] !is_reload & allowed_w -> (e'=e-cons_w_ex);\n",
    "  [west] !is_reload & allowed_w -> (e'=e-cons_w_ex);\n",
    "\n",
    "  //RELOADS\n",
    "  [strong_north] is_reload & allowed_s_r -> (e'=capacity-cons_s_ex);\n",
    "  [strong_south] is_reload & allowed_s_r -> (e'=capacity-cons_s_ex);\n",
    "  [strong_east] is_reload & allowed_s_r -> (e'=capacity-cons_s_ex);\n",
    "  [strong_west] is_reload & allowed_s_r -> (e'=capacity-cons_s_ex);\n",
    "  [north] is_reload & allowed_w_r -> (e'=capacity-cons_w_ex);\n",
    "  [south] is_reload & allowed_w_r -> (e'=capacity-cons_w_ex);\n",
    "  [east] is_reload & allowed_w_r -> (e'=capacity-cons_w_ex);\n",
    "  [west] is_reload & allowed_w_r -> (e'=capacity-cons_w_ex);\n",
    "endmodule\n",
    "\n",
    "rewards \"consumption\"\n",
    "\t[north] true : cons_w;\n",
    "\t[south] true : cons_w;\n",
    "\t[east] true : cons_w;\n",
    "\t[west] true : cons_w;\n",
    "\t[strong_north] true : cons_s;\n",
    "\t[strong_south] true : cons_s;\n",
    "\t[strong_east] true : cons_s;\n",
    "\t[strong_west] true : cons_s;\n",
    "endrewards\n",
    "                                     \n",
    "label \"reload\" = is_reload;\n",
    "label \"target\" = (x=border_x-2) & (y=border_y);"
   ]
  },
  {
   "cell_type": "markdown",
   "metadata": {},
   "source": [
    "To set the concrete values for the constants, we can pass a dictionary of the intended values to `prism_to_consmdp` function. This will take them, converts to stormpy internals, and builds the program with them. The type of the values must be:\n",
    " 1. an integer, or\n",
    " 2. a string that matches one of the other constants\n",
    " \n",
    "Let's first recreate the two models we've already seen."
   ]
  },
  {
   "cell_type": "code",
   "execution_count": 27,
   "metadata": {},
   "outputs": [
    {
     "data": {
      "text/plain": [
       "100"
      ]
     },
     "execution_count": 27,
     "metadata": {},
     "output_type": "execute_result"
    }
   ],
   "source": [
    "constants = {\n",
    "    \"size_x\" : 10,\n",
    "    \"size_y\" : \"size_x\",\n",
    "    \"capacity\" : 18,\n",
    "    \"cons_w_ex\" : 0,\n",
    "    \"cons_s_ex\" : 0,\n",
    "}\n",
    "\n",
    "mdp = prism_to_consmdp(\"gw_param.prism\", constants=constants)\n",
    "\n",
    "mdp.num_states"
   ]
  },
  {
   "cell_type": "code",
   "execution_count": 28,
   "metadata": {},
   "outputs": [
    {
     "data": {
      "text/plain": [
       "1642"
      ]
     },
     "execution_count": 28,
     "metadata": {},
     "output_type": "execute_result"
    }
   ],
   "source": [
    "constants = {\n",
    "    \"size_x\" : 10,\n",
    "    \"size_y\" : \"size_x\",\n",
    "    \"capacity\" : 18,\n",
    "    \"cons_w_ex\" : 1,\n",
    "    \"cons_s_ex\" : 3,\n",
    "}\n",
    "\n",
    "mdp = prism_to_consmdp(\"gw_param.prism\", constants=constants)\n",
    "\n",
    "mdp.num_states"
   ]
  },
  {
   "cell_type": "markdown",
   "metadata": {},
   "source": [
    "Now we can easily define bigger grids."
   ]
  },
  {
   "cell_type": "code",
   "execution_count": 29,
   "metadata": {},
   "outputs": [
    {
     "data": {
      "text/plain": [
       "2500"
      ]
     },
     "execution_count": 29,
     "metadata": {},
     "output_type": "execute_result"
    }
   ],
   "source": [
    "constants = {\n",
    "    \"size_x\" : 50,\n",
    "    \"size_y\" : \"size_x\",\n",
    "    \"capacity\" : 150,\n",
    "    \"cons_w_ex\" : 0,\n",
    "    \"cons_s_ex\" : 0,\n",
    "}\n",
    "\n",
    "mdp = prism_to_consmdp(\"gw_param.prism\", constants=constants)\n",
    "\n",
    "mdp.num_states"
   ]
  },
  {
   "cell_type": "code",
   "execution_count": 30,
   "metadata": {},
   "outputs": [
    {
     "data": {
      "text/plain": [
       "8300"
      ]
     },
     "execution_count": 30,
     "metadata": {},
     "output_type": "execute_result"
    }
   ],
   "source": [
    "constants = {\n",
    "    \"size_x\" : 15,\n",
    "    \"size_y\" : \"size_x\",\n",
    "    \"capacity\" : 40,\n",
    "    \"cons_w_ex\" : 1,\n",
    "    \"cons_s_ex\" : 3,\n",
    "}\n",
    "\n",
    "mdp = prism_to_consmdp(\"gw_param.prism\", constants=constants)\n",
    "\n",
    "mdp.num_states"
   ]
  }
 ],
 "metadata": {
  "kernelspec": {
   "display_name": "Python 3",
   "language": "python",
   "name": "python3"
  },
  "language_info": {
   "codemirror_mode": {
    "name": "ipython",
    "version": 3
   },
   "file_extension": ".py",
   "mimetype": "text/x-python",
   "name": "python",
   "nbconvert_exporter": "python",
   "pygments_lexer": "ipython3",
   "version": "3.8.5"
  }
 },
 "nbformat": 4,
 "nbformat_minor": 4
}
