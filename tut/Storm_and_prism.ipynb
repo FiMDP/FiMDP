{
 "cells": [
  {
   "cell_type": "markdown",
   "metadata": {},
   "source": [
    "# Reading Prism and Storm models using Stormpy"
   ]
  },
  {
   "cell_type": "markdown",
   "metadata": {},
   "source": [
    "Let's first create some model in the [PRISM language]. The encoding of Consumption MDPs is done as a standard `mdp` model with two additional requirements.\n",
    "\n",
    " 1. The consumption of actions is given by a reward structure called `consumption`. This reward structure has to assign some consumption to each action (choice).\n",
    " 2. The set of reload states must be specified using the `reload` state label.\n",
    " \n",
    "Note that such encoding **does not** produce model with the same semantics in PRISM and other tools.\n",
    "\n",
    "Further, we allow to define the targets using the `target` label and capacity using the `capacity` constant in the prism model.\n",
    " \n",
    "See the bottom of the following file.\n",
    "\n",
    "[PRISM language]: https://www.prismmodelchecker.org/manual/ThePRISMLanguage/Introduction"
   ]
  },
  {
   "cell_type": "code",
   "execution_count": 1,
   "metadata": {},
   "outputs": [
    {
     "name": "stdout",
     "output_type": "stream",
     "text": [
      "Overwriting gw.prism\n"
     ]
    }
   ],
   "source": [
    "%%writefile gw.prism\n",
    "mdp\n",
    "\n",
    "const int size_x = 10;\n",
    "const int size_y = 10;\n",
    "const int border_x = size_x-1;\n",
    "const int border_y = size_y-1;\n",
    "\n",
    "const double succ_p = 0.9;\n",
    "const double fail_left_p = 0.04;\n",
    "const double fail_right_p = 0.06;\n",
    "\n",
    "// Conditions for hitting walls — robot\n",
    "formula wall_north = (y = border_y);\n",
    "formula wall_east = (x = border_x); \n",
    "formula wall_south = (y = 0);\n",
    "formula wall_west = (x = 0);\n",
    "\n",
    "module robot\n",
    "  x : [0..size_x-1] init 0;\n",
    "  y : [0..size_y-1] init 0;\n",
    "\n",
    "  [strong_north] !wall_north -> (y'=y+1);\n",
    "  [north] !wall_north & !wall_east & !wall_west -> \n",
    "\tsucc_p: (y'=y+1) + \n",
    "\tfail_left_p: (y'=y+1)&(x'=x-1) + \n",
    "\tfail_right_p: (y'=y+1)&(x'=x+1);\n",
    "  [north] !wall_north &  wall_east & !wall_west -> \n",
    "\tsucc_p: (y'=y+1) + \n",
    "\t1-succ_p: (y'=y+1)&(x'=x-1); \n",
    "  [north] !wall_north & !wall_east &  wall_west -> \n",
    "\tsucc_p: (y'=y+1) + \n",
    "\t1-succ_p: (y'=y+1)&(x'=x+1);\n",
    "\n",
    "  [strong_south] !wall_south -> (y'=y-1);\n",
    "  [south] !wall_south & !wall_east & !wall_west -> \n",
    "\tsucc_p: (y'=y-1) + \n",
    "\tfail_left_p: (y'=y-1)&(x'=x-1) + \n",
    "\tfail_right_p: (y'=y-1)&(x'=x+1);\n",
    "  [south] !wall_south &  wall_east & !wall_west -> \n",
    "\tsucc_p: (y'=y-1) + \n",
    "\t1-succ_p: (y'=y-1)&(x'=x-1); \n",
    "  [south] !wall_south & !wall_east &  wall_west -> \n",
    "\tsucc_p: (y'=y-1) + \n",
    "\t1-succ_p: (y'=y-1)&(x'=x+1); \n",
    "\n",
    "  [strong_east] !wall_east -> (x'=x+1);\n",
    "  [east] !wall_east & !wall_north & !wall_south -> \n",
    "\tsucc_p: (x'=x+1) + \n",
    "\tfail_left_p: (x'=x+1)&(y'=y-1) + \n",
    "\tfail_right_p: (x'=x+1)&(y'=y+1);\n",
    "  [east] !wall_east &  wall_north & !wall_south -> \n",
    "\tsucc_p: (x'=x+1) + \n",
    "\t1-succ_p: (x'=x+1)&(y'=y-1); \n",
    "  [east] !wall_east & !wall_north &  wall_south -> \n",
    "\tsucc_p: (x'=x+1) + \n",
    "\t1-succ_p: (x'=x+1)&(y'=y+1); \n",
    "\n",
    "  [strong_west] !wall_west -> (x'=x-1);\n",
    "  [west] !wall_west & !wall_north & !wall_south -> \n",
    "\tsucc_p: (x'=x-1) + \n",
    "\tfail_left_p: (x'=x-1)&(y'=y-1) + \n",
    "\tfail_right_p: (x'=x-1)&(y'=y+1);\n",
    "  [west] !wall_west &  wall_north & !wall_south -> \n",
    "\tsucc_p: (x'=x-1) + \n",
    "\t1-succ_p: (x'=x-1)&(y'=y-1); \n",
    "  [west] !wall_west & !wall_north &  wall_south -> \n",
    "\tsucc_p: (x'=x-1) + \n",
    "\t1-succ_p: (x'=x-1)&(y'=y+1); \n",
    "\n",
    "endmodule\n",
    "\n",
    "rewards \"consumption\"\n",
    "\t[north] true : 1;\n",
    "\t[south] true : 1;\n",
    "\t[east] true : 1;\n",
    "\t[west] true : 1;\n",
    "\t[strong_north] true : 3;\n",
    "\t[strong_south] true : 3;\n",
    "\t[strong_east] true : 3;\n",
    "\t[strong_west] true : 3;\n",
    "endrewards\n",
    "\n",
    "label \"reload\" = (x=round(border_x/2) & y=round(border_y/2));\n",
    "label \"target\" = (x=border_x & y=2);\n",
    "const int capacity = 2 * size_x;"
   ]
  },
  {
   "cell_type": "markdown",
   "metadata": {},
   "source": [
    "We can get a consumption MDP right from the model using the `prism_to_consmdp` function."
   ]
  },
  {
   "cell_type": "code",
   "execution_count": 2,
   "metadata": {},
   "outputs": [
    {
     "name": "stdout",
     "output_type": "stream",
     "text": [
      "100\n"
     ]
    }
   ],
   "source": [
    "from fimdp.io import prism_to_consmdp\n",
    "mdp = prism_to_consmdp(\"gw.prism\")\n",
    "print(mdp.num_states)"
   ]
  },
  {
   "cell_type": "markdown",
   "metadata": {},
   "source": [
    "By default, this functions keeps the action names and stores the variable valuations in state names."
   ]
  },
  {
   "cell_type": "code",
   "execution_count": 3,
   "metadata": {},
   "outputs": [
    {
     "name": "stdout",
     "output_type": "stream",
     "text": [
      "15: x=3 y=0\n",
      "15——strong_north[3]——>{13: Decimal('1')}\n",
      "13: x=3 y=1\n"
     ]
    }
   ],
   "source": [
    "print(mdp.names[15])\n",
    "print(mdp.actions[mdp.succ[15]])\n",
    "print(mdp.names[13])"
   ]
  },
  {
   "cell_type": "markdown",
   "metadata": {},
   "source": [
    "Names of states can be discarded by setting `state_valuations=False` and action labels can be discarded by `action_labels=False`"
   ]
  },
  {
   "cell_type": "code",
   "execution_count": 4,
   "metadata": {},
   "outputs": [
    {
     "name": "stdout",
     "output_type": "stream",
     "text": [
      "None\n",
      "15——106[3]——>{13: Decimal('1')}\n",
      "None\n"
     ]
    }
   ],
   "source": [
    "pure_mdp = prism_to_consmdp(\"gw.prism\", \n",
    "                            state_valuations=False,\n",
    "                            action_labels=False)\n",
    "print(pure_mdp.names[15])\n",
    "print(pure_mdp.actions[mdp.succ[15]])\n",
    "print(pure_mdp.names[13])"
   ]
  },
  {
   "cell_type": "markdown",
   "metadata": {},
   "source": [
    "### Targets and capacity"
   ]
  },
  {
   "cell_type": "markdown",
   "metadata": {},
   "source": [
    "In our example, we have defined the targets and capacity we want to use in our analysis. We can read the targets by passing `return_targets=True` to the `prism_to_consmdp` function, and we can read the capacity using the function `parse_cap_from_prism`."
   ]
  },
  {
   "cell_type": "code",
   "execution_count": 5,
   "metadata": {},
   "outputs": [
    {
     "name": "stdout",
     "output_type": "stream",
     "text": [
      "[98]\n",
      "20\n",
      "[20, 19, 19, 19, 18, 18, 18, 18, 18, 17, 17, 15, 12, 17, 15, 17, 16, 15, 12, 9, 6, 12, 9, 16, 15, 15, 12, 9, 6, 3, 0, 6, 3, 12, 9, 15, 16, 15, 12, 9, 6, 3, 6, 6, 3, 12, 9, 16, 15, 17, 16, 15, 12, 9, 6, 9, 12, 6, 9, 12, 9, 16, 15, 17, 17, 16, 15, 14, 12, 9, 12, 14, 15, 12, 14, 12, 9, 15, 14, 17, 16, 17, 16, 15, 14, 13, 12, 13, 14, 15, 16, 14, 15, 12, 13, 14, 13, 16, 15, 17]\n"
     ]
    }
   ],
   "source": [
    "from fimdp.io import parse_cap_from_prism\n",
    "from fimdp.energy_solvers import BasicES\n",
    "from fimdp.objectives import BUCHI\n",
    "\n",
    "mdp, targets = prism_to_consmdp(\"gw.prism\", return_targets=True)\n",
    "capacity = parse_cap_from_prism(\"gw.prism\")\n",
    "print(targets)\n",
    "print(capacity)\n",
    "solver = BasicES(mdp, capacity, targets)\n",
    "print(solver.get_min_levels(BUCHI))"
   ]
  },
  {
   "cell_type": "markdown",
   "metadata": {},
   "source": [
    "## Stormpy models"
   ]
  },
  {
   "cell_type": "markdown",
   "metadata": {},
   "source": [
    "FiMDP also offers `storm_sparsemdp_to_consmdp` which translates a stormpy sparse representation of MDP (satisfying the same requirements as for PRISM) into Consumption MDP. It also offers `consmdp_to_storm_consmdp` which encodes the FiMDP representation into SparseMDP from Storm. This encoding is exactly such that it can be used to build the ConsMDP object back."
   ]
  },
  {
   "cell_type": "code",
   "execution_count": 6,
   "metadata": {},
   "outputs": [],
   "source": [
    "from fimdp.io import consmdp_to_storm_consmdp, storm_sparsemdp_to_consmdp\n",
    "from fimdp.examples.reachability_examples import little_alsure\n",
    "from fimdp.dot import dot_to_svg\n",
    "from IPython.display import SVG\n",
    "import stormpy\n",
    "\n",
    "def display_storm(sparseMDP):\n",
    "    return SVG(dot_to_svg(sparseMDP.to_dot()))"
   ]
  },
  {
   "cell_type": "code",
   "execution_count": 7,
   "metadata": {},
   "outputs": [],
   "source": [
    "m, T = little_alsure()\n",
    "storm = consmdp_to_storm_consmdp(m)"
   ]
  },
  {
   "cell_type": "code",
   "execution_count": 8,
   "metadata": {},
   "outputs": [
    {
     "data": {
      "image/svg+xml": [
       "<?xml version=\"1.0\" encoding=\"UTF-8\" standalone=\"no\"?>\n",
       "<!DOCTYPE svg PUBLIC \"-//W3C//DTD SVG 1.1//EN\"\n",
       " \"http://www.w3.org/Graphics/SVG/1.1/DTD/svg11.dtd\">\n",
       "<!-- Generated by graphviz version 2.43.0 (0)\n",
       " -->\n",
       "<!-- Pages: 1 -->\n",
       "<svg width=\"495pt\" height=\"111pt\"\n",
       " viewBox=\"0.00 0.00 494.80 110.54\" xmlns=\"http://www.w3.org/2000/svg\" xmlns:xlink=\"http://www.w3.org/1999/xlink\">\n",
       "<g id=\"graph0\" class=\"graph\" transform=\"scale(1 1) rotate(0) translate(4 106.54)\">\n",
       "<polygon fill=\"white\" stroke=\"transparent\" points=\"-4,4 -4,-106.54 490.8,-106.54 490.8,4 -4,4\"/>\n",
       "<!-- 0 -->\n",
       "<g id=\"node1\" class=\"node\">\n",
       "<title>0</title>\n",
       "<ellipse fill=\"none\" stroke=\"black\" cx=\"27\" cy=\"-30.54\" rx=\"27\" ry=\"18\"/>\n",
       "<text text-anchor=\"middle\" x=\"27\" y=\"-26.84\" font-family=\"Times,serif\" font-size=\"14.00\">0</text>\n",
       "</g>\n",
       "<!-- 0_t -->\n",
       "<g id=\"node2\" class=\"node\">\n",
       "<title>0_t</title>\n",
       "<ellipse fill=\"black\" stroke=\"black\" cx=\"134.8\" cy=\"-49.54\" rx=\"1.8\" ry=\"1.8\"/>\n",
       "</g>\n",
       "<!-- 0&#45;&gt;0_t -->\n",
       "<g id=\"edge1\" class=\"edge\">\n",
       "<title>0&#45;&gt;0_t</title>\n",
       "<path fill=\"none\" stroke=\"black\" d=\"M53.34,-35.09C75.43,-39.06 106.42,-44.62 122.74,-47.55\"/>\n",
       "<polygon fill=\"none\" stroke=\"black\" points=\"122.47,-51.06 132.93,-49.38 123.71,-44.17 122.47,-51.06\"/>\n",
       "<text text-anchor=\"middle\" x=\"93.5\" y=\"-50.34\" font-family=\"Times,serif\" font-size=\"14.00\">t: 2</text>\n",
       "</g>\n",
       "<!-- 0_pos -->\n",
       "<g id=\"node5\" class=\"node\">\n",
       "<title>0_pos</title>\n",
       "<ellipse fill=\"black\" stroke=\"black\" cx=\"134.8\" cy=\"-11.54\" rx=\"1.8\" ry=\"1.8\"/>\n",
       "</g>\n",
       "<!-- 0&#45;&gt;0_pos -->\n",
       "<g id=\"edge4\" class=\"edge\">\n",
       "<title>0&#45;&gt;0_pos</title>\n",
       "<path fill=\"none\" stroke=\"black\" d=\"M52.6,-24.59C58.9,-23.16 65.68,-21.71 72,-20.54 89.77,-17.23 110.61,-14.41 122.98,-12.85\"/>\n",
       "<polygon fill=\"none\" stroke=\"black\" points=\"123.42,-16.32 132.92,-11.64 122.57,-9.37 123.42,-16.32\"/>\n",
       "<text text-anchor=\"middle\" x=\"93.5\" y=\"-24.34\" font-family=\"Times,serif\" font-size=\"14.00\">pos: 1</text>\n",
       "</g>\n",
       "<!-- 1 -->\n",
       "<g id=\"node3\" class=\"node\">\n",
       "<title>1</title>\n",
       "<ellipse fill=\"none\" stroke=\"black\" cx=\"222.6\" cy=\"-28.54\" rx=\"27\" ry=\"18\"/>\n",
       "<text text-anchor=\"middle\" x=\"222.6\" y=\"-24.84\" font-family=\"Times,serif\" font-size=\"14.00\">1</text>\n",
       "</g>\n",
       "<!-- 0_t&#45;&gt;1 -->\n",
       "<g id=\"edge2\" class=\"edge\">\n",
       "<title>0_t&#45;&gt;1</title>\n",
       "<path fill=\"none\" stroke=\"#858585\" d=\"M136.76,-49.3C141.82,-48.06 165.84,-42.18 187.04,-37\"/>\n",
       "<polygon fill=\"#858585\" stroke=\"#858585\" points=\"187.93,-40.38 196.81,-34.6 186.27,-33.58 187.93,-40.38\"/>\n",
       "<text text-anchor=\"middle\" x=\"166.1\" y=\"-48.34\" font-family=\"Times,serif\" font-size=\"14.00\" fill=\"#858585\">0.5</text>\n",
       "</g>\n",
       "<!-- 2 -->\n",
       "<g id=\"node4\" class=\"node\">\n",
       "<title>2</title>\n",
       "<ellipse fill=\"none\" stroke=\"black\" cx=\"222.6\" cy=\"-84.54\" rx=\"27\" ry=\"18\"/>\n",
       "<text text-anchor=\"middle\" x=\"222.6\" y=\"-80.84\" font-family=\"Times,serif\" font-size=\"14.00\">2</text>\n",
       "</g>\n",
       "<!-- 0_t&#45;&gt;2 -->\n",
       "<g id=\"edge3\" class=\"edge\">\n",
       "<title>0_t&#45;&gt;2</title>\n",
       "<path fill=\"none\" stroke=\"#858585\" d=\"M136.74,-50.42C139.36,-52.85 147.06,-59.69 154.6,-63.54 164.64,-68.66 176.16,-72.82 186.79,-76.05\"/>\n",
       "<polygon fill=\"#858585\" stroke=\"#858585\" points=\"186.06,-79.48 196.63,-78.86 187.98,-72.75 186.06,-79.48\"/>\n",
       "<text text-anchor=\"middle\" x=\"166.1\" y=\"-75.34\" font-family=\"Times,serif\" font-size=\"14.00\" fill=\"#858585\">0.5</text>\n",
       "</g>\n",
       "<!-- 1_r -->\n",
       "<g id=\"node7\" class=\"node\">\n",
       "<title>1_r</title>\n",
       "<ellipse fill=\"black\" stroke=\"black\" cx=\"312.4\" cy=\"-28.54\" rx=\"1.8\" ry=\"1.8\"/>\n",
       "</g>\n",
       "<!-- 1&#45;&gt;1_r -->\n",
       "<g id=\"edge7\" class=\"edge\">\n",
       "<title>1&#45;&gt;1_r</title>\n",
       "<path fill=\"none\" stroke=\"black\" d=\"M249.94,-28.54C266.79,-28.54 287.76,-28.54 300.34,-28.54\"/>\n",
       "<polygon fill=\"none\" stroke=\"black\" points=\"300.5,-32.04 310.5,-28.54 300.5,-25.04 300.5,-32.04\"/>\n",
       "<text text-anchor=\"middle\" x=\"280.1\" y=\"-32.34\" font-family=\"Times,serif\" font-size=\"14.00\">r: 1</text>\n",
       "</g>\n",
       "<!-- 2_r -->\n",
       "<g id=\"node8\" class=\"node\">\n",
       "<title>2_r</title>\n",
       "<ellipse fill=\"black\" stroke=\"black\" cx=\"312.4\" cy=\"-72.54\" rx=\"1.8\" ry=\"1.8\"/>\n",
       "</g>\n",
       "<!-- 2&#45;&gt;2_r -->\n",
       "<g id=\"edge9\" class=\"edge\">\n",
       "<title>2&#45;&gt;2_r</title>\n",
       "<path fill=\"none\" stroke=\"black\" d=\"M249.47,-81C266.34,-78.7 287.51,-75.8 300.22,-74.07\"/>\n",
       "<polygon fill=\"none\" stroke=\"black\" points=\"301.05,-77.48 310.49,-72.66 300.11,-70.55 301.05,-77.48\"/>\n",
       "<text text-anchor=\"middle\" x=\"280.1\" y=\"-81.34\" font-family=\"Times,serif\" font-size=\"14.00\">r: 2</text>\n",
       "</g>\n",
       "<!-- 0_pos&#45;&gt;1 -->\n",
       "<g id=\"edge5\" class=\"edge\">\n",
       "<title>0_pos&#45;&gt;1</title>\n",
       "<path fill=\"none\" stroke=\"#858585\" d=\"M136.85,-11.44C141.6,-11.02 161.62,-9.53 177.6,-12.54 181.62,-13.3 185.76,-14.37 189.81,-15.62\"/>\n",
       "<polygon fill=\"#858585\" stroke=\"#858585\" points=\"189.02,-19.04 199.61,-18.96 191.28,-12.42 189.02,-19.04\"/>\n",
       "<text text-anchor=\"middle\" x=\"166.1\" y=\"-16.34\" font-family=\"Times,serif\" font-size=\"14.00\" fill=\"#858585\">0.5</text>\n",
       "</g>\n",
       "<!-- 3 -->\n",
       "<g id=\"node6\" class=\"node\">\n",
       "<title>3</title>\n",
       "<ellipse fill=\"none\" stroke=\"black\" cx=\"391.2\" cy=\"-28.54\" rx=\"27\" ry=\"18\"/>\n",
       "<ellipse fill=\"none\" stroke=\"black\" cx=\"391.2\" cy=\"-28.54\" rx=\"31\" ry=\"22\"/>\n",
       "<text text-anchor=\"middle\" x=\"391.2\" y=\"-24.84\" font-family=\"Times,serif\" font-size=\"14.00\">3</text>\n",
       "</g>\n",
       "<!-- 0_pos&#45;&gt;3 -->\n",
       "<g id=\"edge6\" class=\"edge\">\n",
       "<title>0_pos&#45;&gt;3</title>\n",
       "<path fill=\"none\" stroke=\"#858585\" d=\"M136.64,-11.34C141.92,-10.08 171.24,-3.31 195.6,-1.54 219.54,0.2 225.7,0.67 249.6,-1.54 284.54,-4.76 323.7,-12.64 351.8,-19.06\"/>\n",
       "<polygon fill=\"#858585\" stroke=\"#858585\" points=\"351.09,-22.49 361.62,-21.35 352.68,-15.67 351.09,-22.49\"/>\n",
       "<text text-anchor=\"middle\" x=\"280.1\" y=\"-11.34\" font-family=\"Times,serif\" font-size=\"14.00\" fill=\"#858585\">0.5</text>\n",
       "</g>\n",
       "<!-- 3_r -->\n",
       "<g id=\"node9\" class=\"node\">\n",
       "<title>3_r</title>\n",
       "<ellipse fill=\"black\" stroke=\"black\" cx=\"485\" cy=\"-28.54\" rx=\"1.8\" ry=\"1.8\"/>\n",
       "</g>\n",
       "<!-- 3&#45;&gt;3_r -->\n",
       "<g id=\"edge11\" class=\"edge\">\n",
       "<title>3&#45;&gt;3_r</title>\n",
       "<path fill=\"none\" stroke=\"black\" d=\"M422.26,-28.54C439.7,-28.54 460.61,-28.54 473.08,-28.54\"/>\n",
       "<polygon fill=\"none\" stroke=\"black\" points=\"473.11,-32.04 483.11,-28.54 473.11,-25.04 473.11,-32.04\"/>\n",
       "<text text-anchor=\"middle\" x=\"452.7\" y=\"-32.34\" font-family=\"Times,serif\" font-size=\"14.00\">r: 3</text>\n",
       "</g>\n",
       "<!-- 1_r&#45;&gt;3 -->\n",
       "<g id=\"edge8\" class=\"edge\">\n",
       "<title>1_r&#45;&gt;3</title>\n",
       "<path fill=\"none\" stroke=\"#858585\" d=\"M314.26,-28.54C318.06,-28.54 333.79,-28.54 349.96,-28.54\"/>\n",
       "<polygon fill=\"#858585\" stroke=\"#858585\" points=\"349.98,-32.04 359.98,-28.54 349.98,-25.04 349.98,-32.04\"/>\n",
       "<text text-anchor=\"middle\" x=\"337.2\" y=\"-32.34\" font-family=\"Times,serif\" font-size=\"14.00\" fill=\"#858585\">1</text>\n",
       "</g>\n",
       "<!-- 2_r&#45;&gt;3 -->\n",
       "<g id=\"edge10\" class=\"edge\">\n",
       "<title>2_r&#45;&gt;3</title>\n",
       "<path fill=\"none\" stroke=\"#858585\" d=\"M314.26,-72.04C318.65,-69.53 339.03,-57.85 357.58,-47.23\"/>\n",
       "<polygon fill=\"#858585\" stroke=\"#858585\" points=\"359.52,-50.15 366.45,-42.14 356.04,-44.08 359.52,-50.15\"/>\n",
       "<text text-anchor=\"middle\" x=\"337.2\" y=\"-64.34\" font-family=\"Times,serif\" font-size=\"14.00\" fill=\"#858585\">1</text>\n",
       "</g>\n",
       "<!-- 3_r&#45;&gt;3 -->\n",
       "<g id=\"edge12\" class=\"edge\">\n",
       "<title>3_r&#45;&gt;3</title>\n",
       "<path fill=\"none\" stroke=\"#858585\" d=\"M483.44,-27.57C481.47,-24.27 474.45,-13.4 465.2,-9.54 452.49,-4.23 437.9,-6.49 425.12,-11\"/>\n",
       "<polygon fill=\"#858585\" stroke=\"#858585\" points=\"423.71,-7.79 415.76,-14.8 426.34,-14.28 423.71,-7.79\"/>\n",
       "<text text-anchor=\"middle\" x=\"452.7\" y=\"-13.34\" font-family=\"Times,serif\" font-size=\"14.00\" fill=\"#858585\">1</text>\n",
       "</g>\n",
       "</g>\n",
       "</svg>\n"
      ],
      "text/plain": [
       "<fimdp.core.ConsMDP at 0x7fa6908196d0>"
      ]
     },
     "metadata": {},
     "output_type": "display_data"
    },
    {
     "data": {
      "image/svg+xml": [
       "<svg xmlns=\"http://www.w3.org/2000/svg\" xmlns:xlink=\"http://www.w3.org/1999/xlink\" width=\"193pt\" height=\"382pt\" viewBox=\"0.00 0.00 193.14 381.80\">\n",
       "<g id=\"graph0\" class=\"graph\" transform=\"scale(1 1) rotate(0) translate(4 377.8)\">\n",
       "<title>model</title>\n",
       "<polygon fill=\"white\" stroke=\"transparent\" points=\"-4,4 -4,-377.8 189.14,-377.8 189.14,4 -4,4\"/>\n",
       "<!-- 0 -->\n",
       "<g id=\"node1\" class=\"node\">\n",
       "<title>0</title>\n",
       "<ellipse fill=\"none\" stroke=\"black\" cx=\"117.45\" cy=\"-355.8\" rx=\"34.39\" ry=\"18\"/>\n",
       "<text text-anchor=\"middle\" x=\"117.45\" y=\"-352.1\" font-family=\"Times,serif\" font-size=\"14.00\">0: {}</text>\n",
       "</g>\n",
       "<!-- 0c0 -->\n",
       "<g id=\"node5\" class=\"node\">\n",
       "<title>0c0</title>\n",
       "<ellipse fill=\"black\" stroke=\"black\" cx=\"93.45\" cy=\"-285\" rx=\"1.8\" ry=\"1.8\"/>\n",
       "</g>\n",
       "<!-- 0&#45;&gt;0c0 -->\n",
       "<g id=\"edge1\" class=\"edge\">\n",
       "<title>0-&gt;0c0</title>\n",
       "<path fill=\"none\" stroke=\"black\" d=\"M104.43,-339.03C100.46,-333.32 96.59,-326.6 94.45,-319.8 92.13,-312.45 91.93,-303.75 92.28,-297.02\"/>\n",
       "<polygon fill=\"black\" stroke=\"black\" points=\"95.78,-297.17 93.3,-286.86 88.82,-296.46 95.78,-297.17\"/>\n",
       "<text text-anchor=\"middle\" x=\"106.95\" y=\"-308.6\" font-family=\"Times,serif\" font-size=\"14.00\">{t}</text>\n",
       "</g>\n",
       "<!-- 0c1 -->\n",
       "<g id=\"node6\" class=\"node\">\n",
       "<title>0c1</title>\n",
       "<ellipse fill=\"black\" stroke=\"black\" cx=\"141.45\" cy=\"-285\" rx=\"1.8\" ry=\"1.8\"/>\n",
       "</g>\n",
       "<!-- 0&#45;&gt;0c1 -->\n",
       "<g id=\"edge4\" class=\"edge\">\n",
       "<title>0-&gt;0c1</title>\n",
       "<path fill=\"none\" stroke=\"black\" d=\"M123.38,-337.79C127.91,-324.81 134,-307.34 137.83,-296.38\"/>\n",
       "<polygon fill=\"black\" stroke=\"black\" points=\"141.18,-297.39 141.17,-286.79 134.57,-295.08 141.18,-297.39\"/>\n",
       "<text text-anchor=\"middle\" x=\"154.95\" y=\"-308.6\" font-family=\"Times,serif\" font-size=\"14.00\">{pos}</text>\n",
       "</g>\n",
       "<!-- 1 -->\n",
       "<g id=\"node2\" class=\"node\">\n",
       "<title>1</title>\n",
       "<ellipse fill=\"none\" stroke=\"black\" cx=\"121.45\" cy=\"-214.2\" rx=\"34.39\" ry=\"18\"/>\n",
       "<text text-anchor=\"middle\" x=\"121.45\" y=\"-210.5\" font-family=\"Times,serif\" font-size=\"14.00\">1: {}</text>\n",
       "</g>\n",
       "<!-- 1c0 -->\n",
       "<g id=\"node7\" class=\"node\">\n",
       "<title>1c0</title>\n",
       "<ellipse fill=\"black\" stroke=\"black\" cx=\"121.45\" cy=\"-143.4\" rx=\"1.8\" ry=\"1.8\"/>\n",
       "</g>\n",
       "<!-- 1&#45;&gt;1c0 -->\n",
       "<g id=\"edge7\" class=\"edge\">\n",
       "<title>1-&gt;1c0</title>\n",
       "<path fill=\"none\" stroke=\"black\" d=\"M121.45,-196.19C121.45,-183.66 121.45,-166.94 121.45,-155.94\"/>\n",
       "<polygon fill=\"black\" stroke=\"black\" points=\"124.95,-155.79 121.45,-145.79 117.95,-155.79 124.95,-155.79\"/>\n",
       "<text text-anchor=\"middle\" x=\"133.95\" y=\"-167\" font-family=\"Times,serif\" font-size=\"14.00\">{r}</text>\n",
       "</g>\n",
       "<!-- 2 -->\n",
       "<g id=\"node3\" class=\"node\">\n",
       "<title>2</title>\n",
       "<ellipse fill=\"none\" stroke=\"black\" cx=\"34.45\" cy=\"-214.2\" rx=\"34.39\" ry=\"18\"/>\n",
       "<text text-anchor=\"middle\" x=\"34.45\" y=\"-210.5\" font-family=\"Times,serif\" font-size=\"14.00\">2: {}</text>\n",
       "</g>\n",
       "<!-- 2c0 -->\n",
       "<g id=\"node8\" class=\"node\">\n",
       "<title>2c0</title>\n",
       "<ellipse fill=\"black\" stroke=\"black\" cx=\"77.45\" cy=\"-143.4\" rx=\"1.8\" ry=\"1.8\"/>\n",
       "</g>\n",
       "<!-- 2&#45;&gt;2c0 -->\n",
       "<g id=\"edge9\" class=\"edge\">\n",
       "<title>2-&gt;2c0</title>\n",
       "<path fill=\"none\" stroke=\"black\" d=\"M44.64,-196.9C53.01,-183.5 64.58,-164.98 71.51,-153.9\"/>\n",
       "<polygon fill=\"black\" stroke=\"black\" points=\"74.61,-155.55 76.94,-145.21 68.67,-151.84 74.61,-155.55\"/>\n",
       "<text text-anchor=\"middle\" x=\"76.95\" y=\"-167\" font-family=\"Times,serif\" font-size=\"14.00\">{r}</text>\n",
       "</g>\n",
       "<!-- 3 -->\n",
       "<g id=\"node4\" class=\"node\">\n",
       "<title>3</title>\n",
       "<ellipse fill=\"none\" stroke=\"black\" cx=\"121.45\" cy=\"-72.6\" rx=\"63.89\" ry=\"18\"/>\n",
       "<text text-anchor=\"middle\" x=\"121.45\" y=\"-68.9\" font-family=\"Times,serif\" font-size=\"14.00\">3: {reload}</text>\n",
       "</g>\n",
       "<!-- 3c0 -->\n",
       "<g id=\"node9\" class=\"node\">\n",
       "<title>3c0</title>\n",
       "<ellipse fill=\"black\" stroke=\"black\" cx=\"121.45\" cy=\"-1.8\" rx=\"1.8\" ry=\"1.8\"/>\n",
       "</g>\n",
       "<!-- 3&#45;&gt;3c0 -->\n",
       "<g id=\"edge11\" class=\"edge\">\n",
       "<title>3-&gt;3c0</title>\n",
       "<path fill=\"none\" stroke=\"black\" d=\"M107.58,-54.8C103.87,-49.33 100.36,-43.01 98.45,-36.6 96.54,-30.21 95.59,-27.62 98.45,-21.6 101.13,-15.94 106.45,-11.42 111.29,-8.23\"/>\n",
       "<polygon fill=\"black\" stroke=\"black\" points=\"113.2,-11.17 120.29,-3.3 109.84,-5.04 113.2,-11.17\"/>\n",
       "<text text-anchor=\"middle\" x=\"110.95\" y=\"-25.4\" font-family=\"Times,serif\" font-size=\"14.00\">{r}</text>\n",
       "</g>\n",
       "<!-- 0c0&#45;&gt;1 -->\n",
       "<g id=\"edge2\" class=\"edge\">\n",
       "<title>0c0-&gt;1</title>\n",
       "<path fill=\"none\" stroke=\"black\" d=\"M93.68,-283.15C94.73,-279.28 99.28,-263.02 104.45,-250.2 105.69,-247.13 107.07,-243.95 108.51,-240.82\"/>\n",
       "<polygon fill=\"black\" stroke=\"black\" points=\"111.7,-242.26 112.84,-231.72 105.38,-239.24 111.7,-242.26\"/>\n",
       "<text text-anchor=\"middle\" x=\"115.95\" y=\"-254\" font-family=\"Times,serif\" font-size=\"14.00\">0.5</text>\n",
       "</g>\n",
       "<!-- 0c0&#45;&gt;2 -->\n",
       "<g id=\"edge3\" class=\"edge\">\n",
       "<title>0c0-&gt;2</title>\n",
       "<path fill=\"none\" stroke=\"black\" d=\"M92.55,-283.35C89.42,-281.06 78.85,-273.14 71.45,-265.2 64.23,-257.46 57.12,-248.32 51.09,-239.99\"/>\n",
       "<polygon fill=\"black\" stroke=\"black\" points=\"53.86,-237.85 45.24,-231.69 48.14,-241.88 53.86,-237.85\"/>\n",
       "<text text-anchor=\"middle\" x=\"82.95\" y=\"-254\" font-family=\"Times,serif\" font-size=\"14.00\">0.5</text>\n",
       "</g>\n",
       "<!-- 0c1&#45;&gt;1 -->\n",
       "<g id=\"edge5\" class=\"edge\">\n",
       "<title>0c1-&gt;1</title>\n",
       "<path fill=\"none\" stroke=\"black\" d=\"M141.16,-283.03C139.85,-278.51 134.2,-259.08 129.29,-242.17\"/>\n",
       "<polygon fill=\"black\" stroke=\"black\" points=\"132.52,-240.74 126.36,-232.12 125.79,-242.7 132.52,-240.74\"/>\n",
       "<text text-anchor=\"middle\" x=\"146.95\" y=\"-254\" font-family=\"Times,serif\" font-size=\"14.00\">0.5</text>\n",
       "</g>\n",
       "<!-- 0c1&#45;&gt;3 -->\n",
       "<g id=\"edge6\" class=\"edge\">\n",
       "<title>0c1-&gt;3</title>\n",
       "<path fill=\"none\" stroke=\"black\" d=\"M142.49,-283.46C146.06,-281.56 157.84,-274.71 162.45,-265.2 175.81,-237.58 169.33,-226.49 164.45,-196.2 158.89,-161.75 144.35,-124.17 133.71,-99.82\"/>\n",
       "<polygon fill=\"black\" stroke=\"black\" points=\"136.84,-98.25 129.57,-90.55 130.45,-101.11 136.84,-98.25\"/>\n",
       "<text text-anchor=\"middle\" x=\"171.95\" y=\"-167\" font-family=\"Times,serif\" font-size=\"14.00\">0.5</text>\n",
       "</g>\n",
       "<!-- 1c0&#45;&gt;3 -->\n",
       "<g id=\"edge8\" class=\"edge\">\n",
       "<title>1c0-&gt;3</title>\n",
       "<path fill=\"none\" stroke=\"black\" d=\"M121.45,-141.43C121.45,-136.94 121.45,-117.71 121.45,-100.87\"/>\n",
       "<polygon fill=\"black\" stroke=\"black\" points=\"124.95,-100.84 121.45,-90.84 117.95,-100.84 124.95,-100.84\"/>\n",
       "<text text-anchor=\"middle\" x=\"126.45\" y=\"-112.4\" font-family=\"Times,serif\" font-size=\"14.00\">1</text>\n",
       "</g>\n",
       "<!-- 2c0&#45;&gt;3 -->\n",
       "<g id=\"edge10\" class=\"edge\">\n",
       "<title>2c0-&gt;3</title>\n",
       "<path fill=\"none\" stroke=\"black\" d=\"M77.94,-141.63C80.64,-137.4 93.91,-116.66 105.09,-99.17\"/>\n",
       "<polygon fill=\"black\" stroke=\"black\" points=\"108.24,-100.74 110.68,-90.43 102.35,-96.97 108.24,-100.74\"/>\n",
       "<text text-anchor=\"middle\" x=\"102.45\" y=\"-112.4\" font-family=\"Times,serif\" font-size=\"14.00\">1</text>\n",
       "</g>\n",
       "<!-- 3c0&#45;&gt;3 -->\n",
       "<g id=\"edge12\" class=\"edge\">\n",
       "<title>3c0-&gt;3</title>\n",
       "<path fill=\"none\" stroke=\"black\" d=\"M121.59,-3.82C121.99,-6.63 123.09,-14.78 123.45,-21.6 123.84,-28.94 123.75,-36.9 123.46,-44.26\"/>\n",
       "<polygon fill=\"black\" stroke=\"black\" points=\"119.95,-44.3 122.92,-54.47 126.94,-44.67 119.95,-44.3\"/>\n",
       "<text text-anchor=\"middle\" x=\"128.45\" y=\"-25.4\" font-family=\"Times,serif\" font-size=\"14.00\">1</text>\n",
       "</g>\n",
       "</g>\n",
       "</svg>"
      ],
      "text/plain": [
       "<IPython.core.display.SVG object>"
      ]
     },
     "metadata": {},
     "output_type": "display_data"
    }
   ],
   "source": [
    "display(m, display_storm(storm))"
   ]
  },
  {
   "cell_type": "markdown",
   "metadata": {},
   "source": [
    "We can also encode the target states."
   ]
  },
  {
   "cell_type": "code",
   "execution_count": 12,
   "metadata": {},
   "outputs": [
    {
     "name": "stdout",
     "output_type": "stream",
     "text": [
      "{1, 2}\n"
     ]
    },
    {
     "data": {
      "image/svg+xml": [
       "<svg xmlns=\"http://www.w3.org/2000/svg\" xmlns:xlink=\"http://www.w3.org/1999/xlink\" width=\"303pt\" height=\"382pt\" viewBox=\"0.00 0.00 303.04 381.80\">\n",
       "<g id=\"graph0\" class=\"graph\" transform=\"scale(1 1) rotate(0) translate(4 377.8)\">\n",
       "<title>model</title>\n",
       "<polygon fill=\"white\" stroke=\"transparent\" points=\"-4,4 -4,-377.8 299.04,-377.8 299.04,4 -4,4\"/>\n",
       "<!-- 0 -->\n",
       "<g id=\"node1\" class=\"node\">\n",
       "<title>0</title>\n",
       "<ellipse fill=\"none\" stroke=\"black\" cx=\"206.04\" cy=\"-355.8\" rx=\"34.39\" ry=\"18\"/>\n",
       "<text text-anchor=\"middle\" x=\"206.04\" y=\"-352.1\" font-family=\"Times,serif\" font-size=\"14.00\">0: {}</text>\n",
       "</g>\n",
       "<!-- 0c0 -->\n",
       "<g id=\"node5\" class=\"node\">\n",
       "<title>0c0</title>\n",
       "<ellipse fill=\"black\" stroke=\"black\" cx=\"182.04\" cy=\"-285\" rx=\"1.8\" ry=\"1.8\"/>\n",
       "</g>\n",
       "<!-- 0&#45;&gt;0c0 -->\n",
       "<g id=\"edge1\" class=\"edge\">\n",
       "<title>0-&gt;0c0</title>\n",
       "<path fill=\"none\" stroke=\"black\" d=\"M193.02,-339.03C189.06,-333.32 185.19,-326.6 183.04,-319.8 180.73,-312.45 180.52,-303.75 180.87,-297.02\"/>\n",
       "<polygon fill=\"black\" stroke=\"black\" points=\"184.38,-297.17 181.9,-286.86 177.41,-296.46 184.38,-297.17\"/>\n",
       "<text text-anchor=\"middle\" x=\"195.54\" y=\"-308.6\" font-family=\"Times,serif\" font-size=\"14.00\">{t}</text>\n",
       "</g>\n",
       "<!-- 0c1 -->\n",
       "<g id=\"node6\" class=\"node\">\n",
       "<title>0c1</title>\n",
       "<ellipse fill=\"black\" stroke=\"black\" cx=\"230.04\" cy=\"-285\" rx=\"1.8\" ry=\"1.8\"/>\n",
       "</g>\n",
       "<!-- 0&#45;&gt;0c1 -->\n",
       "<g id=\"edge4\" class=\"edge\">\n",
       "<title>0-&gt;0c1</title>\n",
       "<path fill=\"none\" stroke=\"black\" d=\"M211.98,-337.79C216.51,-324.81 222.6,-307.34 226.42,-296.38\"/>\n",
       "<polygon fill=\"black\" stroke=\"black\" points=\"229.78,-297.39 229.77,-286.79 223.17,-295.08 229.78,-297.39\"/>\n",
       "<text text-anchor=\"middle\" x=\"243.54\" y=\"-308.6\" font-family=\"Times,serif\" font-size=\"14.00\">{pos}</text>\n",
       "</g>\n",
       "<!-- 1 -->\n",
       "<g id=\"node2\" class=\"node\">\n",
       "<title>1</title>\n",
       "<ellipse fill=\"none\" stroke=\"black\" cx=\"207.04\" cy=\"-214.2\" rx=\"63.09\" ry=\"18\"/>\n",
       "<text text-anchor=\"middle\" x=\"207.04\" y=\"-210.5\" font-family=\"Times,serif\" font-size=\"14.00\">1: {target}</text>\n",
       "</g>\n",
       "<!-- 1c0 -->\n",
       "<g id=\"node7\" class=\"node\">\n",
       "<title>1c0</title>\n",
       "<ellipse fill=\"black\" stroke=\"black\" cx=\"207.04\" cy=\"-143.4\" rx=\"1.8\" ry=\"1.8\"/>\n",
       "</g>\n",
       "<!-- 1&#45;&gt;1c0 -->\n",
       "<g id=\"edge7\" class=\"edge\">\n",
       "<title>1-&gt;1c0</title>\n",
       "<path fill=\"none\" stroke=\"black\" d=\"M207.04,-196.19C207.04,-183.66 207.04,-166.94 207.04,-155.94\"/>\n",
       "<polygon fill=\"black\" stroke=\"black\" points=\"210.54,-155.79 207.04,-145.79 203.54,-155.79 210.54,-155.79\"/>\n",
       "<text text-anchor=\"middle\" x=\"219.54\" y=\"-167\" font-family=\"Times,serif\" font-size=\"14.00\">{r}</text>\n",
       "</g>\n",
       "<!-- 2 -->\n",
       "<g id=\"node3\" class=\"node\">\n",
       "<title>2</title>\n",
       "<ellipse fill=\"none\" stroke=\"black\" cx=\"63.04\" cy=\"-214.2\" rx=\"63.09\" ry=\"18\"/>\n",
       "<text text-anchor=\"middle\" x=\"63.04\" y=\"-210.5\" font-family=\"Times,serif\" font-size=\"14.00\">2: {target}</text>\n",
       "</g>\n",
       "<!-- 2c0 -->\n",
       "<g id=\"node8\" class=\"node\">\n",
       "<title>2c0</title>\n",
       "<ellipse fill=\"black\" stroke=\"black\" cx=\"163.04\" cy=\"-143.4\" rx=\"1.8\" ry=\"1.8\"/>\n",
       "</g>\n",
       "<!-- 2&#45;&gt;2c0 -->\n",
       "<g id=\"edge9\" class=\"edge\">\n",
       "<title>2-&gt;2c0</title>\n",
       "<path fill=\"none\" stroke=\"black\" d=\"M86.24,-197.24C107.57,-182.57 138.15,-161.53 153.49,-150.97\"/>\n",
       "<polygon fill=\"black\" stroke=\"black\" points=\"155.6,-153.77 161.85,-145.22 151.63,-148.01 155.6,-153.77\"/>\n",
       "<text text-anchor=\"middle\" x=\"145.54\" y=\"-167\" font-family=\"Times,serif\" font-size=\"14.00\">{r}</text>\n",
       "</g>\n",
       "<!-- 3 -->\n",
       "<g id=\"node4\" class=\"node\">\n",
       "<title>3</title>\n",
       "<ellipse fill=\"none\" stroke=\"black\" cx=\"207.04\" cy=\"-72.6\" rx=\"63.89\" ry=\"18\"/>\n",
       "<text text-anchor=\"middle\" x=\"207.04\" y=\"-68.9\" font-family=\"Times,serif\" font-size=\"14.00\">3: {reload}</text>\n",
       "</g>\n",
       "<!-- 3c0 -->\n",
       "<g id=\"node9\" class=\"node\">\n",
       "<title>3c0</title>\n",
       "<ellipse fill=\"black\" stroke=\"black\" cx=\"207.04\" cy=\"-1.8\" rx=\"1.8\" ry=\"1.8\"/>\n",
       "</g>\n",
       "<!-- 3&#45;&gt;3c0 -->\n",
       "<g id=\"edge11\" class=\"edge\">\n",
       "<title>3-&gt;3c0</title>\n",
       "<path fill=\"none\" stroke=\"black\" d=\"M193.18,-54.8C189.47,-49.33 185.96,-43.01 184.04,-36.6 182.13,-30.21 181.19,-27.62 184.04,-21.6 186.73,-15.94 192.05,-11.42 196.89,-8.23\"/>\n",
       "<polygon fill=\"black\" stroke=\"black\" points=\"198.8,-11.17 205.88,-3.3 195.43,-5.04 198.8,-11.17\"/>\n",
       "<text text-anchor=\"middle\" x=\"196.54\" y=\"-25.4\" font-family=\"Times,serif\" font-size=\"14.00\">{r}</text>\n",
       "</g>\n",
       "<!-- 0c0&#45;&gt;1 -->\n",
       "<g id=\"edge2\" class=\"edge\">\n",
       "<title>0c0-&gt;1</title>\n",
       "<path fill=\"none\" stroke=\"black\" d=\"M182.26,-283.15C183.23,-279.3 187.39,-263.09 192.04,-250.2 193.05,-247.4 194.17,-244.51 195.33,-241.63\"/>\n",
       "<polygon fill=\"black\" stroke=\"black\" points=\"198.68,-242.71 199.31,-232.13 192.22,-240 198.68,-242.71\"/>\n",
       "<text text-anchor=\"middle\" x=\"203.54\" y=\"-254\" font-family=\"Times,serif\" font-size=\"14.00\">0.5</text>\n",
       "</g>\n",
       "<!-- 0c0&#45;&gt;2 -->\n",
       "<g id=\"edge3\" class=\"edge\">\n",
       "<title>0c0-&gt;2</title>\n",
       "<path fill=\"none\" stroke=\"black\" d=\"M180.71,-283.23C172.69,-278.59 130.25,-254.06 98.63,-235.77\"/>\n",
       "<polygon fill=\"black\" stroke=\"black\" points=\"100.03,-232.54 89.62,-230.57 96.53,-238.6 100.03,-232.54\"/>\n",
       "<text text-anchor=\"middle\" x=\"157.54\" y=\"-254\" font-family=\"Times,serif\" font-size=\"14.00\">0.5</text>\n",
       "</g>\n",
       "<!-- 0c1&#45;&gt;1 -->\n",
       "<g id=\"edge5\" class=\"edge\">\n",
       "<title>0c1-&gt;1</title>\n",
       "<path fill=\"none\" stroke=\"black\" d=\"M229.72,-283.03C228.2,-278.49 221.67,-258.95 216,-241.99\"/>\n",
       "<polygon fill=\"black\" stroke=\"black\" points=\"219.3,-240.82 212.81,-232.44 212.66,-243.04 219.3,-240.82\"/>\n",
       "<text text-anchor=\"middle\" x=\"234.54\" y=\"-254\" font-family=\"Times,serif\" font-size=\"14.00\">0.5</text>\n",
       "</g>\n",
       "<!-- 0c1&#45;&gt;3 -->\n",
       "<g id=\"edge6\" class=\"edge\">\n",
       "<title>0c1-&gt;3</title>\n",
       "<path fill=\"none\" stroke=\"black\" d=\"M230.99,-283.43C236.9,-279.78 268.91,-259.07 279.04,-232.2 284.69,-217.23 283.24,-211.64 279.04,-196.2 269.01,-159.29 244.74,-122.14 227.15,-98.57\"/>\n",
       "<polygon fill=\"black\" stroke=\"black\" points=\"229.85,-96.35 221,-90.52 224.29,-100.59 229.85,-96.35\"/>\n",
       "<text text-anchor=\"middle\" x=\"283.54\" y=\"-167\" font-family=\"Times,serif\" font-size=\"14.00\">0.5</text>\n",
       "</g>\n",
       "<!-- 1c0&#45;&gt;3 -->\n",
       "<g id=\"edge8\" class=\"edge\">\n",
       "<title>1c0-&gt;3</title>\n",
       "<path fill=\"none\" stroke=\"black\" d=\"M207.04,-141.43C207.04,-136.94 207.04,-117.71 207.04,-100.87\"/>\n",
       "<polygon fill=\"black\" stroke=\"black\" points=\"210.54,-100.84 207.04,-90.84 203.54,-100.84 210.54,-100.84\"/>\n",
       "<text text-anchor=\"middle\" x=\"212.04\" y=\"-112.4\" font-family=\"Times,serif\" font-size=\"14.00\">1</text>\n",
       "</g>\n",
       "<!-- 2c0&#45;&gt;3 -->\n",
       "<g id=\"edge10\" class=\"edge\">\n",
       "<title>2c0-&gt;3</title>\n",
       "<path fill=\"none\" stroke=\"black\" d=\"M163.54,-141.63C166.24,-137.4 179.51,-116.66 190.69,-99.17\"/>\n",
       "<polygon fill=\"black\" stroke=\"black\" points=\"193.84,-100.74 196.28,-90.43 187.94,-96.97 193.84,-100.74\"/>\n",
       "<text text-anchor=\"middle\" x=\"188.04\" y=\"-112.4\" font-family=\"Times,serif\" font-size=\"14.00\">1</text>\n",
       "</g>\n",
       "<!-- 3c0&#45;&gt;3 -->\n",
       "<g id=\"edge12\" class=\"edge\">\n",
       "<title>3c0-&gt;3</title>\n",
       "<path fill=\"none\" stroke=\"black\" d=\"M207.19,-3.82C207.59,-6.63 208.68,-14.78 209.04,-21.6 209.43,-28.94 209.35,-36.9 209.06,-44.26\"/>\n",
       "<polygon fill=\"black\" stroke=\"black\" points=\"205.55,-44.3 208.52,-54.47 212.54,-44.67 205.55,-44.3\"/>\n",
       "<text text-anchor=\"middle\" x=\"214.04\" y=\"-25.4\" font-family=\"Times,serif\" font-size=\"14.00\">1</text>\n",
       "</g>\n",
       "</g>\n",
       "</svg>"
      ],
      "text/plain": [
       "<IPython.core.display.SVG object>"
      ]
     },
     "execution_count": 12,
     "metadata": {},
     "output_type": "execute_result"
    }
   ],
   "source": [
    "print(T)\n",
    "display_storm(consmdp_to_storm_consmdp(m, T))"
   ]
  },
  {
   "cell_type": "markdown",
   "metadata": {},
   "source": [
    "Let's see if the conversion back works as expected."
   ]
  },
  {
   "cell_type": "code",
   "execution_count": 13,
   "metadata": {},
   "outputs": [
    {
     "data": {
      "text/plain": [
       "True"
      ]
     },
     "execution_count": 13,
     "metadata": {},
     "output_type": "execute_result"
    }
   ],
   "source": [
    "m.get_dot() == storm_sparsemdp_to_consmdp(storm).get_dot()"
   ]
  },
  {
   "cell_type": "markdown",
   "metadata": {},
   "source": [
    "Analogously to the PRISM models, we can also read the target states back from the Storm's representation of ConsMDPs."
   ]
  },
  {
   "cell_type": "code",
   "execution_count": 22,
   "metadata": {},
   "outputs": [
    {
     "data": {
      "text/plain": [
       "True"
      ]
     },
     "execution_count": 22,
     "metadata": {},
     "output_type": "execute_result"
    }
   ],
   "source": [
    "st_targets = consmdp_to_storm_consmdp(m, T)\n",
    "mdp, st_T = storm_sparsemdp_to_consmdp(st_targets, return_targets=True)\n",
    "set(st_T) == T"
   ]
  }
 ],
 "metadata": {
  "kernelspec": {
   "display_name": "Python 3",
   "language": "python",
   "name": "python3"
  },
  "language_info": {
   "codemirror_mode": {
    "name": "ipython",
    "version": 3
   },
   "file_extension": ".py",
   "mimetype": "text/x-python",
   "name": "python",
   "nbconvert_exporter": "python",
   "pygments_lexer": "ipython3",
   "version": "3.8.2"
  }
 },
 "nbformat": 4,
 "nbformat_minor": 4
}
