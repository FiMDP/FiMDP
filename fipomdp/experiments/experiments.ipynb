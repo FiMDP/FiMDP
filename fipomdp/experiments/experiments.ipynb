{
 "cells": [
  {
   "cell_type": "code",
   "execution_count": 1,
   "metadata": {
    "collapsed": true
   },
   "outputs": [],
   "source": [
    "import logging\n",
    "import platform, psutil\n",
    "import math\n",
    "\n",
    "from fimdpenv import setup\n",
    "from fimdpenv.UUVEnv import SingleAgentEnv\n",
    "from fipomdp import ConsPOMDP\n",
    "from fipomdp.pomcp import OnlineStrategy\n",
    "\n",
    "setup()\n",
    "logging_level = logging.WARNING"
   ]
  },
  {
   "cell_type": "markdown",
   "source": [
    "## UUV POMDP Single Agent"
   ],
   "metadata": {
    "collapsed": false,
    "pycharm": {
     "name": "#%% md\n"
    }
   }
  },
  {
   "cell_type": "markdown",
   "source": [
    "Run following 2 cells for logging"
   ],
   "metadata": {
    "collapsed": false,
    "pycharm": {
     "name": "#%% md\n"
    }
   }
  },
  {
   "cell_type": "code",
   "execution_count": 2,
   "outputs": [],
   "source": [
    "log_file_name = \"UUVExperiments\"  # Change for your needs\n",
    "logging_level = logging.INFO # set to INFO for logging to be active"
   ],
   "metadata": {
    "collapsed": false,
    "pycharm": {
     "name": "#%%\n"
    }
   }
  },
  {
   "cell_type": "code",
   "execution_count": 3,
   "outputs": [],
   "source": [
    "logging.basicConfig(filename=f\"{log_file_name}.log\",\n",
    "                    filemode='w',  # Erase previous log\n",
    "                    format='%(asctime)s %(levelname)-8s %(message)s',\n",
    "                    level=logging.INFO,\n",
    "                    datefmt='%Y-%m-%d %H:%M:%S')\n",
    "logging.info('START')"
   ],
   "metadata": {
    "collapsed": false,
    "pycharm": {
     "name": "#%%\n"
    }
   }
  },
  {
   "cell_type": "markdown",
   "source": [
    "Device logs"
   ],
   "metadata": {
    "collapsed": false,
    "pycharm": {
     "name": "#%% md\n"
    }
   }
  },
  {
   "cell_type": "code",
   "execution_count": 4,
   "outputs": [
    {
     "name": "stdout",
     "output_type": "stream",
     "text": [
      "Node name: simonbrlej-ThinkPad-T14-Gen-1\n",
      "System: Linux\n",
      "Release: 5.11.0-44-generic\n",
      "Version: #48~20.04.2-Ubuntu SMP Tue Dec 14 15:36:44 UTC 2021\n",
      "Machine: x86_64\n",
      "Processor: x86_64\n",
      "RAM: 15 GB\n"
     ]
    }
   ],
   "source": [
    "uname = platform.uname()\n",
    "logging.info(f\"Node name: {uname.node}\")\n",
    "logging.info(f\"System: {uname.system}\")\n",
    "logging.info(f\"Release: {uname.release}\")\n",
    "logging.info(f\"Version: {uname.version}\")\n",
    "logging.info(f\"Machine: {uname.machine}\")\n",
    "logging.info(f\"Processor: {uname.processor}\")\n",
    "logging.info(f\"RAM: {str(round(psutil.virtual_memory().total / (1024.0 **3)))} GB\")"
   ],
   "metadata": {
    "collapsed": false,
    "pycharm": {
     "name": "#%%\n"
    }
   }
  },
  {
   "cell_type": "markdown",
   "source": [
    "##### Create environment with observations"
   ],
   "metadata": {
    "collapsed": false,
    "pycharm": {
     "name": "#%% md\n"
    }
   }
  },
  {
   "cell_type": "code",
   "execution_count": 2,
   "outputs": [],
   "source": [
    "from fipomdp.environment_utils import set_cross_observations_to_UUV_grid"
   ],
   "metadata": {
    "collapsed": false,
    "pycharm": {
     "name": "#%%\n"
    }
   }
  },
  {
   "cell_type": "code",
   "execution_count": 2,
   "outputs": [
    {
     "ename": "NameError",
     "evalue": "name 'logging' is not defined",
     "output_type": "error",
     "traceback": [
      "\u001B[0;31m---------------------------------------------------------------------------\u001B[0m",
      "\u001B[0;31mNameError\u001B[0m                                 Traceback (most recent call last)",
      "\u001B[0;32m/tmp/ipykernel_31055/4122260527.py\u001B[0m in \u001B[0;36m<module>\u001B[0;34m\u001B[0m\n\u001B[0;32m----> 1\u001B[0;31m \u001B[0mlogging\u001B[0m\u001B[0;34m.\u001B[0m\u001B[0minfo\u001B[0m\u001B[0;34m(\u001B[0m\u001B[0;34m'Creating UUV environment with observations.'\u001B[0m\u001B[0;34m)\u001B[0m\u001B[0;34m\u001B[0m\u001B[0;34m\u001B[0m\u001B[0m\n\u001B[0m\u001B[1;32m      2\u001B[0m \u001B[0;34m\u001B[0m\u001B[0m\n\u001B[1;32m      3\u001B[0m \u001B[0menv\u001B[0m \u001B[0;34m=\u001B[0m \u001B[0mSingleAgentEnv\u001B[0m\u001B[0;34m(\u001B[0m\u001B[0mgrid_size\u001B[0m\u001B[0;34m=\u001B[0m\u001B[0;34m[\u001B[0m\u001B[0;36m20\u001B[0m\u001B[0;34m,\u001B[0m \u001B[0;36m20\u001B[0m\u001B[0;34m]\u001B[0m\u001B[0;34m,\u001B[0m \u001B[0mcapacity\u001B[0m\u001B[0;34m=\u001B[0m\u001B[0;36m20\u001B[0m\u001B[0;34m,\u001B[0m \u001B[0mreloads\u001B[0m\u001B[0;34m=\u001B[0m\u001B[0;34m[\u001B[0m\u001B[0;36m64\u001B[0m\u001B[0;34m,\u001B[0m \u001B[0;36m69\u001B[0m\u001B[0;34m,\u001B[0m \u001B[0;36m74\u001B[0m\u001B[0;34m,\u001B[0m \u001B[0;36m164\u001B[0m\u001B[0;34m,\u001B[0m \u001B[0;36m169\u001B[0m\u001B[0;34m,\u001B[0m \u001B[0;36m174\u001B[0m\u001B[0;34m,\u001B[0m \u001B[0;36m264\u001B[0m\u001B[0;34m,\u001B[0m \u001B[0;36m269\u001B[0m\u001B[0;34m,\u001B[0m \u001B[0;36m274\u001B[0m\u001B[0;34m,\u001B[0m \u001B[0;36m364\u001B[0m\u001B[0;34m,\u001B[0m \u001B[0;36m369\u001B[0m\u001B[0;34m,\u001B[0m \u001B[0;36m374\u001B[0m\u001B[0;34m]\u001B[0m\u001B[0;34m,\u001B[0m \u001B[0mtargets\u001B[0m\u001B[0;34m=\u001B[0m\u001B[0;34m[\u001B[0m\u001B[0;36m103\u001B[0m\u001B[0;34m,\u001B[0m \u001B[0;36m209\u001B[0m\u001B[0;34m,\u001B[0m \u001B[0;36m210\u001B[0m\u001B[0;34m,\u001B[0m \u001B[0;36m270\u001B[0m\u001B[0;34m]\u001B[0m\u001B[0;34m,\u001B[0m \u001B[0minit_state\u001B[0m\u001B[0;34m=\u001B[0m\u001B[0;36m399\u001B[0m\u001B[0;34m,\u001B[0m \u001B[0menhanced_actionspace\u001B[0m\u001B[0;34m=\u001B[0m\u001B[0;36m0\u001B[0m\u001B[0;34m)\u001B[0m\u001B[0;34m\u001B[0m\u001B[0;34m\u001B[0m\u001B[0m\n\u001B[1;32m      4\u001B[0m \u001B[0;34m\u001B[0m\u001B[0m\n\u001B[1;32m      5\u001B[0m \u001B[0mmdp\u001B[0m\u001B[0;34m,\u001B[0m \u001B[0mtargets\u001B[0m \u001B[0;34m=\u001B[0m \u001B[0menv\u001B[0m\u001B[0;34m.\u001B[0m\u001B[0mget_consmdp\u001B[0m\u001B[0;34m(\u001B[0m\u001B[0;34m)\u001B[0m\u001B[0;34m\u001B[0m\u001B[0;34m\u001B[0m\u001B[0m\n",
      "\u001B[0;31mNameError\u001B[0m: name 'logging' is not defined"
     ]
    }
   ],
   "source": [
    "logging.info('Creating UUV environment with observations.')\n",
    "\n",
    "env = SingleAgentEnv(grid_size=[20, 20], capacity=20, reloads=[64, 69, 74, 164, 169, 174, 264, 269, 274, 364, 369, 374], targets=[103, 209, 210, 270], init_state=399, enhanced_actionspace=0)\n",
    "\n",
    "mdp, targets = env.get_consmdp()\n",
    "mdp.__class__ = ConsPOMDP\n",
    "set_cross_observations_to_UUV_grid(mdp, (env.grid_size[0], env.grid_size[1]))\n",
    "\n",
    "logging.info('Environment created')"
   ],
   "metadata": {
    "collapsed": false,
    "pycharm": {
     "name": "#%%\n"
    }
   }
  },
  {
   "cell_type": "markdown",
   "source": [
    "##### Calculate belief support cmdp and guessing cmdp"
   ],
   "metadata": {
    "collapsed": false,
    "pycharm": {
     "name": "#%% md\n"
    }
   }
  },
  {
   "cell_type": "code",
   "execution_count": null,
   "outputs": [],
   "source": [
    "cpomdp = mdp\n",
    "capacity = env.capacities[0]\n",
    "init_energy = capacity\n",
    "init_obs = 399\n",
    "init_bel_supp = tuple([399])\n",
    "exploration = 0.9\n",
    "random_seed = 1\n",
    "\n",
    "cpomdp.compute_guessing_cmdp_initial_state([399])\n",
    "strategy = OnlineStrategy(cpomdp, capacity, init_energy, init_obs, init_bel_supp, targets, exploration, random_seed, False)"
   ],
   "metadata": {
    "collapsed": false,
    "pycharm": {
     "name": "#%%\n"
    }
   }
  },
  {
   "cell_type": "code",
   "execution_count": null,
   "outputs": [],
   "source": [
    "strategy.tree.action_shield"
   ],
   "metadata": {
    "collapsed": false,
    "pycharm": {
     "name": "#%%\n"
    }
   }
  },
  {
   "cell_type": "code",
   "execution_count": 3,
   "outputs": [
    {
     "name": "stdout",
     "output_type": "stream",
     "text": [
      "[0, -1, -1, -1, -1, -1, -1, -1]\n",
      "[0, 2, -1, -1, -1, -1, -1, -1]\n",
      "[0, 2, 2, -1, -1, -1, -1, -1]\n",
      "[0, 2, 2, 4, -1, -1, -1, -1]\n",
      "[0, 2, 2, 4, -1, -1, -1, -1]\n",
      "[0, 2, 2, 4, 4, -1, -1, -1]\n",
      "[0, 2, 2, 4, 4, -1, -1, -1]\n",
      "[0, 2, 2, 4, 4, 4, -1, -1]\n",
      "[0, 2, 2, 4, 4, 4, -1, -1]\n",
      "[0, 2, 2, 4, 4, 4, 4, -1]\n",
      "[0, 2, 2, 4, 4, 4, 4, -1]\n",
      "[0, 2, 2, 4, 4, 4, 4, -1]\n",
      "[0, 2, 2, 4, 4, 4, 4, -1]\n",
      "[0, 2, 2, 4, 4, 4, 4, -1]\n",
      "[0, 2, 2, 4, 4, 4, 4, -1]\n",
      "[0, 2, 2, 4, 4, 4, 4, 4]\n",
      "[0, 2, 2, 4, 4, 4, 4, 4]\n",
      "[0, 2, 2, 4, 4, 4, 4, 4]\n",
      "[0, 2, 2, 4, 4, 4, 4, 4]\n",
      "[0, 2, 2, 4, 4, 4, 4, 4]\n",
      "[0, 2, 2, 4, 4, 4, 4, 4]\n",
      "[(4, 0——Strong East[2]——>{1: 1.0}), (2, 0——Strong North[2]——>{0: 1.0}), (4, 0——Strong South[2]——>{2: 1.0}), (2, 0——Strong West[2]——>{0: 1.0}), (5, 0——Weak East[1]——>{1: 0.3333, 2: 0.3333, 3: 0.3334}), (5, 0——Weak North[1]——>{1: 0.3333, 2: 0.3333, 3: 0.3334}), (5, 0——Weak South[1]——>{1: 0.3333, 2: 0.3333, 3: 0.3334}), (5, 0——Weak West[1]——>{1: 0.3333, 2: 0.3333, 3: 0.3334}), (4, 1——Strong East[2]——>{1: 1.0}), (4, 1——Strong North[2]——>{1: 1.0}), (6, 1——Strong South[2]——>{4: 1.0}), (2, 1——Strong West[2]——>{0: 1.0}), (5, 1——Weak East[1]——>{0: 0.5, 4: 0.5}), (5, 1——Weak North[1]——>{0: 0.5, 4: 0.5}), (5, 1——Weak South[1]——>{0: 0.5, 4: 0.5}), (5, 1——Weak West[1]——>{0: 0.5, 4: 0.5}), (6, 2——Strong East[2]——>{4: 1.0}), (2, 2——Strong North[2]——>{0: 1.0}), (4, 2——Strong South[2]——>{2: 1.0}), (4, 2——Strong West[2]——>{2: 1.0}), (5, 2——Weak East[1]——>{0: 0.5, 4: 0.5}), (5, 2——Weak North[1]——>{0: 0.5, 4: 0.5}), (5, 2——Weak South[1]——>{0: 0.5, 4: 0.5}), (5, 2——Weak West[1]——>{0: 0.5, 4: 0.5}), (6, 3——Strong East[2]——>{4: 0.5, 5: 0.5}), (4, 3——Strong North[2]——>{0: 0.5, 1: 0.5}), (6, 3——Strong South[2]——>{4: 0.5, 6: 0.5}), (4, 3——Strong West[2]——>{0: 0.5, 2: 0.5}), (5, 3——Weak East[1]——>{0: 0.5, 4: 0.5}), (5, 3——Weak North[1]——>{0: 0.5, 4: 0.5}), (5, 3——Weak South[1]——>{0: 0.5, 4: 0.5}), (5, 3——Weak West[1]——>{0: 0.5, 4: 0.5}), (6, 4——Strong East[2]——>{4: 1.0}), (4, 4——Strong North[2]——>{1: 1.0}), (6, 4——Strong South[2]——>{4: 1.0}), (4, 4——Strong West[2]——>{2: 1.0}), (5, 4——Weak East[1]——>{1: 0.3333, 2: 0.3333, 3: 0.3334}), (5, 4——Weak North[1]——>{1: 0.3333, 2: 0.3333, 3: 0.3334}), (5, 4——Weak South[1]——>{1: 0.3333, 2: 0.3333, 3: 0.3334}), (5, 4——Weak West[1]——>{1: 0.3333, 2: 0.3333, 3: 0.3334}), (6, 5——Strong East[2]——>{4: 0.5, 5: 0.5}), (4, 5——Strong North[2]——>{1: 1.0}), (6, 5——Strong South[2]——>{4: 1.0}), (4, 5——Strong West[2]——>{0: 0.5, 2: 0.5}), (5, 5——Weak East[1]——>{0: 0.25, 5: 0.25, 6: 0.25, 7: 0.25}), (5, 5——Weak North[1]——>{0: 0.25, 5: 0.25, 6: 0.25, 7: 0.25}), (5, 5——Weak South[1]——>{0: 0.25, 5: 0.25, 6: 0.25, 7: 0.25}), (5, 5——Weak West[1]——>{0: 0.25, 5: 0.25, 6: 0.25, 7: 0.25}), (6, 6——Strong East[2]——>{4: 1.0}), (4, 6——Strong North[2]——>{0: 0.5, 1: 0.5}), (6, 6——Strong South[2]——>{4: 0.5, 6: 0.5}), (4, 6——Strong West[2]——>{2: 1.0}), (5, 6——Weak East[1]——>{0: 0.25, 5: 0.25, 6: 0.25, 7: 0.25}), (5, 6——Weak North[1]——>{0: 0.25, 5: 0.25, 6: 0.25, 7: 0.25}), (5, 6——Weak South[1]——>{0: 0.25, 5: 0.25, 6: 0.25, 7: 0.25}), (5, 6——Weak West[1]——>{0: 0.25, 5: 0.25, 6: 0.25, 7: 0.25}), (6, 7——Strong East[2]——>{4: 0.5, 5: 0.5}), (4, 7——Strong North[2]——>{0: 0.5, 1: 0.5}), (6, 7——Strong South[2]——>{4: 0.5, 6: 0.5}), (4, 7——Strong West[2]——>{0: 0.5, 2: 0.5}), (5, 7——Weak East[1]——>{0: 0.25, 5: 0.25, 6: 0.25, 7: 0.25}), (5, 7——Weak North[1]——>{0: 0.25, 5: 0.25, 6: 0.25, 7: 0.25}), (5, 7——Weak South[1]——>{0: 0.25, 5: 0.25, 6: 0.25, 7: 0.25}), (5, 7——Weak West[1]——>{0: 0.25, 5: 0.25, 6: 0.25, 7: 0.25})]\n",
      "20\n",
      "20\n"
     ]
    }
   ],
   "source": [
    "import math\n",
    "\n",
    "env = SingleAgentEnv(grid_size=[2, 2], capacity=20, reloads=[0], targets=[2], init_state=0, enhanced_actionspace=0)\n",
    "\n",
    "mdp, targets = env.get_consmdp()\n",
    "mdp.__class__ = ConsPOMDP\n",
    "set_cross_observations_to_UUV_grid(mdp, (env.grid_size[0], env.grid_size[1]))\n",
    "\n",
    "cpomdp = mdp\n",
    "capacity = env.capacities[0]\n",
    "init_energy = capacity\n",
    "init_obs = 0\n",
    "init_bel_supp = tuple([0])\n",
    "exploration = 0.9\n",
    "random_seed = 1\n",
    "\n",
    "strategy = OnlineStrategy(cpomdp, capacity, init_energy, init_obs, init_bel_supp, targets, exploration, random_seed, True)\n",
    "print(strategy.tree.action_shield)\n",
    "print(env.capacities[0])\n",
    "print(init_energy)"
   ],
   "metadata": {
    "collapsed": false,
    "pycharm": {
     "name": "#%%\n"
    }
   }
  },
  {
   "cell_type": "code",
   "execution_count": 5,
   "outputs": [
    {
     "data": {
      "text/plain": "[0, 2, 2, 4, 4, 4, inf, 4, inf, 4, inf, 4, inf, 4, inf, 4, 4, 4, inf, inf, inf]"
     },
     "execution_count": 5,
     "metadata": {},
     "output_type": "execute_result"
    }
   ],
   "source": [
    "from fimdp.objectives import BUCHI, SAFE, POS_REACH\n",
    "strategy.solver.guess_min_levels[BUCHI]\n",
    "\n"
   ],
   "metadata": {
    "collapsed": false,
    "pycharm": {
     "name": "#%%\n"
    }
   }
  },
  {
   "cell_type": "code",
   "execution_count": 4,
   "outputs": [
    {
     "name": "stdout",
     "output_type": "stream",
     "text": [
      "\n",
      "ALL BELIEF SUPPS: [(1,), (2,), (1, 2)]\n",
      "BELIEF SUPP ACITON: 0——Weak South[1]——>{1: 0.3333, 2: 0.3333, 3: 0.3334}, SRC BELIEF: [0]\n",
      "OBS_DISTR: {2: 0.95, 3: 0.05}\n",
      "MATCHING STATE ACITON: 0——Weak South[1]——>{1: 0.2, 2: 0.8}\n",
      "PICKED BELIEF SUPP: (2,)\n",
      "\n",
      "ALL BELIEF SUPPS: [(1,)]\n",
      "BELIEF SUPP ACITON: 0——Strong East[2]——>{1: 1.0}, SRC BELIEF: [0]\n",
      "OBS_DISTR: {1: 0.95, 3: 0.05}\n",
      "MATCHING STATE ACITON: 0——Strong East[2]——>{1: 1.0}\n",
      "PICKED BELIEF SUPP: (1,)\n",
      "\n",
      "ALL BELIEF SUPPS: [(1,), (2,), (1, 2)]\n",
      "BELIEF SUPP ACITON: 0——Weak East[1]——>{1: 0.3333, 2: 0.3333, 3: 0.3334}, SRC BELIEF: [0]\n",
      "OBS_DISTR: {2: 0.95, 3: 0.05}\n",
      "MATCHING STATE ACITON: 0——Weak East[1]——>{1: 0.65, 2: 0.35}\n",
      "PICKED BELIEF SUPP: (2,)\n",
      "\n",
      "ALL BELIEF SUPPS: [(1,), (2,), (1, 2)]\n",
      "BELIEF SUPP ACITON: 0——Weak West[1]——>{1: 0.3333, 2: 0.3333, 3: 0.3334}, SRC BELIEF: [0]\n",
      "OBS_DISTR: {2: 0.95, 3: 0.05}\n",
      "MATCHING STATE ACITON: 0——Weak West[1]——>{1: 0.02, 2: 0.98}\n",
      "PICKED BELIEF SUPP: (2,)\n",
      "\n",
      "ALL BELIEF SUPPS: [(1,), (2,), (1, 2)]\n",
      "BELIEF SUPP ACITON: 0——Weak North[1]——>{1: 0.3333, 2: 0.3333, 3: 0.3334}, SRC BELIEF: [0]\n",
      "OBS_DISTR: {2: 0.95, 3: 0.05}\n",
      "MATCHING STATE ACITON: 0——Weak North[1]——>{1: 0.18, 2: 0.82}\n",
      "PICKED BELIEF SUPP: (2,)\n",
      "\n",
      "ALL BELIEF SUPPS: [(2,)]\n",
      "BELIEF SUPP ACITON: 0——Strong South[2]——>{2: 1.0}, SRC BELIEF: [0]\n",
      "OBS_DISTR: {2: 0.95, 3: 0.05}\n",
      "MATCHING STATE ACITON: 0——Strong South[2]——>{2: 1.0}\n",
      "PICKED BELIEF SUPP: (2,)\n",
      "\n",
      "ALL BELIEF SUPPS: [(0,)]\n",
      "BELIEF SUPP ACITON: 0——Strong West[2]——>{0: 1.0}, SRC BELIEF: [0]\n",
      "OBS_DISTR: {0: 1.0}\n",
      "MATCHING STATE ACITON: 0——Strong West[2]——>{0: 1.0}\n",
      "PICKED BELIEF SUPP: (0,)\n",
      "\n",
      "ALL BELIEF SUPPS: [(0,)]\n",
      "BELIEF SUPP ACITON: 0——Strong North[2]——>{0: 1.0}, SRC BELIEF: [0]\n",
      "OBS_DISTR: {0: 1.0}\n",
      "MATCHING STATE ACITON: 0——Strong North[2]——>{0: 1.0}\n",
      "PICKED BELIEF SUPP: (0,)\n",
      "\n",
      "ALL BELIEF SUPPS: [(1,)]\n",
      "BELIEF SUPP ACITON: 0——Strong East[2]——>{1: 1.0}, SRC BELIEF: [0]\n",
      "OBS_DISTR: {1: 0.95, 3: 0.05}\n",
      "MATCHING STATE ACITON: 0——Strong East[2]——>{1: 1.0}\n",
      "PICKED BELIEF SUPP: (1,)\n",
      "\n",
      "ALL BELIEF SUPPS: [(0,)]\n",
      "BELIEF SUPP ACITON: 1——Strong West[2]——>{0: 1.0}, SRC BELIEF: [1]\n",
      "OBS_DISTR: {0: 1.0}\n",
      "MATCHING STATE ACITON: 0——Strong West[2]——>{0: 1.0}\n",
      "PICKED BELIEF SUPP: (0,)\n"
     ]
    },
    {
     "data": {
      "text/plain": "0——Strong East[2]——>{1: 1.0}"
     },
     "execution_count": 4,
     "metadata": {},
     "output_type": "execute_result"
    }
   ],
   "source": [
    "strategy.next_action(10)"
   ],
   "metadata": {
    "collapsed": false,
    "pycharm": {
     "name": "#%%\n"
    }
   }
  },
  {
   "cell_type": "code",
   "execution_count": 5,
   "outputs": [],
   "source": [
    "strategy.update_obs(1)"
   ],
   "metadata": {
    "collapsed": false,
    "pycharm": {
     "name": "#%%\n"
    }
   }
  },
  {
   "cell_type": "code",
   "execution_count": 6,
   "outputs": [
    {
     "name": "stdout",
     "output_type": "stream",
     "text": [
      "\n",
      "ALL BELIEF SUPPS: [(1,)]\n",
      "BELIEF SUPP ACITON: 1——Strong North[2]——>{1: 1.0}, SRC BELIEF: [1]\n",
      "OBS_DISTR: {1: 0.95, 3: 0.05}\n",
      "MATCHING STATE ACITON: 1——Strong North[2]——>{1: 1.0}\n",
      "PICKED BELIEF SUPP: (1,)\n",
      "\n",
      "ALL BELIEF SUPPS: [(1,)]\n",
      "BELIEF SUPP ACITON: 1——Strong East[2]——>{1: 1.0}, SRC BELIEF: [1]\n",
      "OBS_DISTR: {1: 0.95, 3: 0.05}\n",
      "MATCHING STATE ACITON: 1——Strong East[2]——>{1: 1.0}\n",
      "PICKED BELIEF SUPP: (1,)\n",
      "\n",
      "ALL BELIEF SUPPS: [(0,), (3,)]\n",
      "BELIEF SUPP ACITON: 1——Weak North[1]——>{0: 0.5, 4: 0.5}, SRC BELIEF: [1]\n",
      "OBS_DISTR: {1: 0.05, 2: 0.05, 3: 0.9}\n",
      "MATCHING STATE ACITON: 1——Weak North[1]——>{0: 0.14, 3: 0.86}\n",
      "PICKED BELIEF SUPP: (3,)\n",
      "\n",
      "ALL BELIEF SUPPS: [(0,), (3,)]\n",
      "BELIEF SUPP ACITON: 1——Weak West[1]——>{0: 0.5, 4: 0.5}, SRC BELIEF: [1]\n",
      "OBS_DISTR: {1: 0.05, 2: 0.05, 3: 0.9}\n",
      "MATCHING STATE ACITON: 1——Weak West[1]——>{0: 0.64, 3: 0.36}\n",
      "PICKED BELIEF SUPP: (3,)\n",
      "\n",
      "ALL BELIEF SUPPS: [(0,)]\n",
      "BELIEF SUPP ACITON: 1——Strong West[2]——>{0: 1.0}, SRC BELIEF: [1]\n",
      "OBS_DISTR: {0: 1.0}\n",
      "MATCHING STATE ACITON: 1——Strong West[2]——>{0: 1.0}\n",
      "PICKED BELIEF SUPP: (0,)\n",
      "\n",
      "ALL BELIEF SUPPS: [(0,), (3,)]\n",
      "BELIEF SUPP ACITON: 1——Weak South[1]——>{0: 0.5, 4: 0.5}, SRC BELIEF: [1]\n",
      "OBS_DISTR: {1: 0.05, 2: 0.05, 3: 0.9}\n",
      "MATCHING STATE ACITON: 1——Weak South[1]——>{0: 0.13, 3: 0.87}\n",
      "PICKED BELIEF SUPP: (3,)\n",
      "\n",
      "ALL BELIEF SUPPS: [(0,), (3,)]\n",
      "BELIEF SUPP ACITON: 1——Weak East[1]——>{0: 0.5, 4: 0.5}, SRC BELIEF: [1]\n",
      "OBS_DISTR: {1: 0.05, 2: 0.05, 3: 0.9}\n",
      "MATCHING STATE ACITON: 1——Weak East[1]——>{0: 0.02, 3: 0.98}\n",
      "PICKED BELIEF SUPP: (3,)\n",
      "\n",
      "ALL BELIEF SUPPS: [(3,)]\n",
      "BELIEF SUPP ACITON: 1——Strong South[2]——>{4: 1.0}, SRC BELIEF: [1]\n",
      "OBS_DISTR: {1: 0.05, 2: 0.05, 3: 0.9}\n",
      "MATCHING STATE ACITON: 1——Strong South[2]——>{3: 1.0}\n",
      "PICKED BELIEF SUPP: (3,)\n",
      "\n",
      "ALL BELIEF SUPPS: [(1,)]\n",
      "BELIEF SUPP ACITON: 1——Strong East[2]——>{1: 1.0}, SRC BELIEF: [1]\n",
      "OBS_DISTR: {1: 0.95, 3: 0.05}\n",
      "MATCHING STATE ACITON: 1——Strong East[2]——>{1: 1.0}\n",
      "PICKED BELIEF SUPP: (1,)\n",
      "\n",
      "ALL BELIEF SUPPS: [(0,), (3,)]\n",
      "BELIEF SUPP ACITON: 1——Weak North[1]——>{0: 0.5, 4: 0.5}, SRC BELIEF: [1]\n",
      "OBS_DISTR: {1: 0.05, 2: 0.05, 3: 0.9}\n",
      "MATCHING STATE ACITON: 1——Weak North[1]——>{0: 0.14, 3: 0.86}\n",
      "PICKED BELIEF SUPP: (3,)\n"
     ]
    },
    {
     "data": {
      "text/plain": "1——Strong East[2]——>{1: 1.0}"
     },
     "execution_count": 6,
     "metadata": {},
     "output_type": "execute_result"
    }
   ],
   "source": [
    "strategy.next_action(10)"
   ],
   "metadata": {
    "collapsed": false,
    "pycharm": {
     "name": "#%%\n"
    }
   }
  },
  {
   "cell_type": "code",
   "execution_count": 7,
   "outputs": [],
   "source": [
    "strategy.update_obs(1)"
   ],
   "metadata": {
    "collapsed": false,
    "pycharm": {
     "name": "#%%\n"
    }
   }
  },
  {
   "cell_type": "code",
   "execution_count": 8,
   "outputs": [
    {
     "name": "stdout",
     "output_type": "stream",
     "text": [
      "\n",
      "ALL BELIEF SUPPS: [(1,)]\n",
      "BELIEF SUPP ACITON: 1——Strong North[2]——>{1: 1.0}, SRC BELIEF: [1]\n",
      "OBS_DISTR: {1: 0.95, 3: 0.05}\n",
      "MATCHING STATE ACITON: 1——Strong North[2]——>{1: 1.0}\n",
      "PICKED BELIEF SUPP: (1,)\n",
      "\n",
      "ALL BELIEF SUPPS: [(1,)]\n",
      "BELIEF SUPP ACITON: 1——Strong East[2]——>{1: 1.0}, SRC BELIEF: [1]\n",
      "OBS_DISTR: {1: 0.95, 3: 0.05}\n",
      "MATCHING STATE ACITON: 1——Strong East[2]——>{1: 1.0}\n",
      "PICKED BELIEF SUPP: (1,)\n",
      "\n",
      "ALL BELIEF SUPPS: [(0,), (3,)]\n",
      "BELIEF SUPP ACITON: 1——Weak North[1]——>{0: 0.5, 4: 0.5}, SRC BELIEF: [1]\n",
      "OBS_DISTR: {1: 0.05, 2: 0.05, 3: 0.9}\n",
      "MATCHING STATE ACITON: 1——Weak North[1]——>{0: 0.14, 3: 0.86}\n",
      "PICKED BELIEF SUPP: (3,)\n",
      "\n",
      "ALL BELIEF SUPPS: [(0,), (3,)]\n",
      "BELIEF SUPP ACITON: 1——Weak West[1]——>{0: 0.5, 4: 0.5}, SRC BELIEF: [1]\n",
      "OBS_DISTR: {1: 0.05, 2: 0.05, 3: 0.9}\n",
      "MATCHING STATE ACITON: 1——Weak West[1]——>{0: 0.64, 3: 0.36}\n",
      "PICKED BELIEF SUPP: (3,)\n",
      "\n",
      "ALL BELIEF SUPPS: [(0,)]\n",
      "BELIEF SUPP ACITON: 1——Strong West[2]——>{0: 1.0}, SRC BELIEF: [1]\n",
      "OBS_DISTR: {0: 1.0}\n",
      "MATCHING STATE ACITON: 1——Strong West[2]——>{0: 1.0}\n",
      "PICKED BELIEF SUPP: (0,)\n",
      "\n",
      "ALL BELIEF SUPPS: [(0,), (3,)]\n",
      "BELIEF SUPP ACITON: 1——Weak South[1]——>{0: 0.5, 4: 0.5}, SRC BELIEF: [1]\n",
      "OBS_DISTR: {1: 0.05, 2: 0.05, 3: 0.9}\n",
      "MATCHING STATE ACITON: 1——Weak South[1]——>{0: 0.13, 3: 0.87}\n",
      "PICKED BELIEF SUPP: (3,)\n",
      "\n",
      "ALL BELIEF SUPPS: [(0,), (3,)]\n",
      "BELIEF SUPP ACITON: 1——Weak East[1]——>{0: 0.5, 4: 0.5}, SRC BELIEF: [1]\n",
      "OBS_DISTR: {1: 0.05, 2: 0.05, 3: 0.9}\n",
      "MATCHING STATE ACITON: 1——Weak East[1]——>{0: 0.02, 3: 0.98}\n",
      "PICKED BELIEF SUPP: (3,)\n",
      "\n",
      "ALL BELIEF SUPPS: [(3,)]\n",
      "BELIEF SUPP ACITON: 1——Strong South[2]——>{4: 1.0}, SRC BELIEF: [1]\n",
      "OBS_DISTR: {1: 0.05, 2: 0.05, 3: 0.9}\n",
      "MATCHING STATE ACITON: 1——Strong South[2]——>{3: 1.0}\n",
      "PICKED BELIEF SUPP: (3,)\n",
      "\n",
      "ALL BELIEF SUPPS: [(1,)]\n",
      "BELIEF SUPP ACITON: 1——Strong East[2]——>{1: 1.0}, SRC BELIEF: [1]\n",
      "OBS_DISTR: {1: 0.95, 3: 0.05}\n",
      "MATCHING STATE ACITON: 1——Strong East[2]——>{1: 1.0}\n",
      "PICKED BELIEF SUPP: (1,)\n",
      "\n",
      "ALL BELIEF SUPPS: [(0,), (3,)]\n",
      "BELIEF SUPP ACITON: 1——Weak North[1]——>{0: 0.5, 4: 0.5}, SRC BELIEF: [1]\n",
      "OBS_DISTR: {1: 0.05, 2: 0.05, 3: 0.9}\n",
      "MATCHING STATE ACITON: 1——Weak North[1]——>{0: 0.14, 3: 0.86}\n",
      "PICKED BELIEF SUPP: (3,)\n"
     ]
    },
    {
     "data": {
      "text/plain": "1——Strong East[2]——>{1: 1.0}"
     },
     "execution_count": 8,
     "metadata": {},
     "output_type": "execute_result"
    }
   ],
   "source": [
    "strategy.next_action(10)"
   ],
   "metadata": {
    "collapsed": false,
    "pycharm": {
     "name": "#%%\n"
    }
   }
  },
  {
   "cell_type": "code",
   "execution_count": 9,
   "outputs": [],
   "source": [
    "strategy.update_obs(1)"
   ],
   "metadata": {
    "collapsed": false,
    "pycharm": {
     "name": "#%%\n"
    }
   }
  },
  {
   "cell_type": "code",
   "execution_count": 10,
   "outputs": [
    {
     "name": "stdout",
     "output_type": "stream",
     "text": [
      "\n",
      "ALL BELIEF SUPPS: [(1,)]\n",
      "BELIEF SUPP ACITON: 1——Strong North[2]——>{1: 1.0}, SRC BELIEF: [1]\n",
      "OBS_DISTR: {1: 0.95, 3: 0.05}\n",
      "MATCHING STATE ACITON: 1——Strong North[2]——>{1: 1.0}\n",
      "PICKED BELIEF SUPP: (1,)\n",
      "\n",
      "ALL BELIEF SUPPS: [(1,)]\n",
      "BELIEF SUPP ACITON: 1——Strong East[2]——>{1: 1.0}, SRC BELIEF: [1]\n",
      "OBS_DISTR: {1: 0.95, 3: 0.05}\n",
      "MATCHING STATE ACITON: 1——Strong East[2]——>{1: 1.0}\n",
      "PICKED BELIEF SUPP: (1,)\n",
      "\n",
      "ALL BELIEF SUPPS: [(0,), (3,)]\n",
      "BELIEF SUPP ACITON: 1——Weak North[1]——>{0: 0.5, 4: 0.5}, SRC BELIEF: [1]\n",
      "OBS_DISTR: {1: 0.05, 2: 0.05, 3: 0.9}\n",
      "MATCHING STATE ACITON: 1——Weak North[1]——>{0: 0.14, 3: 0.86}\n",
      "PICKED BELIEF SUPP: (3,)\n",
      "\n",
      "ALL BELIEF SUPPS: [(0,), (3,)]\n",
      "BELIEF SUPP ACITON: 1——Weak West[1]——>{0: 0.5, 4: 0.5}, SRC BELIEF: [1]\n",
      "OBS_DISTR: {1: 0.05, 2: 0.05, 3: 0.9}\n",
      "MATCHING STATE ACITON: 1——Weak West[1]——>{0: 0.64, 3: 0.36}\n",
      "PICKED BELIEF SUPP: (3,)\n",
      "\n",
      "ALL BELIEF SUPPS: [(0,)]\n",
      "BELIEF SUPP ACITON: 1——Strong West[2]——>{0: 1.0}, SRC BELIEF: [1]\n",
      "OBS_DISTR: {0: 1.0}\n",
      "MATCHING STATE ACITON: 1——Strong West[2]——>{0: 1.0}\n",
      "PICKED BELIEF SUPP: (0,)\n",
      "\n",
      "ALL BELIEF SUPPS: [(0,), (3,)]\n",
      "BELIEF SUPP ACITON: 1——Weak South[1]——>{0: 0.5, 4: 0.5}, SRC BELIEF: [1]\n",
      "OBS_DISTR: {1: 0.05, 2: 0.05, 3: 0.9}\n",
      "MATCHING STATE ACITON: 1——Weak South[1]——>{0: 0.13, 3: 0.87}\n",
      "PICKED BELIEF SUPP: (3,)\n",
      "\n",
      "ALL BELIEF SUPPS: [(0,), (3,)]\n",
      "BELIEF SUPP ACITON: 1——Weak East[1]——>{0: 0.5, 4: 0.5}, SRC BELIEF: [1]\n",
      "OBS_DISTR: {1: 0.05, 2: 0.05, 3: 0.9}\n",
      "MATCHING STATE ACITON: 1——Weak East[1]——>{0: 0.02, 3: 0.98}\n",
      "PICKED BELIEF SUPP: (3,)\n",
      "\n",
      "ALL BELIEF SUPPS: [(3,)]\n",
      "BELIEF SUPP ACITON: 1——Strong South[2]——>{4: 1.0}, SRC BELIEF: [1]\n",
      "OBS_DISTR: {1: 0.05, 2: 0.05, 3: 0.9}\n",
      "MATCHING STATE ACITON: 1——Strong South[2]——>{3: 1.0}\n",
      "PICKED BELIEF SUPP: (3,)\n",
      "\n",
      "ALL BELIEF SUPPS: [(1,)]\n",
      "BELIEF SUPP ACITON: 1——Strong East[2]——>{1: 1.0}, SRC BELIEF: [1]\n",
      "OBS_DISTR: {1: 0.95, 3: 0.05}\n",
      "MATCHING STATE ACITON: 1——Strong East[2]——>{1: 1.0}\n",
      "PICKED BELIEF SUPP: (1,)\n",
      "\n",
      "ALL BELIEF SUPPS: [(0,), (3,)]\n",
      "BELIEF SUPP ACITON: 1——Weak North[1]——>{0: 0.5, 4: 0.5}, SRC BELIEF: [1]\n",
      "OBS_DISTR: {1: 0.05, 2: 0.05, 3: 0.9}\n",
      "MATCHING STATE ACITON: 1——Weak North[1]——>{0: 0.14, 3: 0.86}\n",
      "PICKED BELIEF SUPP: (3,)\n"
     ]
    },
    {
     "data": {
      "text/plain": "1——Strong East[2]——>{1: 1.0}"
     },
     "execution_count": 10,
     "metadata": {},
     "output_type": "execute_result"
    }
   ],
   "source": [
    "strategy.next_action(10)"
   ],
   "metadata": {
    "collapsed": false,
    "pycharm": {
     "name": "#%%\n"
    }
   }
  },
  {
   "cell_type": "code",
   "execution_count": 11,
   "outputs": [],
   "source": [
    "strategy.update_obs(1)"
   ],
   "metadata": {
    "collapsed": false,
    "pycharm": {
     "name": "#%%\n"
    }
   }
  },
  {
   "cell_type": "code",
   "execution_count": 12,
   "outputs": [
    {
     "name": "stdout",
     "output_type": "stream",
     "text": [
      "\n",
      "ALL BELIEF SUPPS: [(1,)]\n",
      "BELIEF SUPP ACITON: 1——Strong North[2]——>{1: 1.0}, SRC BELIEF: [1]\n",
      "OBS_DISTR: {1: 0.95, 3: 0.05}\n",
      "MATCHING STATE ACITON: 1——Strong North[2]——>{1: 1.0}\n",
      "PICKED BELIEF SUPP: (1,)\n",
      "\n",
      "ALL BELIEF SUPPS: [(1,)]\n",
      "BELIEF SUPP ACITON: 1——Strong East[2]——>{1: 1.0}, SRC BELIEF: [1]\n",
      "OBS_DISTR: {1: 0.95, 3: 0.05}\n",
      "MATCHING STATE ACITON: 1——Strong East[2]——>{1: 1.0}\n",
      "PICKED BELIEF SUPP: (1,)\n",
      "\n",
      "ALL BELIEF SUPPS: [(0,), (3,)]\n",
      "BELIEF SUPP ACITON: 1——Weak North[1]——>{0: 0.5, 4: 0.5}, SRC BELIEF: [1]\n",
      "OBS_DISTR: {1: 0.05, 2: 0.05, 3: 0.9}\n",
      "MATCHING STATE ACITON: 1——Weak North[1]——>{0: 0.14, 3: 0.86}\n",
      "PICKED BELIEF SUPP: (3,)\n",
      "\n",
      "ALL BELIEF SUPPS: [(0,), (3,)]\n",
      "BELIEF SUPP ACITON: 1——Weak West[1]——>{0: 0.5, 4: 0.5}, SRC BELIEF: [1]\n",
      "OBS_DISTR: {1: 0.05, 2: 0.05, 3: 0.9}\n",
      "MATCHING STATE ACITON: 1——Weak West[1]——>{0: 0.64, 3: 0.36}\n",
      "PICKED BELIEF SUPP: (3,)\n",
      "\n",
      "ALL BELIEF SUPPS: [(0,)]\n",
      "BELIEF SUPP ACITON: 1——Strong West[2]——>{0: 1.0}, SRC BELIEF: [1]\n",
      "OBS_DISTR: {0: 1.0}\n",
      "MATCHING STATE ACITON: 1——Strong West[2]——>{0: 1.0}\n",
      "PICKED BELIEF SUPP: (0,)\n",
      "\n",
      "ALL BELIEF SUPPS: [(0,), (3,)]\n",
      "BELIEF SUPP ACITON: 1——Weak South[1]——>{0: 0.5, 4: 0.5}, SRC BELIEF: [1]\n",
      "OBS_DISTR: {1: 0.05, 2: 0.05, 3: 0.9}\n",
      "MATCHING STATE ACITON: 1——Weak South[1]——>{0: 0.13, 3: 0.87}\n",
      "PICKED BELIEF SUPP: (3,)\n",
      "\n",
      "ALL BELIEF SUPPS: [(0,), (3,)]\n",
      "BELIEF SUPP ACITON: 1——Weak East[1]——>{0: 0.5, 4: 0.5}, SRC BELIEF: [1]\n",
      "OBS_DISTR: {1: 0.05, 2: 0.05, 3: 0.9}\n",
      "MATCHING STATE ACITON: 1——Weak East[1]——>{0: 0.02, 3: 0.98}\n",
      "PICKED BELIEF SUPP: (3,)\n",
      "\n",
      "ALL BELIEF SUPPS: [(3,)]\n",
      "BELIEF SUPP ACITON: 1——Strong South[2]——>{4: 1.0}, SRC BELIEF: [1]\n",
      "OBS_DISTR: {1: 0.05, 2: 0.05, 3: 0.9}\n",
      "MATCHING STATE ACITON: 1——Strong South[2]——>{3: 1.0}\n",
      "PICKED BELIEF SUPP: (3,)\n",
      "\n",
      "ALL BELIEF SUPPS: [(1,)]\n",
      "BELIEF SUPP ACITON: 1——Strong East[2]——>{1: 1.0}, SRC BELIEF: [1]\n",
      "OBS_DISTR: {1: 0.95, 3: 0.05}\n",
      "MATCHING STATE ACITON: 1——Strong East[2]——>{1: 1.0}\n",
      "PICKED BELIEF SUPP: (1,)\n",
      "\n",
      "ALL BELIEF SUPPS: [(0,), (3,)]\n",
      "BELIEF SUPP ACITON: 1——Weak North[1]——>{0: 0.5, 4: 0.5}, SRC BELIEF: [1]\n",
      "OBS_DISTR: {1: 0.05, 2: 0.05, 3: 0.9}\n",
      "MATCHING STATE ACITON: 1——Weak North[1]——>{0: 0.14, 3: 0.86}\n",
      "PICKED BELIEF SUPP: (3,)\n"
     ]
    },
    {
     "data": {
      "text/plain": "1——Strong East[2]——>{1: 1.0}"
     },
     "execution_count": 12,
     "metadata": {},
     "output_type": "execute_result"
    }
   ],
   "source": [
    "strategy.next_action(10)"
   ],
   "metadata": {
    "collapsed": false,
    "pycharm": {
     "name": "#%%\n"
    }
   }
  },
  {
   "cell_type": "code",
   "execution_count": 13,
   "outputs": [],
   "source": [
    "strategy.update_obs(1)"
   ],
   "metadata": {
    "collapsed": false,
    "pycharm": {
     "name": "#%%\n"
    }
   }
  },
  {
   "cell_type": "code",
   "execution_count": 14,
   "outputs": [
    {
     "name": "stdout",
     "output_type": "stream",
     "text": [
      "\n",
      "ALL BELIEF SUPPS: [(1,)]\n",
      "BELIEF SUPP ACITON: 1——Strong North[2]——>{1: 1.0}, SRC BELIEF: [1]\n",
      "OBS_DISTR: {1: 0.95, 3: 0.05}\n",
      "MATCHING STATE ACITON: 1——Strong North[2]——>{1: 1.0}\n",
      "PICKED BELIEF SUPP: (1,)\n",
      "\n",
      "ALL BELIEF SUPPS: [(1,)]\n",
      "BELIEF SUPP ACITON: 1——Strong East[2]——>{1: 1.0}, SRC BELIEF: [1]\n",
      "OBS_DISTR: {1: 0.95, 3: 0.05}\n",
      "MATCHING STATE ACITON: 1——Strong East[2]——>{1: 1.0}\n",
      "PICKED BELIEF SUPP: (1,)\n",
      "\n",
      "ALL BELIEF SUPPS: [(0,), (3,)]\n",
      "BELIEF SUPP ACITON: 1——Weak North[1]——>{0: 0.5, 4: 0.5}, SRC BELIEF: [1]\n",
      "OBS_DISTR: {1: 0.05, 2: 0.05, 3: 0.9}\n",
      "MATCHING STATE ACITON: 1——Weak North[1]——>{0: 0.14, 3: 0.86}\n",
      "PICKED BELIEF SUPP: (3,)\n",
      "\n",
      "ALL BELIEF SUPPS: [(0,), (3,)]\n",
      "BELIEF SUPP ACITON: 1——Weak West[1]——>{0: 0.5, 4: 0.5}, SRC BELIEF: [1]\n",
      "OBS_DISTR: {1: 0.05, 2: 0.05, 3: 0.9}\n",
      "MATCHING STATE ACITON: 1——Weak West[1]——>{0: 0.64, 3: 0.36}\n",
      "PICKED BELIEF SUPP: (3,)\n",
      "\n",
      "ALL BELIEF SUPPS: [(0,)]\n",
      "BELIEF SUPP ACITON: 1——Strong West[2]——>{0: 1.0}, SRC BELIEF: [1]\n",
      "OBS_DISTR: {0: 1.0}\n",
      "MATCHING STATE ACITON: 1——Strong West[2]——>{0: 1.0}\n",
      "PICKED BELIEF SUPP: (0,)\n",
      "\n",
      "ALL BELIEF SUPPS: [(0,), (3,)]\n",
      "BELIEF SUPP ACITON: 1——Weak South[1]——>{0: 0.5, 4: 0.5}, SRC BELIEF: [1]\n",
      "OBS_DISTR: {1: 0.05, 2: 0.05, 3: 0.9}\n",
      "MATCHING STATE ACITON: 1——Weak South[1]——>{0: 0.13, 3: 0.87}\n",
      "PICKED BELIEF SUPP: (3,)\n",
      "\n",
      "ALL BELIEF SUPPS: [(0,), (3,)]\n",
      "BELIEF SUPP ACITON: 1——Weak East[1]——>{0: 0.5, 4: 0.5}, SRC BELIEF: [1]\n",
      "OBS_DISTR: {1: 0.05, 2: 0.05, 3: 0.9}\n",
      "MATCHING STATE ACITON: 1——Weak East[1]——>{0: 0.02, 3: 0.98}\n",
      "PICKED BELIEF SUPP: (3,)\n",
      "\n",
      "ALL BELIEF SUPPS: [(3,)]\n",
      "BELIEF SUPP ACITON: 1——Strong South[2]——>{4: 1.0}, SRC BELIEF: [1]\n",
      "OBS_DISTR: {1: 0.05, 2: 0.05, 3: 0.9}\n",
      "MATCHING STATE ACITON: 1——Strong South[2]——>{3: 1.0}\n",
      "PICKED BELIEF SUPP: (3,)\n",
      "\n",
      "ALL BELIEF SUPPS: [(0,), (3,)]\n",
      "BELIEF SUPP ACITON: 1——Weak East[1]——>{0: 0.5, 4: 0.5}, SRC BELIEF: [1]\n",
      "OBS_DISTR: {1: 0.05, 2: 0.05, 3: 0.9}\n",
      "MATCHING STATE ACITON: 1——Weak East[1]——>{0: 0.02, 3: 0.98}\n",
      "PICKED BELIEF SUPP: (3,)\n",
      "\n",
      "ALL BELIEF SUPPS: [(3,)]\n",
      "BELIEF SUPP ACITON: 4——Strong East[2]——>{4: 1.0}, SRC BELIEF: [3]\n",
      "OBS_DISTR: {1: 0.95, 3: 0.05}\n",
      "MATCHING STATE ACITON: 1——Strong East[2]——>{1: 1.0}\n",
      "FATAL ERROR coming up\n",
      "SRC_STATE: 1, DEST STATE: 1, OBS: 3, DEST BELIEF_SUPP: [(3,)]\n"
     ]
    },
    {
     "ename": "ValueError",
     "evalue": "Couldn't match observation, for belief_supps: [(3,)] and state: 1",
     "output_type": "error",
     "traceback": [
      "\u001B[0;31m---------------------------------------------------------------------------\u001B[0m",
      "\u001B[0;31mValueError\u001B[0m                                Traceback (most recent call last)",
      "\u001B[0;32m/tmp/ipykernel_55769/3935666131.py\u001B[0m in \u001B[0;36m<module>\u001B[0;34m\u001B[0m\n\u001B[0;32m----> 1\u001B[0;31m \u001B[0mstrategy\u001B[0m\u001B[0;34m.\u001B[0m\u001B[0mnext_action\u001B[0m\u001B[0;34m(\u001B[0m\u001B[0;36m10\u001B[0m\u001B[0;34m)\u001B[0m\u001B[0;34m\u001B[0m\u001B[0;34m\u001B[0m\u001B[0m\n\u001B[0m",
      "\u001B[0;32m~/sbapr/FiPOMDP/fipomdp/pomcp.py\u001B[0m in \u001B[0;36mnext_action\u001B[0;34m(self, iterations_count)\u001B[0m\n\u001B[1;32m    739\u001B[0m                 \u001B[0;34mf\"Can't pick action if you haven't updated observation from previously picked action.\"\u001B[0m\u001B[0;34m\u001B[0m\u001B[0;34m\u001B[0m\u001B[0m\n\u001B[1;32m    740\u001B[0m             )\n\u001B[0;32m--> 741\u001B[0;31m         \u001B[0mself\u001B[0m\u001B[0;34m.\u001B[0m\u001B[0mbest_action\u001B[0m \u001B[0;34m=\u001B[0m \u001B[0mself\u001B[0m\u001B[0;34m.\u001B[0m\u001B[0mtree\u001B[0m\u001B[0;34m.\u001B[0m\u001B[0mbest_action\u001B[0m\u001B[0;34m(\u001B[0m\u001B[0miterations_count\u001B[0m\u001B[0;34m)\u001B[0m\u001B[0;34m\u001B[0m\u001B[0;34m\u001B[0m\u001B[0m\n\u001B[0m\u001B[1;32m    742\u001B[0m         \u001B[0mself\u001B[0m\u001B[0;34m.\u001B[0m\u001B[0maction_picked\u001B[0m \u001B[0;34m=\u001B[0m \u001B[0;32mTrue\u001B[0m\u001B[0;34m\u001B[0m\u001B[0;34m\u001B[0m\u001B[0m\n\u001B[1;32m    743\u001B[0m         \u001B[0;32mreturn\u001B[0m \u001B[0mself\u001B[0m\u001B[0;34m.\u001B[0m\u001B[0mbest_action\u001B[0m\u001B[0;34m\u001B[0m\u001B[0;34m\u001B[0m\u001B[0m\n",
      "\u001B[0;32m~/sbapr/FiPOMDP/fipomdp/pomcp.py\u001B[0m in \u001B[0;36mbest_action\u001B[0;34m(self, max_iterations)\u001B[0m\n\u001B[1;32m    270\u001B[0m         \u001B[0mlogging\u001B[0m\u001B[0;34m.\u001B[0m\u001B[0minfo\u001B[0m\u001B[0;34m(\u001B[0m\u001B[0;34mf\"Picking best action from tree\"\u001B[0m\u001B[0;34m)\u001B[0m\u001B[0;34m\u001B[0m\u001B[0;34m\u001B[0m\u001B[0m\n\u001B[1;32m    271\u001B[0m \u001B[0;34m\u001B[0m\u001B[0m\n\u001B[0;32m--> 272\u001B[0;31m         \u001B[0mself\u001B[0m\u001B[0;34m.\u001B[0m\u001B[0mtree_run\u001B[0m\u001B[0;34m(\u001B[0m\u001B[0mmax_iterations\u001B[0m\u001B[0;34m)\u001B[0m\u001B[0;34m\u001B[0m\u001B[0;34m\u001B[0m\u001B[0m\n\u001B[0m\u001B[1;32m    273\u001B[0m         \u001B[0muct_values\u001B[0m \u001B[0;34m=\u001B[0m \u001B[0mself\u001B[0m\u001B[0;34m.\u001B[0m\u001B[0mroot\u001B[0m\u001B[0;34m.\u001B[0m\u001B[0mcalculate_uct\u001B[0m\u001B[0;34m(\u001B[0m\u001B[0;34m)\u001B[0m\u001B[0;34m\u001B[0m\u001B[0;34m\u001B[0m\u001B[0m\n\u001B[1;32m    274\u001B[0m         best_action_indices = [\n",
      "\u001B[0;32m~/sbapr/FiPOMDP/fipomdp/pomcp.py\u001B[0m in \u001B[0;36mtree_run\u001B[0;34m(self, max_iterations)\u001B[0m\n\u001B[1;32m    185\u001B[0m             )\n\u001B[1;32m    186\u001B[0m \u001B[0;34m\u001B[0m\u001B[0m\n\u001B[0;32m--> 187\u001B[0;31m             \u001B[0miter_hist_node\u001B[0m\u001B[0;34m,\u001B[0m \u001B[0miter_beliefs\u001B[0m \u001B[0;34m=\u001B[0m \u001B[0mself\u001B[0m\u001B[0;34m.\u001B[0m\u001B[0miteration\u001B[0m\u001B[0;34m(\u001B[0m\u001B[0msampled_state\u001B[0m\u001B[0;34m)\u001B[0m\u001B[0;34m\u001B[0m\u001B[0;34m\u001B[0m\u001B[0m\n\u001B[0m\u001B[1;32m    188\u001B[0m \u001B[0;34m\u001B[0m\u001B[0m\n\u001B[1;32m    189\u001B[0m             \u001B[0;32mif\u001B[0m \u001B[0mlen\u001B[0m\u001B[0;34m(\u001B[0m\u001B[0miter_beliefs\u001B[0m\u001B[0;34m)\u001B[0m \u001B[0;34m==\u001B[0m \u001B[0;36m0\u001B[0m\u001B[0;34m:\u001B[0m\u001B[0;34m\u001B[0m\u001B[0;34m\u001B[0m\u001B[0m\n",
      "\u001B[0;32m~/sbapr/FiPOMDP/fipomdp/pomcp.py\u001B[0m in \u001B[0;36miteration\u001B[0;34m(self, sampled_state)\u001B[0m\n\u001B[1;32m    123\u001B[0m         \u001B[0mbelief_particles\u001B[0m \u001B[0;34m=\u001B[0m \u001B[0;34m[\u001B[0m\u001B[0;34m]\u001B[0m\u001B[0;34m\u001B[0m\u001B[0;34m\u001B[0m\u001B[0m\n\u001B[1;32m    124\u001B[0m         \u001B[0;32mwhile\u001B[0m \u001B[0mcurrent_history_node\u001B[0m\u001B[0;34m.\u001B[0m\u001B[0mvisits\u001B[0m \u001B[0;34m!=\u001B[0m \u001B[0;36m0\u001B[0m\u001B[0;34m:\u001B[0m\u001B[0;34m\u001B[0m\u001B[0;34m\u001B[0m\u001B[0m\n\u001B[0;32m--> 125\u001B[0;31m             \u001B[0mnode\u001B[0m\u001B[0;34m,\u001B[0m \u001B[0mbelief\u001B[0m \u001B[0;34m=\u001B[0m \u001B[0mcurrent_history_node\u001B[0m\u001B[0;34m.\u001B[0m\u001B[0msimulate_action\u001B[0m\u001B[0;34m(\u001B[0m\u001B[0msampled_state\u001B[0m\u001B[0;34m)\u001B[0m\u001B[0;34m\u001B[0m\u001B[0;34m\u001B[0m\u001B[0m\n\u001B[0m\u001B[1;32m    126\u001B[0m             \u001B[0mcurrent_history_node\u001B[0m \u001B[0;34m=\u001B[0m \u001B[0mnode\u001B[0m\u001B[0;34m\u001B[0m\u001B[0;34m\u001B[0m\u001B[0m\n\u001B[1;32m    127\u001B[0m             \u001B[0mbelief_particles\u001B[0m\u001B[0;34m.\u001B[0m\u001B[0mappend\u001B[0m\u001B[0;34m(\u001B[0m\u001B[0mbelief\u001B[0m\u001B[0;34m)\u001B[0m\u001B[0;34m\u001B[0m\u001B[0;34m\u001B[0m\u001B[0m\n",
      "\u001B[0;32m~/sbapr/FiPOMDP/fipomdp/pomcp.py\u001B[0m in \u001B[0;36msimulate_action\u001B[0;34m(self, sampled_state)\u001B[0m\n\u001B[1;32m    614\u001B[0m         ]\n\u001B[1;32m    615\u001B[0m         \u001B[0;32mif\u001B[0m \u001B[0mlen\u001B[0m\u001B[0;34m(\u001B[0m\u001B[0munvisited_children\u001B[0m\u001B[0;34m)\u001B[0m \u001B[0;34m!=\u001B[0m \u001B[0;36m0\u001B[0m\u001B[0;34m:\u001B[0m\u001B[0;34m\u001B[0m\u001B[0;34m\u001B[0m\u001B[0m\n\u001B[0;32m--> 616\u001B[0;31m             return random.sample(unvisited_children, 1)[0].sample_hist_node(\n\u001B[0m\u001B[1;32m    617\u001B[0m                 \u001B[0msampled_state\u001B[0m\u001B[0;34m\u001B[0m\u001B[0;34m\u001B[0m\u001B[0m\n\u001B[1;32m    618\u001B[0m             )\n",
      "\u001B[0;32m~/sbapr/FiPOMDP/fipomdp/pomcp.py\u001B[0m in \u001B[0;36msample_hist_node\u001B[0;34m(self, state)\u001B[0m\n\u001B[1;32m    507\u001B[0m             \u001B[0mprint\u001B[0m\u001B[0;34m(\u001B[0m\u001B[0;34m\"FATAL ERROR coming up\"\u001B[0m\u001B[0;34m)\u001B[0m\u001B[0;34m\u001B[0m\u001B[0;34m\u001B[0m\u001B[0m\n\u001B[1;32m    508\u001B[0m             \u001B[0mprint\u001B[0m\u001B[0;34m(\u001B[0m\u001B[0;34mf\"SRC_STATE: {state}, DEST STATE: {dest_state}, OBS: {dest_obs}, DEST BELIEF_SUPP: {belief_supps}\"\u001B[0m\u001B[0;34m)\u001B[0m\u001B[0;34m\u001B[0m\u001B[0;34m\u001B[0m\u001B[0m\n\u001B[0;32m--> 509\u001B[0;31m             raise ValueError(\n\u001B[0m\u001B[1;32m    510\u001B[0m                 \u001B[0;34mf\"Couldn't match observation, for belief_supps: {belief_supps} and state: {dest_state}\"\u001B[0m\u001B[0;34m\u001B[0m\u001B[0;34m\u001B[0m\u001B[0m\n\u001B[1;32m    511\u001B[0m             )\n",
      "\u001B[0;31mValueError\u001B[0m: Couldn't match observation, for belief_supps: [(3,)] and state: 1"
     ]
    }
   ],
   "source": [
    "strategy.next_action(10)"
   ],
   "metadata": {
    "collapsed": false,
    "pycharm": {
     "name": "#%%\n"
    }
   }
  },
  {
   "cell_type": "code",
   "execution_count": 3,
   "outputs": [
    {
     "ename": "NameError",
     "evalue": "name 'strategy' is not defined",
     "output_type": "error",
     "traceback": [
      "\u001B[0;31m---------------------------------------------------------------------------\u001B[0m",
      "\u001B[0;31mNameError\u001B[0m                                 Traceback (most recent call last)",
      "\u001B[0;32m/tmp/ipykernel_31055/1898493061.py\u001B[0m in \u001B[0;36m<module>\u001B[0;34m\u001B[0m\n\u001B[0;32m----> 1\u001B[0;31m \u001B[0mstrategy\u001B[0m\u001B[0;34m.\u001B[0m\u001B[0mtree\u001B[0m\u001B[0;34m.\u001B[0m\u001B[0mcpomdp\u001B[0m\u001B[0;34m.\u001B[0m\u001B[0mget_state_obs_probs\u001B[0m\u001B[0;34m(\u001B[0m\u001B[0;36m1\u001B[0m\u001B[0;34m)\u001B[0m\u001B[0;34m\u001B[0m\u001B[0;34m\u001B[0m\u001B[0m\n\u001B[0m",
      "\u001B[0;31mNameError\u001B[0m: name 'strategy' is not defined"
     ]
    }
   ],
   "source": [
    "strategy.tree.cpomdp.get_state_obs_probs(1)"
   ],
   "metadata": {
    "collapsed": false,
    "pycharm": {
     "name": "#%%\n"
    }
   }
  },
  {
   "cell_type": "code",
   "execution_count": null,
   "outputs": [],
   "source": [
    "from collections import deque\n",
    "\n",
    "queue = deque()\n",
    "queue.append(strategy.tree.root)\n",
    "while len(queue) > 0:\n",
    "    node = queue.popleft()\n",
    "    for child in node.children:\n",
    "        queue.append(child)\n",
    "        print(child.visits, child.val)\n",
    "        print()"
   ],
   "metadata": {
    "collapsed": false,
    "pycharm": {
     "name": "#%%\n"
    }
   }
  },
  {
   "cell_type": "code",
   "execution_count": null,
   "outputs": [],
   "source": [
    "from fipomdp.energy_solvers import ConsPOMDPBasicES\n",
    "\n",
    "solver = ConsPOMDPBasicES(cpomdp, [0], capacity, targets, False)\n",
    "solver.compute_posreach()\n",
    "solver.compute_buchi()"
   ],
   "metadata": {
    "collapsed": false,
    "pycharm": {
     "name": "#%%\n"
    }
   }
  },
  {
   "cell_type": "code",
   "execution_count": null,
   "outputs": [],
   "source": [
    "\n",
    "\n",
    "solver.compute_safe()\n",
    "solver.guess_min_levels[SAFE]"
   ],
   "metadata": {
    "collapsed": false,
    "pycharm": {
     "name": "#%%\n"
    }
   }
  },
  {
   "cell_type": "code",
   "execution_count": null,
   "outputs": [],
   "source": [],
   "metadata": {
    "collapsed": false,
    "pycharm": {
     "name": "#%%\n"
    }
   }
  }
 ],
 "metadata": {
  "kernelspec": {
   "display_name": "Python 3",
   "language": "python",
   "name": "python3"
  },
  "language_info": {
   "codemirror_mode": {
    "name": "ipython",
    "version": 2
   },
   "file_extension": ".py",
   "mimetype": "text/x-python",
   "name": "python",
   "nbconvert_exporter": "python",
   "pygments_lexer": "ipython2",
   "version": "2.7.6"
  }
 },
 "nbformat": 4,
 "nbformat_minor": 0
}