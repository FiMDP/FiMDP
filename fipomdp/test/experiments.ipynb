{
 "cells": [
  {
   "cell_type": "code",
   "execution_count": 1,
   "metadata": {
    "collapsed": true
   },
   "outputs": [],
   "source": [
    "import logging\n",
    "import platform, psutil\n",
    "import math\n",
    "\n",
    "from fimdpenv import setup\n",
    "from fimdpenv.UUVEnv import SingleAgentEnv\n",
    "from fipomdp import ConsPOMDP\n",
    "from fipomdp.pomcp import OnlineStrategy\n",
    "\n",
    "setup()\n",
    "logging_level = logging.WARNING"
   ]
  },
  {
   "cell_type": "markdown",
   "source": [
    "## UUV POMDP Single Agent"
   ],
   "metadata": {
    "collapsed": false,
    "pycharm": {
     "name": "#%% md\n"
    }
   }
  },
  {
   "cell_type": "markdown",
   "source": [
    "Run following 2 cells for logging"
   ],
   "metadata": {
    "collapsed": false,
    "pycharm": {
     "name": "#%% md\n"
    }
   }
  },
  {
   "cell_type": "code",
   "execution_count": 2,
   "outputs": [],
   "source": [
    "log_file_name = \"UUVExperiments\"  # Change for your needs\n",
    "logging_level = logging.INFO # set to INFO for logging to be active"
   ],
   "metadata": {
    "collapsed": false,
    "pycharm": {
     "name": "#%%\n"
    }
   }
  },
  {
   "cell_type": "code",
   "execution_count": 3,
   "outputs": [],
   "source": [
    "logging.basicConfig(filename=f\"{log_file_name}.log\",\n",
    "                    format='%(asctime)s %(levelname)-8s %(message)s',\n",
    "                    level=logging.INFO,\n",
    "                    datefmt='%Y-%m-%d %H:%M:%S')\n",
    "logging.info('START')"
   ],
   "metadata": {
    "collapsed": false,
    "pycharm": {
     "name": "#%%\n"
    }
   }
  },
  {
   "cell_type": "markdown",
   "source": [
    "Device logs"
   ],
   "metadata": {
    "collapsed": false,
    "pycharm": {
     "name": "#%% md\n"
    }
   }
  },
  {
   "cell_type": "code",
   "execution_count": 4,
   "outputs": [
    {
     "name": "stdout",
     "output_type": "stream",
     "text": [
      "Node name: simonbrlej-ThinkPad-T14-Gen-1\n",
      "System: Linux\n",
      "Release: 5.11.0-44-generic\n",
      "Version: #48~20.04.2-Ubuntu SMP Tue Dec 14 15:36:44 UTC 2021\n",
      "Machine: x86_64\n",
      "Processor: x86_64\n",
      "RAM: 15 GB\n"
     ]
    }
   ],
   "source": [
    "uname = platform.uname()\n",
    "print(f\"Node name: {uname.node}\")\n",
    "print(f\"System: {uname.system}\")\n",
    "print(f\"Release: {uname.release}\")\n",
    "print(f\"Version: {uname.version}\")\n",
    "print(f\"Machine: {uname.machine}\")\n",
    "print(f\"Processor: {uname.processor}\")\n",
    "print(f\"RAM: {str(round(psutil.virtual_memory().total / (1024.0 **3)))} GB\")"
   ],
   "metadata": {
    "collapsed": false,
    "pycharm": {
     "name": "#%%\n"
    }
   }
  },
  {
   "cell_type": "markdown",
   "source": [
    "##### Create environment with observations"
   ],
   "metadata": {
    "collapsed": false,
    "pycharm": {
     "name": "#%% md\n"
    }
   }
  },
  {
   "cell_type": "code",
   "execution_count": 5,
   "outputs": [],
   "source": [
    "from fipomdp.environment_utils import set_cross_observations_to_UUV_grid"
   ],
   "metadata": {
    "collapsed": false,
    "pycharm": {
     "name": "#%%\n"
    }
   }
  },
  {
   "cell_type": "code",
   "execution_count": 6,
   "outputs": [],
   "source": [
    "logging.info('Creating UUV environment with observations.')\n",
    "\n",
    "env = SingleAgentEnv(grid_size=[20, 20], capacity=20, reloads=[64, 69, 74, 164, 169, 174, 264, 269, 274, 364, 369, 374], targets=[103, 209, 210, 270], init_state=399, enhanced_actionspace=0)\n",
    "\n",
    "mdp, targets = env.get_consmdp()\n",
    "mdp.__class__ = ConsPOMDP\n",
    "set_cross_observations_to_UUV_grid(mdp, (env.grid_size[0], env.grid_size[1]))\n",
    "\n",
    "logging.info('Environment created')"
   ],
   "metadata": {
    "collapsed": false,
    "pycharm": {
     "name": "#%%\n"
    }
   }
  },
  {
   "cell_type": "markdown",
   "source": [
    "##### Calculate belief support cmdp and guessing cmdp"
   ],
   "metadata": {
    "collapsed": false,
    "pycharm": {
     "name": "#%% md\n"
    }
   }
  },
  {
   "cell_type": "code",
   "execution_count": 9,
   "outputs": [
    {
     "name": "stderr",
     "output_type": "stream",
     "text": [
      "IOPub data rate exceeded.\n",
      "The notebook server will temporarily stop sending output\n",
      "to the client in order to avoid crashing it.\n",
      "To change this limit, set the config variable\n",
      "`--NotebookApp.iopub_data_rate_limit`.\n",
      "\n",
      "Current values:\n",
      "NotebookApp.iopub_data_rate_limit=1000000.0 (bytes/sec)\n",
      "NotebookApp.rate_limit_window=3.0 (secs)\n",
      "\n"
     ]
    }
   ],
   "source": [
    "cpomdp = mdp\n",
    "capacity = env.capacities[0]\n",
    "init_energy = capacity\n",
    "init_obs = 399\n",
    "init_bel_supp = tuple([399])\n",
    "exploration = 0.9\n",
    "random_seed = 1\n",
    "\n",
    "cpomdp.compute_guessing_cmdp_initial_state([399])\n",
    "strategy = OnlineStrategy(cpomdp, capacity, init_energy, init_obs, init_bel_supp, targets, exploration, random_seed, False)"
   ],
   "metadata": {
    "collapsed": false,
    "pycharm": {
     "name": "#%%\n"
    }
   }
  },
  {
   "cell_type": "code",
   "execution_count": null,
   "outputs": [],
   "source": [
    "strategy.tree.action_shield"
   ],
   "metadata": {
    "collapsed": false,
    "pycharm": {
     "name": "#%%\n"
    }
   }
  },
  {
   "cell_type": "code",
   "execution_count": null,
   "outputs": [],
   "source": [
    "import math\n",
    "\n",
    "env = SingleAgentEnv(grid_size=[2, 2], capacity=20, reloads=[0], targets=[2], init_state=0, enhanced_actionspace=0)\n",
    "\n",
    "mdp, targets = env.get_consmdp()\n",
    "mdp.__class__ = ConsPOMDP\n",
    "set_cross_observations_to_UUV_grid(mdp, (env.grid_size[0], env.grid_size[1]))\n",
    "\n",
    "cpomdp = mdp\n",
    "capacity = env.capacities[0]\n",
    "init_energy = capacity\n",
    "init_obs = 0\n",
    "init_bel_supp = tuple([0])\n",
    "exploration = 0.9\n",
    "random_seed = 1\n",
    "\n",
    "strategy = OnlineStrategy(cpomdp, capacity, init_energy, init_obs, init_bel_supp, targets, exploration, random_seed, logged, True)\n",
    "print(strategy.tree.action_shield)\n",
    "print(env.capacities[0])\n",
    "print(init_energy)"
   ],
   "metadata": {
    "collapsed": false,
    "pycharm": {
     "name": "#%%\n"
    }
   }
  },
  {
   "cell_type": "code",
   "execution_count": null,
   "outputs": [],
   "source": [
    "from fimdp.objectives import BUCHI, SAFE, POS_REACH\n",
    "strategy.solver.guess_min_levels[BUCHI]\n",
    "\n"
   ],
   "metadata": {
    "collapsed": false,
    "pycharm": {
     "name": "#%%\n"
    }
   }
  },
  {
   "cell_type": "code",
   "execution_count": null,
   "outputs": [],
   "source": [
    "strategy.next_action(10)"
   ],
   "metadata": {
    "collapsed": false,
    "pycharm": {
     "name": "#%%\n"
    }
   }
  },
  {
   "cell_type": "code",
   "execution_count": null,
   "outputs": [],
   "source": [
    "strategy.update_obs(1)"
   ],
   "metadata": {
    "collapsed": false,
    "pycharm": {
     "name": "#%%\n"
    }
   }
  },
  {
   "cell_type": "code",
   "execution_count": null,
   "outputs": [],
   "source": [
    "strategy.tree.cpomdp.get_state_obs_probs(1)"
   ],
   "metadata": {
    "collapsed": false,
    "pycharm": {
     "name": "#%%\n"
    }
   }
  },
  {
   "cell_type": "code",
   "execution_count": null,
   "outputs": [],
   "source": [
    "from collections import deque\n",
    "\n",
    "queue = deque()\n",
    "queue.append(strategy.tree.root)\n",
    "while len(queue) > 0:\n",
    "    node = queue.popleft()\n",
    "    for child in node.children:\n",
    "        queue.append(child)\n",
    "        print(child.visits, child.val)\n",
    "        print()"
   ],
   "metadata": {
    "collapsed": false,
    "pycharm": {
     "name": "#%%\n"
    }
   }
  },
  {
   "cell_type": "code",
   "execution_count": null,
   "outputs": [],
   "source": [
    "from fipomdp.energy_solvers import ConsPOMDPBasicES\n",
    "\n",
    "solver = ConsPOMDPBasicES(cpomdp, [0], capacity, targets, False)\n",
    "solver.compute_posreach()\n",
    "solver.compute_buchi()"
   ],
   "metadata": {
    "collapsed": false,
    "pycharm": {
     "name": "#%%\n"
    }
   }
  },
  {
   "cell_type": "code",
   "execution_count": null,
   "outputs": [],
   "source": [
    "\n",
    "\n",
    "solver.compute_safe()\n",
    "solver.guess_min_levels[SAFE]"
   ],
   "metadata": {
    "collapsed": false,
    "pycharm": {
     "name": "#%%\n"
    }
   }
  },
  {
   "cell_type": "code",
   "execution_count": null,
   "outputs": [],
   "source": [],
   "metadata": {
    "collapsed": false,
    "pycharm": {
     "name": "#%%\n"
    }
   }
  }
 ],
 "metadata": {
  "kernelspec": {
   "display_name": "Python 3",
   "language": "python",
   "name": "python3"
  },
  "language_info": {
   "codemirror_mode": {
    "name": "ipython",
    "version": 2
   },
   "file_extension": ".py",
   "mimetype": "text/x-python",
   "name": "python",
   "nbconvert_exporter": "python",
   "pygments_lexer": "ipython2",
   "version": "2.7.6"
  }
 },
 "nbformat": 4,
 "nbformat_minor": 0
}