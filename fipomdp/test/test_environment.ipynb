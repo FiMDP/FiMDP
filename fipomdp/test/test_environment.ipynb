{
 "cells": [
  {
   "cell_type": "markdown",
   "metadata": {
    "collapsed": true,
    "pycharm": {
     "name": "#%% md\n"
    }
   },
   "source": [
    "# UUV POMDP Single Agent"
   ]
  },
  {
   "cell_type": "code",
   "source": [
    "from fimdpenv import setup, UUVEnv\n",
    "setup()\n"
   ],
   "metadata": {
    "collapsed": false,
    "pycharm": {
     "name": "#%%\n"
    }
   },
   "execution_count": 2,
   "outputs": []
  },
  {
   "cell_type": "code",
   "execution_count": 3,
   "outputs": [],
   "source": [
    "from fimdpenv.UUVEnv import SingleAgentEnv"
   ],
   "metadata": {
    "collapsed": false,
    "pycharm": {
     "name": "#%%\n"
    }
   }
  },
  {
   "cell_type": "code",
   "execution_count": 4,
   "outputs": [],
   "source": [
    "from fipomdp import ConsPOMDP\n",
    "\n"
   ],
   "metadata": {
    "collapsed": false,
    "pycharm": {
     "name": "#%%\n"
    }
   }
  },
  {
   "cell_type": "code",
   "execution_count": 5,
   "outputs": [
    {
     "name": "stdout",
     "output_type": "stream",
     "text": [
      "{(0, 0): 1.0, (5, 1): 0.05, (2, 1): 0.05, (1, 1): 0.9, (6, 2): 0.05, (1, 2): 0.05, (3, 2): 0.05, (2, 2): 0.85, (7, 3): 0.05, (2, 3): 0.05, (3, 3): 0.9, (8, 4): 0.05, (5, 4): 0.05, (4, 4): 0.9, (1, 5): 0.05, (9, 5): 0.05, (4, 5): 0.05, (6, 5): 0.05, (5, 5): 0.8, (2, 6): 0.05, (10, 6): 0.05, (5, 6): 0.05, (7, 6): 0.05, (6, 6): 0.8, (3, 7): 0.05, (11, 7): 0.05, (6, 7): 0.05, (7, 7): 0.85, (4, 8): 0.05, (12, 8): 0.05, (9, 8): 0.05, (8, 8): 0.85, (5, 9): 0.05, (13, 9): 0.05, (8, 9): 0.05, (10, 9): 0.05, (9, 9): 0.8, (6, 10): 0.05, (14, 10): 0.05, (9, 10): 0.05, (11, 10): 0.05, (10, 10): 0.8, (7, 11): 0.05, (15, 11): 0.05, (10, 11): 0.05, (11, 11): 0.85, (8, 12): 0.05, (13, 12): 0.05, (12, 12): 0.9, (9, 13): 0.05, (12, 13): 0.05, (14, 13): 0.05, (13, 13): 0.85, (10, 14): 0.05, (13, 14): 0.05, (15, 14): 0.05, (14, 14): 0.85, (11, 15): 0.05, (14, 15): 0.05, (15, 15): 0.9}\n"
     ]
    }
   ],
   "source": [
    "from fipomdp.environment_utils import set_cross_observations_to_UUV_grid\n",
    "from fipomdp.environment_utils import get_guessing_stats\n",
    "\n",
    "env = SingleAgentEnv(grid_size=[4, 4], capacity=20, reloads=[0], targets=[0], init_state=0, enhanced_actionspace=0)\n",
    "mdp, targets = env.get_consmdp()\n",
    "mdp.__class__ = ConsPOMDP\n",
    "set_cross_observations_to_UUV_grid(mdp, (env.grid_size[0], env.grid_size[1]))\n",
    "print(mdp.obs_probabilities)"
   ],
   "metadata": {
    "collapsed": false,
    "pycharm": {
     "name": "#%%\n"
    }
   }
  },
  {
   "cell_type": "code",
   "source": [
    "guess_time_dict = []\n",
    "\n",
    "for i in range(2, 31):\n",
    "    tmp_env = SingleAgentEnv(grid_size=[i, i], capacity=20, reloads=[0], targets=[0], init_state=0, enhanced_actionspace=0)\n",
    "    mdp, targets = tmp_env.get_consmdp()\n",
    "    mdp.__class__ = ConsPOMDP\n",
    "    set_cross_observations_to_UUV_grid(mdp, (i, i))\n",
    "    comp_time, cpomdp_ns, belief_supp_cmdp_ns, guessing_cmdp_ns = get_guessing_stats(mdp, [0])\n",
    "    guess_time_dict.append((i, comp_time, guessing_cmdp_ns))\n",
    "    print(f\"SQUARE GRID SIDE: {i}, TIME COMPUTING GUESSES: {comp_time}, STATE_COUNT[CPOMDP, BEL_SUPP, GUESS]: [{cpomdp_ns}, {belief_supp_cmdp_ns}, {guessing_cmdp_ns}]\")"
   ],
   "metadata": {
    "collapsed": false,
    "pycharm": {
     "name": "#%%\n"
    }
   },
   "execution_count": 5,
   "outputs": [
    {
     "name": "stdout",
     "output_type": "stream",
     "text": [
      "SQUARE GRID SIDE: 2, TIME COMPUTING GUESSES: 0.0042192935943603516, STATE_COUNT[CPOMDP, BEL_SUPP, GUESS]: [4, 8, 21]\n",
      "SQUARE GRID SIDE: 3, TIME COMPUTING GUESSES: 0.05720329284667969, STATE_COUNT[CPOMDP, BEL_SUPP, GUESS]: [9, 55, 194]\n",
      "SQUARE GRID SIDE: 4, TIME COMPUTING GUESSES: 0.23638343811035156, STATE_COUNT[CPOMDP, BEL_SUPP, GUESS]: [16, 154, 579]\n",
      "SQUARE GRID SIDE: 5, TIME COMPUTING GUESSES: 0.6284017562866211, STATE_COUNT[CPOMDP, BEL_SUPP, GUESS]: [25, 293, 1126]\n",
      "SQUARE GRID SIDE: 6, TIME COMPUTING GUESSES: 1.3273074626922607, STATE_COUNT[CPOMDP, BEL_SUPP, GUESS]: [36, 474, 1843]\n",
      "SQUARE GRID SIDE: 7, TIME COMPUTING GUESSES: 2.354426145553589, STATE_COUNT[CPOMDP, BEL_SUPP, GUESS]: [49, 697, 2730]\n",
      "SQUARE GRID SIDE: 8, TIME COMPUTING GUESSES: 4.006664991378784, STATE_COUNT[CPOMDP, BEL_SUPP, GUESS]: [64, 962, 3787]\n",
      "SQUARE GRID SIDE: 9, TIME COMPUTING GUESSES: 6.497903823852539, STATE_COUNT[CPOMDP, BEL_SUPP, GUESS]: [81, 1269, 5014]\n",
      "SQUARE GRID SIDE: 10, TIME COMPUTING GUESSES: 9.907437801361084, STATE_COUNT[CPOMDP, BEL_SUPP, GUESS]: [100, 1618, 6411]\n",
      "SQUARE GRID SIDE: 11, TIME COMPUTING GUESSES: 14.743924379348755, STATE_COUNT[CPOMDP, BEL_SUPP, GUESS]: [121, 2009, 7978]\n",
      "SQUARE GRID SIDE: 12, TIME COMPUTING GUESSES: 20.966809272766113, STATE_COUNT[CPOMDP, BEL_SUPP, GUESS]: [144, 2442, 9715]\n",
      "SQUARE GRID SIDE: 13, TIME COMPUTING GUESSES: 28.96159291267395, STATE_COUNT[CPOMDP, BEL_SUPP, GUESS]: [169, 2917, 11622]\n",
      "SQUARE GRID SIDE: 14, TIME COMPUTING GUESSES: 39.02387452125549, STATE_COUNT[CPOMDP, BEL_SUPP, GUESS]: [196, 3434, 13699]\n",
      "SQUARE GRID SIDE: 15, TIME COMPUTING GUESSES: 52.7698757648468, STATE_COUNT[CPOMDP, BEL_SUPP, GUESS]: [225, 3993, 15946]\n",
      "SQUARE GRID SIDE: 16, TIME COMPUTING GUESSES: 69.91243958473206, STATE_COUNT[CPOMDP, BEL_SUPP, GUESS]: [256, 4594, 18363]\n",
      "SQUARE GRID SIDE: 17, TIME COMPUTING GUESSES: 90.8026967048645, STATE_COUNT[CPOMDP, BEL_SUPP, GUESS]: [289, 5237, 20950]\n",
      "SQUARE GRID SIDE: 18, TIME COMPUTING GUESSES: 113.06068086624146, STATE_COUNT[CPOMDP, BEL_SUPP, GUESS]: [324, 5922, 23707]\n",
      "SQUARE GRID SIDE: 19, TIME COMPUTING GUESSES: 143.36241173744202, STATE_COUNT[CPOMDP, BEL_SUPP, GUESS]: [361, 6649, 26634]\n",
      "SQUARE GRID SIDE: 20, TIME COMPUTING GUESSES: 178.26018738746643, STATE_COUNT[CPOMDP, BEL_SUPP, GUESS]: [400, 7418, 29731]\n",
      "SQUARE GRID SIDE: 21, TIME COMPUTING GUESSES: 217.45753288269043, STATE_COUNT[CPOMDP, BEL_SUPP, GUESS]: [441, 8229, 32998]\n",
      "SQUARE GRID SIDE: 22, TIME COMPUTING GUESSES: 262.87207555770874, STATE_COUNT[CPOMDP, BEL_SUPP, GUESS]: [484, 9082, 36435]\n",
      "SQUARE GRID SIDE: 23, TIME COMPUTING GUESSES: 315.8845739364624, STATE_COUNT[CPOMDP, BEL_SUPP, GUESS]: [529, 9977, 40042]\n",
      "SQUARE GRID SIDE: 24, TIME COMPUTING GUESSES: 376.9159519672394, STATE_COUNT[CPOMDP, BEL_SUPP, GUESS]: [576, 10914, 43819]\n",
      "SQUARE GRID SIDE: 25, TIME COMPUTING GUESSES: 455.3819432258606, STATE_COUNT[CPOMDP, BEL_SUPP, GUESS]: [625, 11893, 47766]\n",
      "SQUARE GRID SIDE: 26, TIME COMPUTING GUESSES: 544.416882276535, STATE_COUNT[CPOMDP, BEL_SUPP, GUESS]: [676, 12914, 51883]\n",
      "SQUARE GRID SIDE: 27, TIME COMPUTING GUESSES: 629.2097084522247, STATE_COUNT[CPOMDP, BEL_SUPP, GUESS]: [729, 13977, 56170]\n",
      "SQUARE GRID SIDE: 28, TIME COMPUTING GUESSES: 719.7243456840515, STATE_COUNT[CPOMDP, BEL_SUPP, GUESS]: [784, 15082, 60627]\n",
      "SQUARE GRID SIDE: 29, TIME COMPUTING GUESSES: 828.7209072113037, STATE_COUNT[CPOMDP, BEL_SUPP, GUESS]: [841, 16229, 65254]\n",
      "SQUARE GRID SIDE: 30, TIME COMPUTING GUESSES: 968.0891177654266, STATE_COUNT[CPOMDP, BEL_SUPP, GUESS]: [900, 17418, 70051]\n"
     ]
    }
   ]
  },
  {
   "cell_type": "code",
   "execution_count": 1,
   "outputs": [
    {
     "ename": "NameError",
     "evalue": "name 'guess_time_dict' is not defined",
     "output_type": "error",
     "traceback": [
      "\u001B[0;31m---------------------------------------------------------------------------\u001B[0m",
      "\u001B[0;31mNameError\u001B[0m                                 Traceback (most recent call last)",
      "\u001B[0;32m/tmp/ipykernel_16953/1404920469.py\u001B[0m in \u001B[0;36m<module>\u001B[0;34m\u001B[0m\n\u001B[1;32m      1\u001B[0m \u001B[0;32mimport\u001B[0m \u001B[0mmatplotlib\u001B[0m\u001B[0;34m.\u001B[0m\u001B[0mpyplot\u001B[0m \u001B[0;32mas\u001B[0m \u001B[0mplt\u001B[0m\u001B[0;34m\u001B[0m\u001B[0;34m\u001B[0m\u001B[0m\n\u001B[1;32m      2\u001B[0m \u001B[0;34m\u001B[0m\u001B[0m\n\u001B[0;32m----> 3\u001B[0;31m \u001B[0mx\u001B[0m \u001B[0;34m=\u001B[0m \u001B[0;34m[\u001B[0m\u001B[0mguess_time\u001B[0m\u001B[0;34m[\u001B[0m\u001B[0;36m2\u001B[0m\u001B[0;34m]\u001B[0m \u001B[0;32mfor\u001B[0m \u001B[0mguess_time\u001B[0m \u001B[0;32min\u001B[0m \u001B[0mguess_time_dict\u001B[0m\u001B[0;34m]\u001B[0m\u001B[0;34m\u001B[0m\u001B[0;34m\u001B[0m\u001B[0m\n\u001B[0m\u001B[1;32m      4\u001B[0m \u001B[0my\u001B[0m \u001B[0;34m=\u001B[0m \u001B[0;34m[\u001B[0m\u001B[0mguess_time\u001B[0m\u001B[0;34m[\u001B[0m\u001B[0;36m1\u001B[0m\u001B[0;34m]\u001B[0m \u001B[0;32mfor\u001B[0m \u001B[0mguess_time\u001B[0m \u001B[0;32min\u001B[0m \u001B[0mguess_time_dict\u001B[0m\u001B[0;34m]\u001B[0m\u001B[0;34m\u001B[0m\u001B[0;34m\u001B[0m\u001B[0m\n\u001B[1;32m      5\u001B[0m \u001B[0;34m\u001B[0m\u001B[0m\n",
      "\u001B[0;31mNameError\u001B[0m: name 'guess_time_dict' is not defined"
     ]
    }
   ],
   "source": [
    "import matplotlib.pyplot as plt\n",
    "\n",
    "x = [guess_time[2] for guess_time in guess_time_dict]\n",
    "y = [guess_time[1] for guess_time in guess_time_dict]\n",
    "\n",
    "plt.title(\"Computation time against number of guesses\")\n",
    "plt.xlabel(\"Guess count\")\n",
    "plt.ylabel(\"Time\")\n",
    "plt.plot(x, y, color =\"red\")\n",
    "plt.show()"
   ],
   "metadata": {
    "collapsed": false,
    "pycharm": {
     "name": "#%%\n"
    }
   }
  },
  {
   "cell_type": "code",
   "execution_count": 12,
   "outputs": [],
   "source": [
    "from fipomdp.energy_solvers import ConsPOMDPBasicES\n",
    "\n",
    "env = SingleAgentEnv(grid_size=[10, 10], capacity=20, reloads=[0], targets=[0], init_state=0, enhanced_actionspace=0)\n",
    "mdp, targets = env.get_consmdp()\n",
    "mdp.__class__ = ConsPOMDP\n",
    "set_cross_observations_to_UUV_grid(mdp, (env.grid_size[0], env.grid_size[1]))\n",
    "\n",
    "solver = ConsPOMDPBasicES(mdp, [0], env.capacities[0], targets)\n",
    "solver.compute_buchi()"
   ],
   "metadata": {
    "collapsed": false,
    "pycharm": {
     "name": "#%%\n"
    }
   }
  },
  {
   "cell_type": "code",
   "execution_count": 10,
   "outputs": [
    {
     "name": "stdout",
     "output_type": "stream",
     "text": [
      "[{2: 0——Strong North[2]——>{0: 1.0}}, {2: 1——Strong West[2]——>{0: 1.0}}, {2: 2——Strong North[2]——>{0: 1.0}}, {5: 3——Weak East[1]——>{0: 0.5, 5: 0.5}}, {5: 4——Weak East[1]——>{0: 0.5, 5: 0.5}}, {4: 5——Strong North[2]——>{1: 1.0}}, {}, {4: 7——Strong North[2]——>{1: 1.0}}, {}, {4: 9——Strong West[2]——>{2: 1.0}}, {}, {4: 11——Strong North[2]——>{1: 1.0}}, {}, {4: 13——Strong West[2]——>{2: 1.0}}, {}, {6: 15——Strong East[2]——>{5: 0.5, 11: 0.5}}, {6: 16——Strong South[2]——>{5: 0.5, 9: 0.5}}, {6: 17——Strong East[2]——>{5: 0.5, 11: 0.5}}, {}, {}, {}]\n",
      "[([0], 0), ([1], 1), ([2], 2), ([1, 2], 1), ([1, 2], 2), ([3], 3), ([3], None), ([1, 3], 1), ([0], None), ([2, 3], 3), ([2], None), ([1, 3], 3), ([1], None), ([2, 3], 2), ([1, 2], None), ([1, 2, 3], 3), ([1, 2, 3], 1), ([1, 2, 3], 2), ([1, 3], None), ([2, 3], None), ([1, 2, 3], None)]\n",
      "\n",
      "<class 'fimdp.core.CounterSelector'>\n"
     ]
    }
   ],
   "source": [],
   "metadata": {
    "collapsed": false,
    "pycharm": {
     "name": "#%%\n"
    }
   }
  },
  {
   "cell_type": "code",
   "execution_count": null,
   "outputs": [],
   "source": [],
   "metadata": {
    "collapsed": false,
    "pycharm": {
     "name": "#%%\n"
    }
   }
  }
 ],
 "metadata": {
  "kernelspec": {
   "display_name": "Python 3",
   "language": "python",
   "name": "python3"
  },
  "language_info": {
   "codemirror_mode": {
    "name": "ipython",
    "version": 2
   },
   "file_extension": ".py",
   "mimetype": "text/x-python",
   "name": "python",
   "nbconvert_exporter": "python",
   "pygments_lexer": "ipython2",
   "version": "2.7.6"
  }
 },
 "nbformat": 4,
 "nbformat_minor": 0
}