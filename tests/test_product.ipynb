{
 "cells": [
  {
   "cell_type": "code",
   "execution_count": null,
   "metadata": {},
   "outputs": [],
   "source": [
    "import spot\n",
    "spot.setup()\n",
    "import buddy\n",
    "from spot.jupyter import display_inline\n",
    "\n",
    "from decimal import Decimal\n",
    "import decimal\n",
    "from math import inf\n",
    "\n",
    "from fimdp.consMDP import ConsMDP\n",
    "from fimdp.labeledConsMDP import LCMDP"
   ]
  },
  {
   "cell_type": "markdown",
   "metadata": {},
   "source": [
    "# Product of lCMDP and DBA with the link to LTL"
   ]
  },
  {
   "cell_type": "markdown",
   "metadata": {},
   "source": [
    "The goal of this notebook is, given an LTL formula over the set $AP$ of atomic proposition and a consumption MDP with states labeled by subsets of $AP$, decide if there is a strategy for the MDP such that the LTL formula is satisfied with probability 1. We ilustrate the whole concept of a running example in which we want to enforce visiting 2 states infinitely often."
   ]
  },
  {
   "cell_type": "markdown",
   "metadata": {},
   "source": [
    "Let's first create a CMDP, we will use the following function for easier definitions of actions using uniform distributions."
   ]
  },
  {
   "cell_type": "code",
   "execution_count": null,
   "metadata": {},
   "outputs": [],
   "source": [
    "def uniform(dests):\n",
    "    \"\"\"Create a uniform distribution for given destinations.\n",
    "    \n",
    "    dests: iterable of states\n",
    "    \"\"\"\n",
    "    count = len(dests)\n",
    "    mod = 100 % count\n",
    "    decimal.getcontext().prec = 2\n",
    "    prob = Decimal(1)/Decimal(count)\n",
    "    dist = {i: prob for i in dests}\n",
    "    last = dests[-1]\n",
    "    dist[last] = dist[last] + Decimal(\"0.01\")*mod\n",
    "    return dist"
   ]
  },
  {
   "cell_type": "markdown",
   "metadata": {},
   "source": [
    "In the following code, we verify that we can achieve the Büchi objective with targets set `{1,2}` with capacity `5` and that is not enough to visit the state `1`. What we actualy want is to visit **both** of these states infinitely often which we solve later."
   ]
  },
  {
   "cell_type": "code",
   "execution_count": null,
   "metadata": {},
   "outputs": [],
   "source": [
    "mdp = ConsMDP()\n",
    "mdp.new_states(4)\n",
    "mdp.set_reload(3)\n",
    "mdp.add_action(0, uniform([1,2]), \"α\", 3)\n",
    "mdp.add_action(0, uniform([2,3]), \"β\", 1)\n",
    "mdp.add_action(1, uniform([3]), \"r\", 3)\n",
    "mdp.add_action(2, uniform([3]), \"r\", 1)\n",
    "mdp.add_action(3, uniform([0]), \"s\", 3)\n",
    "mdp.get_Buchi([1,2], 5, True)\n",
    "mdp"
   ]
  },
  {
   "cell_type": "markdown",
   "metadata": {},
   "source": [
    "The corresponding strategy confirms that the state 1 won't be visited by the strategy as there is no occurence of the action `α`."
   ]
  },
  {
   "cell_type": "code",
   "execution_count": null,
   "metadata": {},
   "outputs": [],
   "source": [
    "mdp.energy_levels.get_strategy(4, True)"
   ]
  },
  {
   "cell_type": "markdown",
   "metadata": {},
   "source": [
    "## LTL and Büchi automata\n",
    "Our goal of visiting both states `1` \\& `2` infinitely often can be expressed by the LTL formula $\\mathsf{G}\\mathsf{F} s_1 \\land \\mathsf{G}\\mathsf{F}s_2$ (or in the box-diamond notation: $\\Box \\diamond s_1 \\land \\Box \\diamond s_2$) where the atomic proposition $s_1$ corresponds to visiting state `1` and the tomic proposition $s_2$ corresponds to visiting state`2`.\n",
    "\n",
    "This formula can be expressed by a **deterministic** üchi automaton (DBA). We use Spot to make the translation for us. The option `BA` forces Spot to deliver a state-based Büchi automaton (default is transition-based generalized Büchi automaton), the option `deterministic` indicates that we prefer deterministic automata, and `complete` asks for an automaton with complete transition function. If you are not sure that your formula can be translated to a DBA, consult [hierarchy of LTL](https://spot.lrde.epita.fr/hierarchy.html). It is also a good practice to make yourself sure by running \n",
    "```python\n",
    "aut.is_deterministic()\n",
    "```"
   ]
  },
  {
   "cell_type": "code",
   "execution_count": null,
   "metadata": {},
   "outputs": [],
   "source": [
    "f = spot.formula(\"GF s1 & GF s2\")\n",
    "aut = spot.translate(f, \"BA\", \"deterministic\", \"complete\")"
   ]
  },
  {
   "cell_type": "code",
   "execution_count": null,
   "metadata": {},
   "outputs": [],
   "source": [
    "display(aut, aut.is_deterministic())"
   ]
  },
  {
   "cell_type": "markdown",
   "metadata": {},
   "source": [
    "The produced automaton can be used in parallel with our input MDP; this is achieved by a _product_ (alternatively _parallel synchonous composition_) of this automaton an the input MDP. But we need to label states of the MDP with the atomic propositions `s₁` and `s₂`."
   ]
  },
  {
   "cell_type": "markdown",
   "metadata": {},
   "source": [
    "## Labeled CMDP\n",
    "We create a copy of our CMDP and label the states `1` and `2` with the corresponding atomic propositions using the function\n",
    "```python\n",
    "LCMDP.state_labels(labels)\n",
    "```\n",
    "where `labels` is a list (of length equal to number of states) of sets of ints; the ints are indices to the list `AP` given in the constructor of `LCMDP`."
   ]
  },
  {
   "cell_type": "code",
   "execution_count": null,
   "metadata": {},
   "outputs": [],
   "source": [
    "lmdp = LCMDP(AP=[\"s1\",\"s2\"], mdp=mdp)\n",
    "lmdp.state_labels = [set(), {0}, {1}, set()]\n",
    "display(lmdp, lmdp.state_labels)"
   ]
  },
  {
   "cell_type": "markdown",
   "metadata": {},
   "source": [
    "## Product of labeled CMDP and DBA"
   ]
  },
  {
   "cell_type": "markdown",
   "metadata": {},
   "source": [
    "In the following, we explain and show the (simplified) implementation of `LCMDP.product(self, dba)`.\n",
    "\n",
    "The states of the product are tuples `(ms,as)` where `ms` stands for a state of the MDP and `as` stands for a states of the automaton. Let's call the set of states of the MDP $S$ and the set of states of the DBA $Q$; further, the labeling function of the labeled MDP is $\\lambda \\colon S \\to 2^{AP}$ and the transition function of the DBA as $\\delta \\colon Q \\times 2^{AP} \\to Q$. For each action `α` and each successor `ms'` for this action from state `ms`, the action `α` of `(ms,as)` has an `α` successor (with the same probability) `(ms', as')` where `as'` is equal to $\\delta(as, \\lambda(ms'))$.\n",
    "\n",
    "All tuples that contain a reload state of the mdp, are again reloading. All tuples with an accepting state of the automaton will become targets. The following function `product(lmdp, aut)` returns a CMDP that is the product of `lmdp` and `aut` and a list of target states."
   ]
  },
  {
   "cell_type": "markdown",
   "metadata": {},
   "source": [
    "We can now see the result of the product on the labeled MDP and the automaton for $\\mathsf{G}\\mathsf{F}s_1 \\land \\mathsf{G}\\mathsf{F} s_2$. We can also see that capacity 5 is no longer sufficient for the Büchi objective (the green ∞ indicate that no initial load is sufficient from given state to satisfy the Büchi objectives with targets `T`). In fact, we need at least 9 units of energy to pass the path through mdp-state `1`."
   ]
  },
  {
   "cell_type": "code",
   "execution_count": null,
   "metadata": {},
   "outputs": [],
   "source": [
    "p, T = lmdp.product(aut)\n",
    "res = p.get_Buchi(T, 5, True)\n",
    "display_inline(p)"
   ]
  },
  {
   "cell_type": "code",
   "execution_count": null,
   "metadata": {},
   "outputs": [],
   "source": [
    "assert res == [inf, inf, inf, inf, inf, inf, inf]"
   ]
  },
  {
   "cell_type": "code",
   "execution_count": null,
   "metadata": {},
   "outputs": [],
   "source": [
    "p, T = lmdp.product(aut)\n",
    "res = p.get_Buchi(T, 9, True)\n",
    "display_inline(p)"
   ]
  },
  {
   "cell_type": "code",
   "execution_count": null,
   "metadata": {},
   "outputs": [],
   "source": [
    "assert p.names == ['0,1', '1,0', '2,1', '3,1', '3,0', '0,0', '2,2']\n",
    "assert res == [2, 3, 1, 0, 0, 2, 1]"
   ]
  },
  {
   "cell_type": "markdown",
   "metadata": {},
   "source": [
    "## Test strategy"
   ]
  },
  {
   "cell_type": "code",
   "execution_count": null,
   "metadata": {},
   "outputs": [],
   "source": [
    "from fimdp.energy_solver import BUCHI\n",
    "res = p.energy_levels.get_strategy(BUCHI)\n",
    "assert res == [{6: 'α', 2: 'β'}, {3: 'r'}, {1: 'r'}, {0: 's'}, {0: 's'}, {2: 'β'}, {1: 'r'}]"
   ]
  }
 ],
 "metadata": {
  "jupytext": {
   "cell_metadata_filter": "-all",
   "notebook_metadata_filter": "-all"
  },
  "kernelspec": {
   "display_name": "Python 3",
   "language": "python",
   "name": "python3"
  },
  "language_info": {
   "codemirror_mode": {
    "name": "ipython",
    "version": 3
   },
   "file_extension": ".py",
   "mimetype": "text/x-python",
   "name": "python",
   "nbconvert_exporter": "python",
   "pygments_lexer": "ipython3",
   "version": "3.8.2"
  },
  "pycharm": {
   "stem_cell": {
    "cell_type": "raw",
    "metadata": {
     "collapsed": false
    },
    "source": []
   }
  }
 },
 "nbformat": 4,
 "nbformat_minor": 4
}
