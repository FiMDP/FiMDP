{
 "cells": [
  {
   "cell_type": "markdown",
   "metadata": {},
   "source": [
    "# Safety\n",
    "\n",
    "## Decide if $(d, cap)$ is safe in a given state\n",
    "Given a state $s$ we want to decide whether there exists a strategy $\\sigma$ such that all runs that follow $\\sigma$ and that start with the initial resource value $d$ in $s$ will be safe in a system with capacity $cap$. By safe here we mean that the resource will never be depleted.\n",
    "\n",
    "### MinInitCons\n",
    "The function $\\mathrm{MinInitCons}[\\mathcal{M}]: S \\to \\mathbb{N} \\cup \\{\\infty\\}$ computes the minimal consumption until a reload state is reached."
   ]
  },
  {
   "cell_type": "code",
   "execution_count": 106,
   "metadata": {},
   "outputs": [
    {
     "name": "stdout",
     "output_type": "stream",
     "text": [
      "Overwriting safety.py\n"
     ]
    }
   ],
   "source": [
    "%%writefile safety.py\n",
    "from math import inf\n",
    "\n",
    "class minInitCons:\n",
    "    \"\"\"Compute function minInitCons for given consMDP `m`.\n",
    "    \n",
    "    minInitCons_m: S -> N ∪ {∞} returns for given `s` the minimum\n",
    "    amount `s_m` of resource such that there exists a strategy that\n",
    "    guarantees reachability of some reload state from s consuming\n",
    "    at most `s_m`.\n",
    "    \n",
    "    Typical use:\n",
    "    MI = minInitCons(mdp)\n",
    "    MI.get_values()\n",
    "    \"\"\"\n",
    "\n",
    "    def __init__(self, mdp):\n",
    "        self.mdp     = mdp\n",
    "        self.states  = mdp.num_states\n",
    "        self.F       = [0] * self.states\n",
    "        self.G       = [0] * self.states\n",
    "        self.F_ready = False\n",
    "        self.G_ready = False\n",
    "\n",
    "    def action_F_value(self, a):\n",
    "        non_reload_succs = [self.F[succ] for succ in a.distr.keys() \n",
    "                   if not self.mdp.is_reload(succ)]\n",
    "        a_v = 0 if len(non_reload_succs) == 0 else max(non_reload_succs)\n",
    "        return a_v + a.cons\n",
    "\n",
    "    def fixpoint(self, func = \"F\"):\n",
    "        \"\"\"Computes the functional F (or G if requested).\n",
    "\n",
    "        `func` can be either \"F\" or \"G\"\n",
    "\n",
    "        !!! G should be always called after F !!!\n",
    "\n",
    "        The functionals compute for each state `s` the maximum\n",
    "        energy needed to reach a reload state from `s`.\n",
    "        \n",
    "        G detects increasing cycles by setting ∞ to states from\n",
    "        which such cycle is reachable.\n",
    "        \"\"\"\n",
    "        if func not in \"FG\":\n",
    "            raise AttributeError(f'func has to be \"F\" or \"G\". {func} supplied')\n",
    "        if func == \"G\" and not self.F_ready:\n",
    "            raise AttributeError(\"G functional can be only called after F\" +\n",
    "                                 \" is computed.\")\n",
    "\n",
    "        F = func == \"F\"\n",
    "\n",
    "        values = self.F if F else self.G\n",
    "\n",
    "        # iterate until a fixpoint is reached or for at most |S| steps\n",
    "        iterate = True\n",
    "        c = self.states      \n",
    "        while iterate and c > 0:\n",
    "            iterate = False\n",
    "            c -= 1\n",
    "\n",
    "            for s in range(self.states):\n",
    "                current_v = values[s]\n",
    "                actions = self.mdp.actions_for_state(s)\n",
    "                # candidate_v is now the minimum over action values\n",
    "                candidate_v = min([self.action_F_value(a) for a in actions])\n",
    "\n",
    "                # F and G are monotonicly increasing, \n",
    "                # check for increase only\n",
    "                if candidate_v > current_v:\n",
    "                    values[s] = candidate_v if F else inf\n",
    "                    iterate = True\n",
    "        if F:\n",
    "            self.F_ready = True\n",
    "            # keep the F and G values separate\n",
    "            self.G = list(values)\n",
    "        else:\n",
    "            self.G_ready = True\n",
    "\n",
    "    def get_values(self, recompute=False):\n",
    "        \"\"\"Return (and compute) minInitCons list for self.m.\n",
    "        \n",
    "        When called for the first time, it computes the values.\n",
    "        Recomputes the values if requested by `recompute`.\n",
    "        \"\"\"\n",
    "        if recompute:\n",
    "            self.F_ready, self.G_ready = False, False\n",
    "            self.F = [0] * self.states\n",
    "        if not self.F_ready:\n",
    "            self.fixpoint(\"F\")\n",
    "        if not self.G_ready:\n",
    "            self.fixpoint(\"G\")\n",
    "        return self.G\n"
   ]
  },
  {
   "cell_type": "code",
   "execution_count": 86,
   "metadata": {},
   "outputs": [],
   "source": [
    "%run Kucera-example.ipynb"
   ]
  },
  {
   "cell_type": "code",
   "execution_count": 87,
   "metadata": {},
   "outputs": [
    {
     "data": {
      "text/plain": [
       "[0, 3, 2, 0, 3, 9, 14, 1, 1, 0, 5, 1, 1]"
      ]
     },
     "execution_count": 87,
     "metadata": {},
     "output_type": "execute_result"
    }
   ],
   "source": [
    "MI = minInitCons(m)\n",
    "MI.get_values()"
   ]
  },
  {
   "cell_type": "code",
   "execution_count": 88,
   "metadata": {},
   "outputs": [],
   "source": [
    "m.unset_reload(11)"
   ]
  },
  {
   "cell_type": "code",
   "execution_count": 89,
   "metadata": {},
   "outputs": [
    {
     "data": {
      "text/plain": [
       "[0, 3, 2, 0, 3, 9, 14, 1, 1, 0, inf, inf, 1]"
      ]
     },
     "execution_count": 89,
     "metadata": {},
     "output_type": "execute_result"
    }
   ],
   "source": [
    "MI = minInitCons(m)\n",
    "MI.get_values()"
   ]
  },
  {
   "cell_type": "code",
   "execution_count": 92,
   "metadata": {},
   "outputs": [
    {
     "name": "stdout",
     "output_type": "stream",
     "text": [
      "[0, 3, 2, 0, 3, 9, 14, 1, 1, 0, 40, 39, 1]\n"
     ]
    },
    {
     "data": {
      "text/plain": [
       "[0, 3, 2, 0, 3, 9, 14, 1, 1, 0, 53, 52, 1]"
      ]
     },
     "execution_count": 92,
     "metadata": {},
     "output_type": "execute_result"
    }
   ],
   "source": [
    "print(MI.F)\n",
    "MI.fixpoint()\n",
    "MI.F"
   ]
  }
 ],
 "metadata": {
  "kernelspec": {
   "display_name": "Python 3",
   "language": "python",
   "name": "python3"
  },
  "language_info": {
   "codemirror_mode": {
    "name": "ipython",
    "version": 3
   },
   "file_extension": ".py",
   "mimetype": "text/x-python",
   "name": "python",
   "nbconvert_exporter": "python",
   "pygments_lexer": "ipython3",
   "version": "3.7.3"
  }
 },
 "nbformat": 4,
 "nbformat_minor": 4
}
