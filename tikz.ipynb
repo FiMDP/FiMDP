{
 "cells": [
  {
   "cell_type": "code",
   "execution_count": 101,
   "metadata": {},
   "outputs": [],
   "source": [
    "import subprocess\n",
    "import sys\n",
    "import os\n",
    "\n",
    "def compile_tikz_f(filename):\n",
    "    with open(filename, \"r\") as f:\n",
    "        tikz = f.read()\n",
    "    #tikz = \" \".join([l.strip() for l in tikz])\n",
    "    compile_tikz(tikz)\n",
    "    \n",
    "def compile_tikz(tikz):\n",
    "    try:\n",
    "        tex_pr = subprocess.Popen(['lualatex','--jobname=aaa', '-shell-escape'],\n",
    "                               stdin=subprocess.PIPE,\n",
    "                               stdout=subprocess.PIPE,\n",
    "                               stderr=subprocess.PIPE)\n",
    "    except FileNotFoundError:\n",
    "        print(\"The command 'lualatex' seems to be missing on your system.\\n\"\n",
    "              \"Please install some LaTeX system \"\n",
    "              \"and make sure 'lualatex' is in your PATH.\", file=sys.stderr)\n",
    "        raise\n",
    "\n",
    "    stdout, stderr = tex_pr.communicate(tikz.encode('utf-8'))\n",
    "    if stderr:\n",
    "        print(\"Calling 'lualatex' for the conversion to PDF produced the message:\\n\"\n",
    "              + stderr.decode('utf-8'), file=sys.stderr)\n",
    "    ret = tex_pr.wait()\n",
    "    if ret:\n",
    "        raise subprocess.CalledProcessError(ret, 'lualatex')\n",
    "    \n",
    "    clean = [\"aaa.aux\", \"aaa.log\"]\n",
    "    for f in clean:\n",
    "        os.remove(f)\n",
    "    return stdout.decode('utf-8')\n",
    "\n",
    "def tikz_display(tikz):\n",
    "    compile_tikz(tikz)\n",
    "    "
   ]
  },
  {
   "cell_type": "code",
   "execution_count": 102,
   "metadata": {},
   "outputs": [],
   "source": [
    "tikz = r'''\\documentclass[tikz,convert={outext=.png}]{standalone}\n",
    "\n",
    "\\usepackage{tikz}\n",
    "\\usetikzlibrary{graphs, graphdrawing}\n",
    "\\usegdlibrary{layered}\n",
    "\n",
    "\\begin{document}\n",
    "\\begin{tikzpicture}\n",
    "\\graph [layered layout, level distance=1cm, sibling sep=.5em, sibling distance=1cm] {\n",
    "\"5th Edition\" -> { \"6th Edition\", \"PWB 1.0\" };\n",
    "\"6th Edition\" -> { \"LSX\" [>child anchor=45], \"1 BSD\", \"Mini Unix\", \"Wollongong\", \"Interdata\" }; \"Interdata\" -> { \"Unix/TS 3.0\", \"PWB 2.0\", \"7th Edition\" };\n",
    "\"7th Edition\" -> { \"8th Edition\", \"32V\", \"V7M\", \"Ultrix-11\", \"Xenix\", \"UniPlus+\" };\n",
    "\"V7M\" -> \"Ultrix-11\";\n",
    "\"8th Edition\" -> \"9th Edition\";\n",
    "\"1 BSD\" -> \"2 BSD\" -> \"2.8 BSD\" -> { \"Ultrix-11\", \"2.9 BSD\" };\n",
    "\"32V\" -> \"3 BSD\" -> \"4 BSD\" -> \"4.1 BSD\" -> { \"4.2 BSD\", \"2.8 BSD\", \"8th Edition\" };\n",
    "\"4.2 BSD\" -> { \"4.3 BSD\", \"Ultrix-32\" };\n",
    "\"PWB 1.0\" -> { \"PWB 1.2\" -> \"PWB 2.0\", \"USG 1.0\" -> { \"CB Unix 1\", \"USG 2.0\" }};\n",
    "\"CB Unix 1\" -> \"CB Unix 2\" -> \"CB Unix 3\" -> { \"Unix/TS++\", \"PDP-11 Sys V\" };\n",
    "{ \"USG 2.0\" -> \"USG 3.0\", \"PWB 2.0\", \"Unix/TS 1.0\" } -> \"Unix/TS 3.0\";\n",
    "{ \"Unix/TS++\", \"CB Unix 3\", \"Unix/TS 3.0\" } -> \"TS 4.0\" -> \"System V.0\" -> \"System V.2\" -> \"System V.3\";};\n",
    "\\end{tikzpicture}\n",
    "\\end{document}'''"
   ]
  },
  {
   "cell_type": "code",
   "execution_count": 103,
   "metadata": {},
   "outputs": [
    {
     "ename": "FileNotFoundError",
     "evalue": "[Errno 2] No such file or directory: 'aaa.pdf'",
     "output_type": "error",
     "traceback": [
      "\u001b[0;31m---------------------------------------------------------------------------\u001b[0m",
      "\u001b[0;31mFileNotFoundError\u001b[0m                         Traceback (most recent call last)",
      "\u001b[0;32m<ipython-input-103-298be539e940>\u001b[0m in \u001b[0;36m<module>\u001b[0;34m\u001b[0m\n\u001b[1;32m      1\u001b[0m \u001b[0;32mfrom\u001b[0m \u001b[0mIPython\u001b[0m\u001b[0;34m.\u001b[0m\u001b[0mdisplay\u001b[0m \u001b[0;32mimport\u001b[0m \u001b[0mdisplay_pdf\u001b[0m\u001b[0;34m\u001b[0m\u001b[0;34m\u001b[0m\u001b[0m\n\u001b[0;32m----> 2\u001b[0;31m \u001b[0mdisplay_pdf\u001b[0m\u001b[0;34m(\u001b[0m\u001b[0mopen\u001b[0m\u001b[0;34m(\u001b[0m\u001b[0;34m'aaa.pdf'\u001b[0m\u001b[0;34m,\u001b[0m\u001b[0;34m\"r\"\u001b[0m\u001b[0;34m)\u001b[0m\u001b[0;34m.\u001b[0m\u001b[0mreadlines\u001b[0m\u001b[0;34m(\u001b[0m\u001b[0;34m)\u001b[0m\u001b[0;34m)\u001b[0m\u001b[0;34m\u001b[0m\u001b[0;34m\u001b[0m\u001b[0m\n\u001b[0m",
      "\u001b[0;31mFileNotFoundError\u001b[0m: [Errno 2] No such file or directory: 'aaa.pdf'"
     ]
    }
   ],
   "source": [
    "from IPython.display import display_pdf\n",
    "display_pdf(open('aaa.pdf',\"r\").readlines())"
   ]
  },
  {
   "cell_type": "raw",
   "metadata": {},
   "source": [
    "compile_tikz_f(\"tikz-exp.tex\")"
   ]
  },
  {
   "cell_type": "code",
   "execution_count": 106,
   "metadata": {},
   "outputs": [
    {
     "name": "stderr",
     "output_type": "stream",
     "text": [
      "Calling 'lualatex' for the conversion to PDF produced the message:\n",
      "convert: profile 'icc': 'RGB ': RGB color space not permitted on grayscale PNG `aaa-%00d.png' @ warning/png.c/MagickPNGWarningHandler/1748.\n",
      "\n"
     ]
    },
    {
     "data": {
      "text/plain": [
       "\"This is LuaTeX, Version 1.10.0 (TeX Live 2019) \\n system commands enabled.\\n**LaTeX2e <2018-12-01>\\n\\nluaotfload | main : initialization completed in 0.056 seconds\\n\\n*(/usr/local/texlive/2019/texmf-dist/tex/latex/standalone/standalone.cls\\nDocument Class: standalone 2018/03/26 v1.3a Class to compile TeX sub-files stan\\ndalone\\n(/usr/local/texlive/2019/texmf-dist/tex/latex/tools/shellesc.sty)\\n(/usr/local/texlive/2019/texmf-dist/tex/generic/oberdiek/ifluatex.sty)\\n(/usr/local/texlive/2019/texmf-dist/tex/generic/oberdiek/ifpdf.sty)\\n(/usr/local/texlive/2019/texmf-dist/tex/generic/ifxetex/ifxetex.sty)\\n(/usr/local/texlive/2019/texmf-dist/tex/latex/xkeyval/xkeyval.sty\\n(/usr/local/texlive/2019/texmf-dist/tex/generic/xkeyval/xkeyval.tex\\n(/usr/local/texlive/2019/texmf-dist/tex/generic/xkeyval/xkvutils.tex\\n(/usr/local/texlive/2019/texmf-dist/tex/generic/xkeyval/keyval.tex))))\\n(/usr/local/texlive/2019/texmf-dist/tex/latex/standalone/standalone.cfg)\\n(/usr/local/texlive/2019/texmf-dist/tex/latex/base/article.cls\\nDocument Class: article 2018/09/03 v1.4i Standard LaTeX document class\\n(/usr/local/texlive/2019/texmf-dist/tex/latex/base/size10.clo))\\n(/usr/local/texlive/2019/texmf-dist/tex/generic/luatex85/luatex85.sty)\\n(/usr/local/texlive/2019/texmf-dist/tex/generic/oberdiek/pdftexcmds.sty\\n(/usr/local/texlive/2019/texmf-dist/tex/generic/oberdiek/infwarerr.sty)\\n(/usr/local/texlive/2019/texmf-dist/tex/generic/oberdiek/ltxcmds.sty))\\n(/usr/local/texlive/2019/texmf-dist/tex/latex/pgf/frontendlayer/tikz.sty\\n(/usr/local/texlive/2019/texmf-dist/tex/latex/pgf/basiclayer/pgf.sty\\n(/usr/local/texlive/2019/texmf-dist/tex/latex/pgf/utilities/pgfrcs.sty\\n(/usr/local/texlive/2019/texmf-dist/tex/generic/pgf/utilities/pgfutil-common.te\\nx\\n(/usr/local/texlive/2019/texmf-dist/tex/generic/pgf/utilities/pgfutil-common-li\\nsts.tex))\\n(/usr/local/texlive/2019/texmf-dist/tex/generic/pgf/utilities/pgfutil-latex.def\\n(/usr/local/texlive/2019/texmf-dist/tex/latex/ms/everyshi.sty))\\n(/usr/local/texlive/2019/texmf-dist/tex/generic/pgf/utilities/pgfrcs.code.tex\\n(/usr/local/texlive/2019/texmf-dist/tex/generic/pgf/pgf.revision.tex)))\\n(/usr/local/texlive/2019/texmf-dist/tex/latex/pgf/basiclayer/pgfcore.sty\\n(/usr/local/texlive/2019/texmf-dist/tex/latex/graphics/graphicx.sty\\n(/usr/local/texlive/2019/texmf-dist/tex/latex/graphics/graphics.sty\\n(/usr/local/texlive/2019/texmf-dist/tex/latex/graphics/trig.sty)\\n(/usr/local/texlive/2019/texmf-dist/tex/latex/graphics-cfg/graphics.cfg)\\n(/usr/local/texlive/2019/texmf-dist/tex/latex/graphics-def/luatex.def)))\\n(/usr/local/texlive/2019/texmf-dist/tex/latex/pgf/systemlayer/pgfsys.sty\\n(/usr/local/texlive/2019/texmf-dist/tex/generic/pgf/systemlayer/pgfsys.code.tex\\n(/usr/local/texlive/2019/texmf-dist/tex/generic/pgf/utilities/pgfkeys.code.tex\\n(/usr/local/texlive/2019/texmf-dist/tex/generic/pgf/utilities/pgfkeysfiltered.c\\node.tex))\\n(/usr/local/texlive/2019/texmf-dist/tex/generic/pgf/systemlayer/pgf.cfg)\\n(/usr/local/texlive/2019/texmf-dist/tex/generic/pgf/systemlayer/pgfsys-luatex.d\\nef\\n(/usr/local/texlive/2019/texmf-dist/tex/generic/pgf/systemlayer/pgfsys-common-p\\ndf.def)))\\n(/usr/local/texlive/2019/texmf-dist/tex/generic/pgf/systemlayer/pgfsyssoftpath.\\ncode.tex)\\n(/usr/local/texlive/2019/texmf-dist/tex/generic/pgf/systemlayer/pgfsysprotocol.\\ncode.tex)) (/usr/local/texlive/2019/texmf-dist/tex/latex/xcolor/xcolor.sty\\n(/usr/local/texlive/2019/texmf-dist/tex/latex/graphics-cfg/color.cfg))\\n(/usr/local/texlive/2019/texmf-dist/tex/generic/pgf/basiclayer/pgfcore.code.tex\\n(/usr/local/texlive/2019/texmf-dist/tex/generic/pgf/math/pgfmath.code.tex\\n(/usr/local/texlive/2019/texmf-dist/tex/generic/pgf/math/pgfmathcalc.code.tex\\n(/usr/local/texlive/2019/texmf-dist/tex/generic/pgf/math/pgfmathutil.code.tex)\\n(/usr/local/texlive/2019/texmf-dist/tex/generic/pgf/math/pgfmathparser.code.tex\\n)\\n(/usr/local/texlive/2019/texmf-dist/tex/generic/pgf/math/pgfmathfunctions.code.\\ntex\\n(/usr/local/texlive/2019/texmf-dist/tex/generic/pgf/math/pgfmathfunctions.basic\\n.code.tex)\\n(/usr/local/texlive/2019/texmf-dist/tex/generic/pgf/math/pgfmathfunctions.trigo\\nnometric.code.tex)\\n(/usr/local/texlive/2019/texmf-dist/tex/generic/pgf/math/pgfmathfunctions.rando\\nm.code.tex)\\n(/usr/local/texlive/2019/texmf-dist/tex/generic/pgf/math/pgfmathfunctions.compa\\nrison.code.tex)\\n(/usr/local/texlive/2019/texmf-dist/tex/generic/pgf/math/pgfmathfunctions.base.\\ncode.tex)\\n(/usr/local/texlive/2019/texmf-dist/tex/generic/pgf/math/pgfmathfunctions.round\\n.code.tex)\\n(/usr/local/texlive/2019/texmf-dist/tex/generic/pgf/math/pgfmathfunctions.misc.\\ncode.tex)\\n(/usr/local/texlive/2019/texmf-dist/tex/generic/pgf/math/pgfmathfunctions.integ\\nerarithmetics.code.tex)))\\n(/usr/local/texlive/2019/texmf-dist/tex/generic/pgf/math/pgfmathfloat.code.tex)\\n)\\n(/usr/local/texlive/2019/texmf-dist/tex/generic/pgf/basiclayer/pgfcorepoints.co\\nde.tex)\\n(/usr/local/texlive/2019/texmf-dist/tex/generic/pgf/basiclayer/pgfcorepathconst\\nruct.code.tex)\\n(/usr/local/texlive/2019/texmf-dist/tex/generic/pgf/basiclayer/pgfcorepathusage\\n.code.tex)\\n(/usr/local/texlive/2019/texmf-dist/tex/generic/pgf/basiclayer/pgfcorescopes.co\\nde.tex)\\n(/usr/local/texlive/2019/texmf-dist/tex/generic/pgf/basiclayer/pgfcoregraphicst\\nate.code.tex)\\n(/usr/local/texlive/2019/texmf-dist/tex/generic/pgf/basiclayer/pgfcoretransform\\nations.code.tex)\\n(/usr/local/texlive/2019/texmf-dist/tex/generic/pgf/basiclayer/pgfcorequick.cod\\ne.tex)\\n(/usr/local/texlive/2019/texmf-dist/tex/generic/pgf/basiclayer/pgfcoreobjects.c\\node.tex)\\n(/usr/local/texlive/2019/texmf-dist/tex/generic/pgf/basiclayer/pgfcorepathproce\\nssing.code.tex)\\n(/usr/local/texlive/2019/texmf-dist/tex/generic/pgf/basiclayer/pgfcorearrows.co\\nde.tex)\\n(/usr/local/texlive/2019/texmf-dist/tex/generic/pgf/basiclayer/pgfcoreshade.cod\\ne.tex)\\n(/usr/local/texlive/2019/texmf-dist/tex/generic/pgf/basiclayer/pgfcoreimage.cod\\ne.tex\\n(/usr/local/texlive/2019/texmf-dist/tex/generic/pgf/basiclayer/pgfcoreexternal.\\ncode.tex))\\n(/usr/local/texlive/2019/texmf-dist/tex/generic/pgf/basiclayer/pgfcorelayers.co\\nde.tex)\\n(/usr/local/texlive/2019/texmf-dist/tex/generic/pgf/basiclayer/pgfcoretranspare\\nncy.code.tex)\\n(/usr/local/texlive/2019/texmf-dist/tex/generic/pgf/basiclayer/pgfcorepatterns.\\ncode.tex)\\n(/usr/local/texlive/2019/texmf-dist/tex/generic/pgf/basiclayer/pgfcorerdf.code.\\ntex)))\\n(/usr/local/texlive/2019/texmf-dist/tex/generic/pgf/modules/pgfmoduleshapes.cod\\ne.tex)\\n(/usr/local/texlive/2019/texmf-dist/tex/generic/pgf/modules/pgfmoduleplot.code.\\ntex)\\n(/usr/local/texlive/2019/texmf-dist/tex/latex/pgf/compatibility/pgfcomp-version\\n-0-65.sty)\\n(/usr/local/texlive/2019/texmf-dist/tex/latex/pgf/compatibility/pgfcomp-version\\n-1-18.sty))\\n(/usr/local/texlive/2019/texmf-dist/tex/latex/pgf/utilities/pgffor.sty\\n(/usr/local/texlive/2019/texmf-dist/tex/latex/pgf/utilities/pgfkeys.sty\\n(/usr/local/texlive/2019/texmf-dist/tex/generic/pgf/utilities/pgfkeys.code.tex)\\n) (/usr/local/texlive/2019/texmf-dist/tex/latex/pgf/math/pgfmath.sty\\n(/usr/local/texlive/2019/texmf-dist/tex/generic/pgf/math/pgfmath.code.tex))\\n(/usr/local/texlive/2019/texmf-dist/tex/generic/pgf/utilities/pgffor.code.tex\\n(/usr/local/texlive/2019/texmf-dist/tex/generic/pgf/math/pgfmath.code.tex)))\\n(/usr/local/texlive/2019/texmf-dist/tex/generic/pgf/frontendlayer/tikz/tikz.cod\\ne.tex\\n(/usr/local/texlive/2019/texmf-dist/tex/generic/pgf/libraries/pgflibraryplothan\\ndlers.code.tex)\\n(/usr/local/texlive/2019/texmf-dist/tex/generic/pgf/modules/pgfmodulematrix.cod\\ne.tex)\\n(/usr/local/texlive/2019/texmf-dist/tex/generic/pgf/frontendlayer/tikz/librarie\\ns/tikzlibrarytopaths.code.tex)))This is LuaTeX, Version 1.10.0 (TeX Live 2019) \\n system commands enabled.\\nLaTeX2e <2018-12-01>\\n\\nluaotfload | main : initialization completed in 0.058 seconds\\n\\n! LaTeX Error: File `aaa.tex' not found.\\n\\nType X to quit or <RETURN> to proceed,\\nor enter new name. (Default extension: tex)\\n\\nEnter file name: \\n! Emergency stop.\\n<read *> \\n   \\n<*> ...csname sa@internal@run\\\\endcsname{1}\\\\input{aaa}\\n                                                  \\r\\n 267 words of node memory still in use:\\n   1 dir, 3 kern, 1 glyph, 1 attribute, 34 glue_spec, 1 attribute_list nodes\\n   avail lists: 2:10,3:1,4:1\\n!  ==> Fatal error occurred, no output PDF file produced!\\nTranscript written on aaa.log.\\n\\n\\nClass standalone Warning: Conversion unsuccessful!\\n(standalone)              There might be something wrong with your\\n(standalone)              conversation software or the file permissions!\\n\\n)\\n(Please type a command or say `\\\\end')\\n*\\n*\\n(/usr/local/texlive/2019/texmf-dist/tex/generic/pgf/frontendlayer/tikz/librarie\\ns/graphs/tikzlibrarygraphs.code.tex)\\n(/usr/local/texlive/2019/texmf-dist/tex/generic/pgf/graphdrawing/tex/tikzlibrar\\nygraphdrawing.code.tex\\n(/usr/local/texlive/2019/texmf-dist/tex/generic/pgf/graphdrawing/tex/pgflibrary\\ngraphdrawing.code.tex))\\n*\\n*(Please type a command or say `\\\\end')\\n*No file aaa.aux.\\nABD: EveryShipout initializing macros\\n(/usr/local/texlive/2019/texmf-dist/tex/context/base/mkii/supp-pdf.mkii\\n[Loading MPS to PDF converter (version 2006.09.02).]\\n) (/usr/local/texlive/2019/texmf-dist/tex/latex/oberdiek/epstopdf-base.sty\\n(/usr/local/texlive/2019/texmf-dist/tex/latex/oberdiek/grfext.sty\\n(/usr/local/texlive/2019/texmf-dist/tex/generic/oberdiek/kvdefinekeys.sty))\\n(/usr/local/texlive/2019/texmf-dist/tex/latex/oberdiek/kvoptions.sty\\n(/usr/local/texlive/2019/texmf-dist/tex/generic/oberdiek/kvsetkeys.sty\\n(/usr/local/texlive/2019/texmf-dist/tex/generic/oberdiek/etexcmds.sty)))\\n(/usr/local/texlive/2019/texmf-dist/tex/latex/latexconfig/epstopdf-sys.cfg))\\n*\\n*\\n*\\n*\\n*\\n*\\n*\\n*\\n*\\n*\\n*\\n*\\n*\\n*\\n*[1{/usr/local/texlive/2019/texmf-var/fonts/map/pdftex/updmap/pdftex.map}]\\n*(./aaa.aux)\\n 384 words of node memory still in use:\\n   2 hlist, 1 vlist, 1 rule, 2 glue, 3 kern, 1 glyph, 5 attribute, 44 glue_spec\\n, 5 attribute_list, 2 write nodes\\n   avail lists: 1:50,2:6333,3:2525,4:13,5:26,6:12,7:7097,9:1208,11:32\\n</usr/local/texlive/2019/texmf-dist/fonts/opentype/public/lm/lmroman10-regular.\\notf>\\nOutput written on aaa.pdf (1 page, 11385 bytes).\\nTranscript written on aaa.log.\\n\""
      ]
     },
     "execution_count": 106,
     "metadata": {},
     "output_type": "execute_result"
    }
   ],
   "source": [
    "compile_tikz(tikz)"
   ]
  },
  {
   "cell_type": "code",
   "execution_count": null,
   "metadata": {},
   "outputs": [],
   "source": []
  }
 ],
 "metadata": {
  "kernelspec": {
   "display_name": "Python 3",
   "language": "python",
   "name": "python3"
  },
  "language_info": {
   "codemirror_mode": {
    "name": "ipython",
    "version": 3
   },
   "file_extension": ".py",
   "mimetype": "text/x-python",
   "name": "python",
   "nbconvert_exporter": "python",
   "pygments_lexer": "ipython3",
   "version": "3.7.4"
  }
 },
 "nbformat": 4,
 "nbformat_minor": 4
}
