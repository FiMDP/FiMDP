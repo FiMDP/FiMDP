{
 "cells": [
  {
   "cell_type": "markdown",
   "metadata": {},
   "source": [
    "# Sufficient levels computation variants\n",
    "We have two variants how to compute the $\\mathrm{Safe}^\\mathit{cap}$ vector (level of energy needed to survive with given capacity).\n",
    "\n",
    "1. Iterate minInitCons (largest fixpoint) on MDP where reloads with ∞ are removed. \\[$n^2$ iterations\\]\n",
    "2. Least fixpoint from minInitCons \\[$(n\\cdot c_{\\mathrm{max}})$ iterations\\]\n",
    "\n",
    "\n",
    "The two variants are implemented currently in [energy_solver.py](energy_solver.py) in:\n",
    "1. \n",
    "```python\n",
    "class EnergySolver\n",
    "```\n",
    "\n",
    "2. \n",
    "```python\n",
    "class EnergyLevels_least\n",
    "```\n",
    "\n",
    "The option 2 computes minInitCons as a first step anyway (no reloads are removed at the beginning) as it results in a cleaner code. However, it does not sotre the values."
   ]
  },
  {
   "cell_type": "code",
   "execution_count": 3,
   "metadata": {},
   "outputs": [],
   "source": [
    "import sys; sys.path.insert(0, '..')\n",
    "from cmdp.energy_solver import EnergySolver, EnergyLevels_least"
   ]
  },
  {
   "cell_type": "markdown",
   "metadata": {},
   "source": [
    "## Examples\n",
    "* Manhattan\n",
    "* a tiny MDP used to show incorrectness of the least-fixpoint with at most $|S|$ iterations.\n",
    "\n",
    "### Manhattan example"
   ]
  },
  {
   "cell_type": "code",
   "execution_count": 4,
   "metadata": {},
   "outputs": [],
   "source": [
    "from cmdp import ch_parser\n",
    "man, targets = ch_parser.parse('NYCstreetnetwork.json')\n",
    "man.structure_change()"
   ]
  },
  {
   "cell_type": "markdown",
   "metadata": {},
   "source": [
    "### Tiny example"
   ]
  },
  {
   "cell_type": "code",
   "execution_count": 5,
   "metadata": {},
   "outputs": [],
   "source": [
    "from cmdp import consMDP\n",
    "m = consMDP.ConsMDP()\n",
    "m.new_state(True)\n",
    "m.new_states(2)\n",
    "m.new_state(True)\n",
    "m.add_action(0, {0:1}, \"\", 1)\n",
    "m.add_action(1, {0:1}, \"a\", 1000)\n",
    "m.add_action(1, {2:1}, \"b\", 1)\n",
    "m.add_action(2, {1:1}, \"b\", 1)\n",
    "m.add_action(3, {3:1}, \"r\", 1010)\n",
    "m.add_action(1, {3:1}, \"r\", 1)\n",
    "m.add_action(2, {3:1}, \"r\", 1);"
   ]
  },
  {
   "cell_type": "markdown",
   "metadata": {},
   "source": [
    "## Variant 1"
   ]
  },
  {
   "cell_type": "code",
   "execution_count": 7,
   "metadata": {},
   "outputs": [
    {
     "name": "stdout",
     "output_type": "stream",
     "text": [
      "5.23 s ± 43.9 ms per loop (mean ± std. dev. of 7 runs, 1 loop each)\n"
     ]
    }
   ],
   "source": [
    "cap = 40\n",
    "man.def_EL_class = EnergySolver\n",
    "%timeit man.get_safe(cap, recompute=True)"
   ]
  },
  {
   "cell_type": "code",
   "execution_count": 8,
   "metadata": {},
   "outputs": [
    {
     "name": "stdout",
     "output_type": "stream",
     "text": [
      "234 µs ± 2.47 µs per loop (mean ± std. dev. of 7 runs, 1000 loops each)\n"
     ]
    }
   ],
   "source": [
    "m.energy_levels = EnergySolver(m, 1005)\n",
    "%timeit m.get_safe(1005, recompute=True)"
   ]
  },
  {
   "cell_type": "markdown",
   "metadata": {},
   "source": [
    "## Variant 2"
   ]
  },
  {
   "cell_type": "code",
   "execution_count": 9,
   "metadata": {},
   "outputs": [
    {
     "name": "stdout",
     "output_type": "stream",
     "text": [
      "1.09 s ± 4.24 ms per loop (mean ± std. dev. of 7 runs, 1 loop each)\n"
     ]
    }
   ],
   "source": [
    "man.def_EL_class = EnergyLevels_least\n",
    "%timeit man.get_safe(cap, recompute=True)"
   ]
  },
  {
   "cell_type": "code",
   "execution_count": 10,
   "metadata": {},
   "outputs": [
    {
     "name": "stdout",
     "output_type": "stream",
     "text": [
      "15.5 ms ± 37.6 µs per loop (mean ± std. dev. of 7 runs, 100 loops each)\n"
     ]
    }
   ],
   "source": [
    "m.def_EL_class = EnergyLevels_least\n",
    "%timeit m.get_safe(1005, recompute=True)"
   ]
  },
  {
   "cell_type": "markdown",
   "metadata": {},
   "source": [
    "## Effect on Büchi computation is negligible as it does not use get_safe()"
   ]
  },
  {
   "cell_type": "code",
   "execution_count": 11,
   "metadata": {},
   "outputs": [
    {
     "name": "stdout",
     "output_type": "stream",
     "text": [
      "4.14 s ± 73.7 ms per loop (mean ± std. dev. of 7 runs, 1 loop each)\n"
     ]
    }
   ],
   "source": [
    "man.def_EL_class = EnergySolver\n",
    "man.structure_change()\n",
    "%timeit man.get_Buchi(targets, 100, recompute=True)"
   ]
  },
  {
   "cell_type": "code",
   "execution_count": 12,
   "metadata": {},
   "outputs": [
    {
     "name": "stdout",
     "output_type": "stream",
     "text": [
      "4.16 s ± 115 ms per loop (mean ± std. dev. of 7 runs, 1 loop each)\n"
     ]
    }
   ],
   "source": [
    "m.def_EL_class = EnergyLevels_least\n",
    "man.structure_change()\n",
    "%timeit man.get_Buchi(targets, 100, recompute=True)"
   ]
  }
 ],
 "metadata": {
  "kernelspec": {
   "display_name": "Python 3",
   "language": "python",
   "name": "python3"
  },
  "language_info": {
   "codemirror_mode": {
    "name": "ipython",
    "version": 3
   },
   "file_extension": ".py",
   "mimetype": "text/x-python",
   "name": "python",
   "nbconvert_exporter": "python",
   "pygments_lexer": "ipython3",
   "version": "3.7.6"
  }
 },
 "nbformat": 4,
 "nbformat_minor": 4
}
