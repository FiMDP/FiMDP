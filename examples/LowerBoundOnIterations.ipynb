{
 "cells": [
  {
   "cell_type": "code",
   "execution_count": null,
   "metadata": {},
   "outputs": [],
   "source": [
    "import fimdp\n",
    "from fimdp.core import ConsMDP\n",
    "#fixpoints = fimdp.fixpoints\n",
    "#fimdp.dot.dotpr = 'neato'\n",
    "from fimdp.energy_solvers import BasicES\n",
    "from fimdp.objectives import *"
   ]
  },
  {
   "cell_type": "code",
   "execution_count": null,
   "metadata": {},
   "outputs": [],
   "source": [
    "def consMDP_flower(cap=8):\n",
    "    m = ConsMDP()\n",
    "    m.dot_pr = \"neato\"\n",
    "    m.new_states(2)\n",
    "    m.add_action(1,{0:1},\"a\",1)\n",
    "    m.add_action(0,{1:1},\"t\",cap)\n",
    "    m.set_reload(1)\n",
    "\n",
    "    for c in range(1,cap):\n",
    "        s = m.new_state(reload=True)\n",
    "        m.add_action(0,{s:1},f\"{s}\",cap-c)\n",
    "        m.add_action(s,{0:1},\"a\",c-1)\n",
    "    return m"
   ]
  },
  {
   "cell_type": "code",
   "execution_count": null,
   "metadata": {},
   "outputs": [],
   "source": [
    "consMDP_flower()"
   ]
  },
  {
   "cell_type": "markdown",
   "metadata": {},
   "source": [
    "## Double flower shaped consMDP\n",
    "Computing positive reachability may involve up to quadratic number of fixpoint-iterations (and thus cubic complexity in general). To be more precise, for $R$ being the set of reloads and $Q$ being the set of non-reload staes, the number of iterations $i$ is:\n",
    "$$\n",
    "i = |R| \\cdot \\frac{|P|}{2}\n",
    "$$"
   ]
  },
  {
   "cell_type": "code",
   "execution_count": null,
   "metadata": {},
   "outputs": [],
   "source": [
    "def consMDP_double_flower(cap=32,path=3):\n",
    "    m = ConsMDP()\n",
    "    m.dot_pr = \"neato\"\n",
    "    m.new_states(2)\n",
    "    #m.add_action(1,{0:1},\"a\",1)\n",
    "    #m.add_action(0,{1:1},\"t\",cap)\n",
    "\n",
    "    for c in range(2,cap, 2):\n",
    "        s = m.new_state(reload=True, name = f\"{c}\")\n",
    "        h = (c//2) % 2\n",
    "        m.add_action(h,{s:1},f\"{s}\",cap-c)\n",
    "        m.add_action(s,{h:1},\"a\",c-1)\n",
    "        \n",
    "    prev_o = 1\n",
    "    prev_e = 0\n",
    "    for p in range(path):\n",
    "        curr_o = m.new_state()\n",
    "        curr_e = m.new_state()\n",
    "\n",
    "        m.add_action(prev_o,{curr_o:1},\"p\",0)\n",
    "        m.add_action(prev_e,{curr_e:1},\"p\",0)\n",
    "        \n",
    "        prev_o = curr_o\n",
    "        prev_e = curr_e\n",
    "        \n",
    "    m.add_action(prev_o,{0:1},\"p\",1)\n",
    "    m.add_action(prev_e,{1:1},\"p\",1)\n",
    "    \n",
    "    return m"
   ]
  },
  {
   "cell_type": "code",
   "execution_count": null,
   "metadata": {},
   "outputs": [],
   "source": [
    "cap = 32 # We have cap/2 reload states, cap/4 in each flower\n",
    "path = 6\n",
    "m = consMDP_double_flower(cap, path)\n",
    "solver = BasicES(m, cap=cap, targets=[2])\n",
    "# This will yield ∞ for most states, we need at least cap+2\n",
    "print(solver.get_min_levels(POS_REACH))\n",
    "solver"
   ]
  },
  {
   "cell_type": "code",
   "execution_count": null,
   "metadata": {},
   "outputs": [],
   "source": [
    "# Let's see the number of iterations needed\n",
    "solver = BasicES(mdp=m, cap=cap+2, targets=[2])\n",
    "solver.debug = True\n",
    "print(solver.get_min_levels(POS_REACH))\n",
    "solver.show()"
   ]
  },
  {
   "cell_type": "markdown",
   "metadata": {},
   "source": [
    "### Visual evolution of the computation\n",
    "Let's have some smaller double-flower and see the results step-by-step"
   ]
  },
  {
   "cell_type": "code",
   "execution_count": null,
   "metadata": {},
   "outputs": [],
   "source": [
    "cap = 16 # We have cap/2 reload states, cap/4 in each flower\n",
    "path = 3\n",
    "m = consMDP_double_flower(cap, path)\n",
    "\n",
    "solver = BasicES(m, cap+2, set([2]))\n",
    "solver.get_min_levels(MIN_INIT_CONS)\n",
    "\n",
    "# Turn on the debug visualizations\n",
    "solver.debug_vis=True\n",
    "solver.get_min_levels(SAFE)"
   ]
  },
  {
   "cell_type": "code",
   "execution_count": null,
   "metadata": {},
   "outputs": [],
   "source": [
    "solver.get_min_levels(POS_REACH)\n",
    "solver"
   ]
  },
  {
   "cell_type": "code",
   "execution_count": null,
   "metadata": {},
   "outputs": [],
   "source": [
    "solver.get_min_levels(AS_REACH)"
   ]
  }
 ],
 "metadata": {
  "kernelspec": {
   "display_name": "Python 3",
   "language": "python",
   "name": "python3"
  },
  "language_info": {
   "codemirror_mode": {
    "name": "ipython",
    "version": 3
   },
   "file_extension": ".py",
   "mimetype": "text/x-python",
   "name": "python",
   "nbconvert_exporter": "python",
   "pygments_lexer": "ipython3",
   "version": "3.8.5"
  }
 },
 "nbformat": 4,
 "nbformat_minor": 4
}
