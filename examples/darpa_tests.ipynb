{
 "cells": [
  {
   "cell_type": "markdown",
   "metadata": {},
   "source": [
    "# Tests for DARPA Report"
   ]
  },
  {
   "cell_type": "code",
   "execution_count": 1,
   "metadata": {},
   "outputs": [],
   "source": [
    "import sys; sys.path.insert(0, '..')\n",
    "import ast\n",
    "import time\n",
    "import numpy as np\n",
    "import matplotlib.pyplot as plt\n",
    "from fimdp.UUVEnv import Env\n",
    "from IPython import display\n",
    "from matplotlib.colors import ListedColormap\n",
    "import seaborn as sns\n",
    "from fimdp.energy_solver import *"
   ]
  },
  {
   "cell_type": "markdown",
   "metadata": {},
   "source": [
    "### MDP Domain and Synthesis"
   ]
  },
  {
   "cell_type": "markdown",
   "metadata": {},
   "source": [
    "The MDP models the dynamics of an unmanned underwater vehicle (UUV) moving with a constant horizontal velocity in oceans whose current velocity vector is known apriori. The region of interest is discretized into a 2-dimensional grid where each cell in the grid forms a state in the MDP. Movement in north, south, east, and west directions form the action space. The actions are of two kinds: strong and weak. Strong actions, while consuming more energy, lead to deterministic outcomes where as weak actions have stochastic outcomes while consuming less energy. We first generate an example MDP using the following syntax and convert it into a consMDP object. In this MDP, a single target state near one corner of the grid and the reload state (which is also the initial state of the agent) is near the other corner. "
   ]
  },
  {
   "cell_type": "code",
   "execution_count": 39,
   "metadata": {},
   "outputs": [],
   "source": [
    "# Input Variables\n",
    "\n",
    "# Essential\n",
    "grid_size = (40,40) # size of the grid\n",
    "agent_capacity = 500 # maximum energy capacity of the agent\n",
    "init_state = 5*grid_size[0]+2 # Initial state of the agent\n",
    "reload_list = [10*grid_size[0]+4, 12*grid_size[0] - 5] # list of reload states in the MDP\n",
    "target_list = [grid_size[0]*grid_size[1] - 3*grid_size[0] - 8] # list of target states in the MDP\n",
    "\n",
    "# Non essential \n",
    "agent_velocity = 5 # horizontal velocity of the glider\n",
    "heading_sd = 0.524 # standard deviation in agent true heading\n",
    "weakaction_cost= 1 # cost of weak action of the agent\n",
    "strongaction_cost = 2 # cost of strong action of the agent\n",
    "\n",
    "# Generate MDP and export to consMDP\n",
    "env = Env(grid_size, agent_velocity, heading_sd, agent_capacity, weakaction_cost, strongaction_cost, reload_list, target_list, init_state=init_state, render=False)\n",
    "m, targets = env.create_consmdp()"
   ]
  },
  {
   "cell_type": "markdown",
   "metadata": {},
   "source": [
    "# Strategy Synthesis and Implementation"
   ]
  },
  {
   "cell_type": "markdown",
   "metadata": {},
   "source": [
    "We now generate the strategy using the 'EnergySolver' variant solver for almost-sure reachability objective for the given capacity and use the strategy to reach the target state. The following two functions help us in implementing the strategy and visualizing the results.\n"
   ]
  },
  {
   "cell_type": "code",
   "execution_count": 35,
   "metadata": {},
   "outputs": [],
   "source": [
    "# Function to take action based on the strategy\n",
    "def policy(strategy,state,energy):\n",
    "    \n",
    "    data_dict = strategy[state]\n",
    "    dict_keys = list(data_dict.keys())\n",
    "    \n",
    "    if len(dict_keys) == 0:\n",
    "        raise Exception('Strategy does not prescribe a safe action at this state. Increase the capacity of the agent.')\n",
    "    feasible = []\n",
    "    for value in dict_keys:\n",
    "        if value <= energy:\n",
    "            feasible.append(value)\n",
    "    \n",
    "    action_string = data_dict[max(feasible)]\n",
    "    agent_action = ast.literal_eval(action_string)[1]\n",
    "    \n",
    "    return agent_action"
   ]
  },
  {
   "cell_type": "code",
   "execution_count": 32,
   "metadata": {},
   "outputs": [],
   "source": [
    "# Function to render the grid world\n",
    "def rendering(env, time_count):\n",
    "\n",
    "    data = -3*np.ones([env.grid_size[0],env.grid_size[1]])\n",
    "    for cell in env.states_history:\n",
    "        data[cell//env.grid_size[0], cell%env.grid_size[1]] = 3\n",
    "        data[env.position//env.grid_size[0], env.position%env.grid_size[1]] = -1\n",
    "    for cell in env.target_list:\n",
    "        data[cell//env.grid_size[0], cell%env.grid_size[1]] = 1\n",
    "    for cell in env.reload_list:\n",
    "        data[cell//env.grid_size[0], cell%env.grid_size[1]] = 0            \n",
    "\n",
    "    myColors = ['#A9A9A9',(0.7, 0.0, 0.0, 1.0),(0.7, 0.3, 0.0, 1.0), (0.0, 0.8, 0.0, 1.0),'#5C5959']\n",
    "    cmap = ListedColormap(myColors)\n",
    "    plt.clf()\n",
    "    ax = sns.heatmap(data, cmap=cmap, cbar =False, linewidths=.5, linecolor='lightgray')\n",
    "    ax.axes.get_xaxis().set_visible(False)\n",
    "    ax.axes.get_yaxis().set_visible(False)\n",
    "    ax.set_title(\"Agent motion: t = {}\".format(time_count))\n",
    "    plt.pause(0.01)"
   ]
  },
  {
   "cell_type": "code",
   "execution_count": 40,
   "metadata": {
    "scrolled": true
   },
   "outputs": [
    {
     "name": "stdout",
     "output_type": "stream",
     "text": [
      "Target reached.\n"
     ]
    },
    {
     "data": {
      "image/png": "[encoded data removed]",
      "text/plain": [
       "<Figure size 432x288 with 1 Axes>"
      ]
     },
     "metadata": {
      "needs_background": "light"
     },
     "output_type": "display_data"
    }
   ],
   "source": [
    "# Generate strategy\n",
    "s = EnergySolver(m, cap=agent_capacity, targets=targets)\n",
    "strategy = s.get_strategy(AS_REACH, recompute=True)\n",
    "\n",
    "# Run simulation using the strategy\n",
    "time_count = 0\n",
    "env.reset(init_state)\n",
    "\n",
    "while True:\n",
    "       \n",
    "    energy = env.agent_energy\n",
    "    state = env.position\n",
    "     # info = (next_state, action taken, reward, done)\n",
    "    info = env.step(policy(strategy,state,energy)) # take action\n",
    "    time_count += 1\n",
    "\n",
    "    if info[0] in target_list:\n",
    "        print(\"Target reached.\")\n",
    "        rendering(env, time_count)\n",
    "        break\n",
    "    elif info[3] == 1:\n",
    "        print(\"Energy exhausted.\")\n",
    "        rendering(env, time_count)\n",
    "        break"
   ]
  },
  {
   "cell_type": "markdown",
   "metadata": {},
   "source": [
    "Note that in the above figure, green cell indicates the target state and orange cells indicate the reload states. Further, the orange cell closer to the top right corner is also the initial state of the agent. The trajectory of the agent is indicated by dark grey cells. The no.of time steps taken to reach the target is indicated in the title of the figure."
   ]
  },
  {
   "cell_type": "markdown",
   "metadata": {},
   "source": [
    "# Variation of time to reach target with agent capacity"
   ]
  },
  {
   "cell_type": "markdown",
   "metadata": {},
   "source": [
    "We now run the above configuration for different values of agent capacities to see how long the agent takes, on average, to reach the target state. Intuitively, an agent with higher capacity will feel more confident about reaching the target state directly while ensuring safety when compared to agent with lower capacity that would try to stay close to some reload state and hence loiters around. However, the average time-to-target results from the simulation below does not follow this trend, likely due to the small no.of samples considered to calculate the mean value."
   ]
  },
  {
   "cell_type": "code",
   "execution_count": 62,
   "metadata": {},
   "outputs": [
    {
     "data": {
      "text/plain": [
       "<matplotlib.axes._subplots.AxesSubplot at 0x7f2e402929d0>"
      ]
     },
     "execution_count": 62,
     "metadata": {},
     "output_type": "execute_result"
    },
    {
     "data": {
      "image/png": "[encoded data removed]",
      "text/plain": [
       "<Figure size 432x288 with 1 Axes>"
      ]
     },
     "metadata": {
      "needs_background": "light"
     },
     "output_type": "display_data"
    }
   ],
   "source": [
    "# Function that calculates average time to reach target for different capacities and plots the data\n",
    "\n",
    "capacities_list = np.arange(100,550,50)\n",
    "attempts_count = 10\n",
    "timing_list = []\n",
    "\n",
    "for capacity in capacities_list:\n",
    "    \n",
    "    # gen strategy\n",
    "    s = EnergySolver(m, cap=capacity, targets=targets)\n",
    "    strategy = s.get_strategy(AS_REACH, recompute=True)\n",
    "    time_diffattempts = []\n",
    "    for count in range(attempts_count):   \n",
    "        # run simulation\n",
    "        time_count = 0\n",
    "        env.reset(init_state)\n",
    "        while True:\n",
    "            energy = env.agent_energy\n",
    "            state = env.position\n",
    "            try:\n",
    "                info = env.step(policy(strategy,state,energy)) # take action\n",
    "                time_count += 1\n",
    "            except:\n",
    "                break\n",
    "            if info[0] in target_list:\n",
    "                time_diffattempts.append(time_count)\n",
    "                break\n",
    "\n",
    "    timing_list.append(np.mean(time_diffattempts))\n",
    "        \n",
    "# Plot timing data\n",
    "sns.scatterplot(capacities_list, timing_list)"
   ]
  }
 ],
 "metadata": {
  "kernelspec": {
   "display_name": "Python 3",
   "language": "python",
   "name": "python3"
  },
  "language_info": {
   "codemirror_mode": {
    "name": "ipython",
    "version": 3
   },
   "file_extension": ".py",
   "mimetype": "text/x-python",
   "name": "python",
   "nbconvert_exporter": "python",
   "pygments_lexer": "ipython3",
   "version": "3.7.7"
  }
 },
 "nbformat": 4,
 "nbformat_minor": 4
}
