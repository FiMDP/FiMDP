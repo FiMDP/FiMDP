{
 "cells": [
  {
   "cell_type": "markdown",
   "metadata": {},
   "source": [
    "# Notebook for CAV2020 Artifact Evaluation - Submission 233"
   ]
  },
  {
   "cell_type": "markdown",
   "metadata": {},
   "source": [
    "This notebook contains the tests to reproduce the results presented in our paper titled *Qualitative Controller Synthesis for Consumption Markov Decision Processes*. It also helps understand the package structure for ease of reusability.\n",
    "\n",
    "Please note that the computation time for different tasks reported in the paper change based on the machine configuration but the scalabilty remains the same. The following computation times are obtained using a machine with the Intel® Core™ i7-8700 CPU @ 3.20GHz × 12 processor and a RAM of 16 GB running Ubuntu 18.04 LTS. This is a different configuration than the desktop used to generate the results reported in the paper and hence the computation times can be a little different. \n",
    "\n",
    "We provide detailed documentation and installation instructions using the documentation served using Sphinx and ReadtheDocs at the following links: [online version](https://fimdp.readthedocs.io/en/latest/) and [offline version - works in docker only](http://localhost:7777/view/docs/build/html/index.html).\n",
    "\n",
    "While all the tests below are self-contained, we encourage you to have a look at other example notebooks. You can find brief descriptions of other example notebooks in the readme file in the current directory or at this [ReadtheDocs link](https://fimdp.readthedocs.io/en/latest/examples.html).\n",
    "\n",
    "We consider the following two case-studies in our paper which model the problems of an electric vehicle routing with limited capacity and a multi-agent grid world inspired by the Mars 2020 mission. For detailed description of the problems, refer to the **Implementation and Case Studies** section of the paper or the following links:\n",
    "\n",
    "* Description of Electric Vehicle Routing Problem: [ReadtheDocs link](https://fimdp.readthedocs.io/en/latest/examples.html#electric-vehicle-routing) or \n",
    "[Offline link - works in docker only](http://localhost:7777/view/docs/build/html/examples.html#electric-vehicle-routing)\n",
    "* Description of Multi-agent Grid World Problem: [ReadtheDocs link](https://fimdp.readthedocs.io/en/latest/examples.html#multi-agent-grid-world) or \n",
    "[Offline link - works in docker only](http://localhost:7777/view/docs/build/html/examples.html#multi-agent-grid-world)\n",
    "\n",
    "\n",
    "The following two subsections reproduce the results from the corresponding subsections in the **Implementation and Case Studies** section of the paper."
   ]
  },
  {
   "cell_type": "markdown",
   "metadata": {},
   "source": [
    "## Electric Vehicle Routing"
   ]
  },
  {
   "cell_type": "markdown",
   "metadata": {},
   "source": [
    "This subsection reproduces the results in section *7.1 Electric Vehicle Routing* of the paper. We begin with importing required modules from fimdp."
   ]
  },
  {
   "cell_type": "code",
   "execution_count": 46,
   "metadata": {},
   "outputs": [],
   "source": [
    "import fimdpenv.nyc_parser as nyc_parser\n",
    "import fimdpenv.NYCtools as NYCtools\n",
    "from fimdp.energy_solver import *\n",
    "import pandas as pd\n",
    "import numpy as np\n",
    "import timeit\n",
    "import matplotlib.pyplot as plt\n",
    "from fimdp.consMDP import ConsMDP\n",
    "from fimdp.products import product_energy\n",
    "from mec_decomposition import get_MECs"
   ]
  },
  {
   "cell_type": "markdown",
   "metadata": {},
   "source": [
    "We generate the consMDP object representing the consumption MDP modeling the problem of electric vehicle routing in NYC. NYCstreetnetwork.json contains a stochastic energy consumption model covering all the streets in central Manhattan, New York City."
   ]
  },
  {
   "cell_type": "code",
   "execution_count": 4,
   "metadata": {},
   "outputs": [],
   "source": [
    "m, targets = nyc_parser.parse('NYCstreetnetwork.json')"
   ]
  },
  {
   "cell_type": "markdown",
   "metadata": {},
   "source": [
    "### Mean computation time for different objectives"
   ]
  },
  {
   "cell_type": "markdown",
   "metadata": {},
   "source": [
    "Mean computation time for *Safe* objective (safety) for an energy capacity of 100."
   ]
  },
  {
   "cell_type": "code",
   "execution_count": 3,
   "metadata": {},
   "outputs": [
    {
     "name": "stdout",
     "output_type": "stream",
     "text": [
      "1.07 s ± 14.7 ms per loop (mean ± std. dev. of 7 runs, 1 loop each)\n"
     ]
    }
   ],
   "source": [
    "%%timeit\n",
    "m.get_safe(100, recompute=True)"
   ]
  },
  {
   "cell_type": "markdown",
   "metadata": {},
   "source": [
    "Mean computation time for *SafePR_T* (postive reachability) objective for an energy capacity of 100."
   ]
  },
  {
   "cell_type": "code",
   "execution_count": 14,
   "metadata": {},
   "outputs": [
    {
     "name": "stdout",
     "output_type": "stream",
     "text": [
      "1.39 s ± 29.3 ms per loop (mean ± std. dev. of 7 runs, 1 loop each)\n"
     ]
    }
   ],
   "source": [
    "%%timeit\n",
    "m.get_positiveReachability(targets, 100, recompute=True)"
   ]
  },
  {
   "cell_type": "markdown",
   "metadata": {},
   "source": [
    "Mean computation time for *SafeBüchi_T* (Büchi) objective for an energy capacity of 100."
   ]
  },
  {
   "cell_type": "code",
   "execution_count": 16,
   "metadata": {},
   "outputs": [
    {
     "name": "stdout",
     "output_type": "stream",
     "text": [
      "1.42 s ± 48.8 ms per loop (mean ± std. dev. of 7 runs, 1 loop each)\n"
     ]
    }
   ],
   "source": [
    "%%timeit\n",
    "m.get_Buchi(targets, 100, recompute=True)"
   ]
  },
  {
   "cell_type": "markdown",
   "metadata": {},
   "source": [
    "### Mean computation time for different capacities"
   ]
  },
  {
   "cell_type": "markdown",
   "metadata": {},
   "source": [
    "We now analyze the variation of computation time for different capacities. The task is to generate a strategy with Buchi objective, same as the above experiments. We consider a maximum value of capacity 200 and split the interval [0, 200] into 20 intervals and use the interval bounds as the different values of capacities we calculate computation time for. Further, for each capacity value, we repeat the test multiple times to account for variations in the computation time. These results were reported in Fig. 4(a) of the paper."
   ]
  },
  {
   "cell_type": "code",
   "execution_count": 77,
   "metadata": {},
   "outputs": [
    {
     "data": {
      "text/html": [
       "<div>\n",
       "<style scoped>\n",
       "    .dataframe tbody tr th:only-of-type {\n",
       "        vertical-align: middle;\n",
       "    }\n",
       "\n",
       "    .dataframe tbody tr th {\n",
       "        vertical-align: top;\n",
       "    }\n",
       "\n",
       "    .dataframe thead th {\n",
       "        text-align: right;\n",
       "    }\n",
       "</style>\n",
       "<table border=\"1\" class=\"dataframe\">\n",
       "  <thead>\n",
       "    <tr style=\"text-align: right;\">\n",
       "      <th></th>\n",
       "      <th>capacity</th>\n",
       "      <th>time(sec)</th>\n",
       "    </tr>\n",
       "  </thead>\n",
       "  <tbody>\n",
       "    <tr>\n",
       "      <th>0</th>\n",
       "      <td>1</td>\n",
       "      <td>0.153674</td>\n",
       "    </tr>\n",
       "    <tr>\n",
       "      <th>1</th>\n",
       "      <td>11</td>\n",
       "      <td>1.069634</td>\n",
       "    </tr>\n",
       "    <tr>\n",
       "      <th>2</th>\n",
       "      <td>21</td>\n",
       "      <td>2.052743</td>\n",
       "    </tr>\n",
       "    <tr>\n",
       "      <th>3</th>\n",
       "      <td>32</td>\n",
       "      <td>3.304975</td>\n",
       "    </tr>\n",
       "    <tr>\n",
       "      <th>4</th>\n",
       "      <td>42</td>\n",
       "      <td>4.211226</td>\n",
       "    </tr>\n",
       "    <tr>\n",
       "      <th>5</th>\n",
       "      <td>53</td>\n",
       "      <td>3.238880</td>\n",
       "    </tr>\n",
       "    <tr>\n",
       "      <th>6</th>\n",
       "      <td>63</td>\n",
       "      <td>3.012353</td>\n",
       "    </tr>\n",
       "    <tr>\n",
       "      <th>7</th>\n",
       "      <td>74</td>\n",
       "      <td>2.284341</td>\n",
       "    </tr>\n",
       "    <tr>\n",
       "      <th>8</th>\n",
       "      <td>84</td>\n",
       "      <td>1.845679</td>\n",
       "    </tr>\n",
       "    <tr>\n",
       "      <th>9</th>\n",
       "      <td>95</td>\n",
       "      <td>1.756329</td>\n",
       "    </tr>\n",
       "    <tr>\n",
       "      <th>10</th>\n",
       "      <td>105</td>\n",
       "      <td>1.336769</td>\n",
       "    </tr>\n",
       "    <tr>\n",
       "      <th>11</th>\n",
       "      <td>116</td>\n",
       "      <td>1.227039</td>\n",
       "    </tr>\n",
       "    <tr>\n",
       "      <th>12</th>\n",
       "      <td>126</td>\n",
       "      <td>1.233954</td>\n",
       "    </tr>\n",
       "    <tr>\n",
       "      <th>13</th>\n",
       "      <td>137</td>\n",
       "      <td>1.271141</td>\n",
       "    </tr>\n",
       "    <tr>\n",
       "      <th>14</th>\n",
       "      <td>147</td>\n",
       "      <td>1.267635</td>\n",
       "    </tr>\n",
       "    <tr>\n",
       "      <th>15</th>\n",
       "      <td>158</td>\n",
       "      <td>1.290837</td>\n",
       "    </tr>\n",
       "    <tr>\n",
       "      <th>16</th>\n",
       "      <td>168</td>\n",
       "      <td>1.293210</td>\n",
       "    </tr>\n",
       "    <tr>\n",
       "      <th>17</th>\n",
       "      <td>179</td>\n",
       "      <td>1.268639</td>\n",
       "    </tr>\n",
       "    <tr>\n",
       "      <th>18</th>\n",
       "      <td>189</td>\n",
       "      <td>1.282635</td>\n",
       "    </tr>\n",
       "    <tr>\n",
       "      <th>19</th>\n",
       "      <td>200</td>\n",
       "      <td>1.279965</td>\n",
       "    </tr>\n",
       "  </tbody>\n",
       "</table>\n",
       "</div>"
      ],
      "text/plain": [
       "    capacity  time(sec)\n",
       "0          1   0.153674\n",
       "1         11   1.069634\n",
       "2         21   2.052743\n",
       "3         32   3.304975\n",
       "4         42   4.211226\n",
       "5         53   3.238880\n",
       "6         63   3.012353\n",
       "7         74   2.284341\n",
       "8         84   1.845679\n",
       "9         95   1.756329\n",
       "10       105   1.336769\n",
       "11       116   1.227039\n",
       "12       126   1.233954\n",
       "13       137   1.271141\n",
       "14       147   1.267635\n",
       "15       158   1.290837\n",
       "16       168   1.293210\n",
       "17       179   1.268639\n",
       "18       189   1.282635\n",
       "19       200   1.279965"
      ]
     },
     "execution_count": 77,
     "metadata": {},
     "output_type": "execute_result"
    },
    {
     "data": {
      "image/png": "[encoded data removed]",
      "text/plain": [
       "<Figure size 432x288 with 1 Axes>"
      ]
     },
     "metadata": {
      "needs_background": "light"
     },
     "output_type": "display_data"
    }
   ],
   "source": [
    "comptime = NYCtools.timeit_diffcaps(m, targets, cap_bound = 200, num_samples = 20, num_tests=5, obj=BUCHI)\n",
    "x_val = [pair[0] for pair in comptime]; y_val = [pair[1] for pair in comptime]\n",
    "plt.scatter(x_val, y_val, color='red')\n",
    "plt.xlabel('Capacity of the agent'); plt.ylabel('Computation Time (sec)'); plt.grid()\n",
    "df_caps = pd.DataFrame(comptime, columns=['capacity','time(sec)'])\n",
    "df_caps.to_csv(\"comptime_diffcaps.csv\")\n",
    "df_caps"
   ]
  },
  {
   "cell_type": "markdown",
   "metadata": {},
   "source": [
    "We now compare our results with an approach that encodes the information about energy levels directly in the state-space. We compute the running time for MEC-decomposition (part of almost-sure Büchi algo) of the explicit representation of the MDP. Please note that the running times for computing the set of explicit-states would be still larger than just the time needed for the MEC-decomposition. The following script can be used to reproduce the results reported in Fig. 4(b) of the paper."
   ]
  },
  {
   "cell_type": "code",
   "execution_count": 65,
   "metadata": {},
   "outputs": [],
   "source": [
    "def explicit_mecs(consMDP, T, caps_list, num_tests):\n",
    "    comptime = []\n",
    "    for cap in caps_list:\n",
    "        p, TT = product_energy(consMDP, cap, T)\n",
    "        def calc_time():\n",
    "            mecs = get_MECs(p)\n",
    "        comptime.append((cap, p.num_states, timeit.timeit(calc_time, number=num_tests)/num_tests))\n",
    "    return comptime"
   ]
  },
  {
   "cell_type": "code",
   "execution_count": 76,
   "metadata": {},
   "outputs": [
    {
     "data": {
      "text/html": [
       "<div>\n",
       "<style scoped>\n",
       "    .dataframe tbody tr th:only-of-type {\n",
       "        vertical-align: middle;\n",
       "    }\n",
       "\n",
       "    .dataframe tbody tr th {\n",
       "        vertical-align: top;\n",
       "    }\n",
       "\n",
       "    .dataframe thead th {\n",
       "        text-align: right;\n",
       "    }\n",
       "</style>\n",
       "<table border=\"1\" class=\"dataframe\">\n",
       "  <thead>\n",
       "    <tr style=\"text-align: right;\">\n",
       "      <th></th>\n",
       "      <th>capacity</th>\n",
       "      <th>no.of explicit states</th>\n",
       "      <th>time(sec)</th>\n",
       "    </tr>\n",
       "  </thead>\n",
       "  <tbody>\n",
       "    <tr>\n",
       "      <th>0</th>\n",
       "      <td>1</td>\n",
       "      <td>7700</td>\n",
       "      <td>0.038060</td>\n",
       "    </tr>\n",
       "    <tr>\n",
       "      <th>1</th>\n",
       "      <td>11</td>\n",
       "      <td>29818</td>\n",
       "      <td>0.222584</td>\n",
       "    </tr>\n",
       "    <tr>\n",
       "      <th>2</th>\n",
       "      <td>21</td>\n",
       "      <td>75622</td>\n",
       "      <td>0.765968</td>\n",
       "    </tr>\n",
       "    <tr>\n",
       "      <th>3</th>\n",
       "      <td>32</td>\n",
       "      <td>139342</td>\n",
       "      <td>2.417092</td>\n",
       "    </tr>\n",
       "    <tr>\n",
       "      <th>4</th>\n",
       "      <td>42</td>\n",
       "      <td>200199</td>\n",
       "      <td>6.651672</td>\n",
       "    </tr>\n",
       "    <tr>\n",
       "      <th>5</th>\n",
       "      <td>53</td>\n",
       "      <td>268055</td>\n",
       "      <td>14.960706</td>\n",
       "    </tr>\n",
       "    <tr>\n",
       "      <th>6</th>\n",
       "      <td>63</td>\n",
       "      <td>329833</td>\n",
       "      <td>30.682056</td>\n",
       "    </tr>\n",
       "    <tr>\n",
       "      <th>7</th>\n",
       "      <td>74</td>\n",
       "      <td>397835</td>\n",
       "      <td>61.671274</td>\n",
       "    </tr>\n",
       "    <tr>\n",
       "      <th>8</th>\n",
       "      <td>84</td>\n",
       "      <td>459592</td>\n",
       "      <td>119.885437</td>\n",
       "    </tr>\n",
       "    <tr>\n",
       "      <th>9</th>\n",
       "      <td>95</td>\n",
       "      <td>527475</td>\n",
       "      <td>236.988935</td>\n",
       "    </tr>\n",
       "  </tbody>\n",
       "</table>\n",
       "</div>"
      ],
      "text/plain": [
       "   capacity  no.of explicit states   time(sec)\n",
       "0         1                   7700    0.038060\n",
       "1        11                  29818    0.222584\n",
       "2        21                  75622    0.765968\n",
       "3        32                 139342    2.417092\n",
       "4        42                 200199    6.651672\n",
       "5        53                 268055   14.960706\n",
       "6        63                 329833   30.682056\n",
       "7        74                 397835   61.671274\n",
       "8        84                 459592  119.885437\n",
       "9        95                 527475  236.988935"
      ]
     },
     "execution_count": 76,
     "metadata": {},
     "output_type": "execute_result"
    },
    {
     "data": {
      "image/png": "[encoded data removed]",
      "text/plain": [
       "<Figure size 432x288 with 1 Axes>"
      ]
     },
     "metadata": {
      "needs_background": "light"
     },
     "output_type": "display_data"
    }
   ],
   "source": [
    "caps_list = [1,11,21,32,42,53,63,74,84,95]\n",
    "comptime_explicit = explicit_mecs(m, targets, caps_list, 3)\n",
    "x_val = [val[0] for val in comptime_explicit]; y_val = [val[2] for val in comptime_explicit]\n",
    "plt.scatter(x_val, y_val, color='blue')\n",
    "plt.xlabel('Capacity of the agent'); plt.ylabel('Computation Time (sec)'); plt.grid()\n",
    "df_explicit = pd.DataFrame(comptime_explicit, columns=['capacity', 'no.of explicit states','time(sec)'])\n",
    "df_explicit.to_csv(\"comptime_explicit.csv\")\n",
    "df_explicit"
   ]
  },
  {
   "cell_type": "markdown",
   "metadata": {},
   "source": [
    "### Mean computation Time of Different Sizes of Target Set"
   ]
  },
  {
   "cell_type": "markdown",
   "metadata": {},
   "source": [
    "Now, we analyize how the computation time changes with the size of the targets. We randomly generate target sets of different sizes and calculate the computation time for the same capacity for Buchi objective. We use a capacity of 50 and generate target sets of varying sizes in the interval [20, size_bound] and use them to evaluate the strategy and calculate the computation time. For each target set, we repeat the tests multiple times to account for variations in the computation time."
   ]
  },
  {
   "cell_type": "code",
   "execution_count": 13,
   "metadata": {},
   "outputs": [
    {
     "data": {
      "text/html": [
       "<div>\n",
       "<style scoped>\n",
       "    .dataframe tbody tr th:only-of-type {\n",
       "        vertical-align: middle;\n",
       "    }\n",
       "\n",
       "    .dataframe tbody tr th {\n",
       "        vertical-align: top;\n",
       "    }\n",
       "\n",
       "    .dataframe thead th {\n",
       "        text-align: right;\n",
       "    }\n",
       "</style>\n",
       "<table border=\"1\" class=\"dataframe\">\n",
       "  <thead>\n",
       "    <tr style=\"text-align: right;\">\n",
       "      <th></th>\n",
       "      <th>target set size</th>\n",
       "      <th>time(sec)</th>\n",
       "    </tr>\n",
       "  </thead>\n",
       "  <tbody>\n",
       "    <tr>\n",
       "      <th>0</th>\n",
       "      <td>20</td>\n",
       "      <td>4.987085</td>\n",
       "    </tr>\n",
       "    <tr>\n",
       "      <th>1</th>\n",
       "      <td>29</td>\n",
       "      <td>5.886724</td>\n",
       "    </tr>\n",
       "    <tr>\n",
       "      <th>2</th>\n",
       "      <td>38</td>\n",
       "      <td>5.917273</td>\n",
       "    </tr>\n",
       "    <tr>\n",
       "      <th>3</th>\n",
       "      <td>48</td>\n",
       "      <td>7.077351</td>\n",
       "    </tr>\n",
       "    <tr>\n",
       "      <th>4</th>\n",
       "      <td>57</td>\n",
       "      <td>7.357079</td>\n",
       "    </tr>\n",
       "    <tr>\n",
       "      <th>5</th>\n",
       "      <td>67</td>\n",
       "      <td>4.942268</td>\n",
       "    </tr>\n",
       "    <tr>\n",
       "      <th>6</th>\n",
       "      <td>76</td>\n",
       "      <td>6.238028</td>\n",
       "    </tr>\n",
       "    <tr>\n",
       "      <th>7</th>\n",
       "      <td>86</td>\n",
       "      <td>3.991735</td>\n",
       "    </tr>\n",
       "    <tr>\n",
       "      <th>8</th>\n",
       "      <td>95</td>\n",
       "      <td>4.095056</td>\n",
       "    </tr>\n",
       "    <tr>\n",
       "      <th>9</th>\n",
       "      <td>105</td>\n",
       "      <td>4.265142</td>\n",
       "    </tr>\n",
       "    <tr>\n",
       "      <th>10</th>\n",
       "      <td>114</td>\n",
       "      <td>4.851144</td>\n",
       "    </tr>\n",
       "    <tr>\n",
       "      <th>11</th>\n",
       "      <td>124</td>\n",
       "      <td>3.538605</td>\n",
       "    </tr>\n",
       "    <tr>\n",
       "      <th>12</th>\n",
       "      <td>133</td>\n",
       "      <td>3.835820</td>\n",
       "    </tr>\n",
       "    <tr>\n",
       "      <th>13</th>\n",
       "      <td>143</td>\n",
       "      <td>5.818498</td>\n",
       "    </tr>\n",
       "    <tr>\n",
       "      <th>14</th>\n",
       "      <td>152</td>\n",
       "      <td>3.638933</td>\n",
       "    </tr>\n",
       "    <tr>\n",
       "      <th>15</th>\n",
       "      <td>162</td>\n",
       "      <td>4.036387</td>\n",
       "    </tr>\n",
       "    <tr>\n",
       "      <th>16</th>\n",
       "      <td>171</td>\n",
       "      <td>4.023568</td>\n",
       "    </tr>\n",
       "    <tr>\n",
       "      <th>17</th>\n",
       "      <td>181</td>\n",
       "      <td>3.709879</td>\n",
       "    </tr>\n",
       "    <tr>\n",
       "      <th>18</th>\n",
       "      <td>190</td>\n",
       "      <td>3.868136</td>\n",
       "    </tr>\n",
       "    <tr>\n",
       "      <th>19</th>\n",
       "      <td>200</td>\n",
       "      <td>4.457504</td>\n",
       "    </tr>\n",
       "  </tbody>\n",
       "</table>\n",
       "</div>"
      ],
      "text/plain": [
       "    target set size  time(sec)\n",
       "0                20   4.987085\n",
       "1                29   5.886724\n",
       "2                38   5.917273\n",
       "3                48   7.077351\n",
       "4                57   7.357079\n",
       "5                67   4.942268\n",
       "6                76   6.238028\n",
       "7                86   3.991735\n",
       "8                95   4.095056\n",
       "9               105   4.265142\n",
       "10              114   4.851144\n",
       "11              124   3.538605\n",
       "12              133   3.835820\n",
       "13              143   5.818498\n",
       "14              152   3.638933\n",
       "15              162   4.036387\n",
       "16              171   4.023568\n",
       "17              181   3.709879\n",
       "18              190   3.868136\n",
       "19              200   4.457504"
      ]
     },
     "execution_count": 13,
     "metadata": {},
     "output_type": "execute_result"
    },
    {
     "data": {
      "image/png": "[encoded data removed]",
      "text/plain": [
       "<Figure size 432x288 with 1 Axes>"
      ]
     },
     "metadata": {
      "needs_background": "light"
     },
     "output_type": "display_data"
    }
   ],
   "source": [
    "comptime = NYCtools.timeit_difftargetsizes(m, cap=50, size_bound = 200, num_samples = 20, num_tests=2, obj=BUCHI)\n",
    "x_val = [pair[0] for pair in comptime]; y_val = [pair[1] for pair in comptime]\n",
    "plt.scatter(x_val, y_val, color='red')\n",
    "plt.xlabel('Size of the target set'); plt.ylabel('Computation Time (sec)'); plt.grid()\n",
    "df_ts = pd.DataFrame(comptime, columns=['target set size','time(sec)'])\n",
    "df_ts.to_csv(\"comptime_difftargetsizes.csv\")\n",
    "df_ts"
   ]
  },
  {
   "cell_type": "markdown",
   "metadata": {},
   "source": [
    "### Mean computation time for Different Target Sets"
   ]
  },
  {
   "cell_type": "markdown",
   "metadata": {},
   "source": [
    "We now analyze how the computation time varies for different target sets. The function 'timeit_difftargets()' calculates the computation time of computing the strategy with Buchi objective for 'num_samples' different randomly generated target sets. The resulting compute time is plotted as a histogram as shown below. We consider a capacity of 100 and target set size of 50 for this analysis."
   ]
  },
  {
   "cell_type": "code",
   "execution_count": 14,
   "metadata": {},
   "outputs": [
    {
     "data": {
      "image/png": "[encoded data removed]",
      "text/plain": [
       "<Figure size 432x288 with 1 Axes>"
      ]
     },
     "metadata": {
      "needs_background": "light"
     },
     "output_type": "display_data"
    }
   ],
   "source": [
    "comptime = NYCtools.timeit_difftargets(m, cap=100, target_size = 50, num_samples=100, obj=BUCHI)\n",
    "NYCtools.histogram(comptime)"
   ]
  },
  {
   "cell_type": "markdown",
   "metadata": {},
   "source": [
    "## Multi-agent Grid World"
   ]
  },
  {
   "cell_type": "markdown",
   "metadata": {},
   "source": [
    "This subsection reproduces the results in section *7.2 Multi-agent Grid World* of the paper. We begin with importing required modules from fimdp. **Note that an environment with a grid size $n$ has $n^4$ states in the corresponding Consumption MDP.**"
   ]
  },
  {
   "cell_type": "code",
   "execution_count": 7,
   "metadata": {},
   "outputs": [],
   "source": [
    "import sys; sys.path.insert(0, '..')\n",
    "from fimdp.MarsEnv import MarsEnv\n",
    "from fimdp.energy_solver import *"
   ]
  },
  {
   "cell_type": "markdown",
   "metadata": {},
   "source": [
    "### Mean computation time for different objectives"
   ]
  },
  {
   "cell_type": "markdown",
   "metadata": {},
   "source": [
    "We begin by creating a environment with grid size $n = 10$ and agent capacity of 10 units."
   ]
  },
  {
   "cell_type": "code",
   "execution_count": 104,
   "metadata": {},
   "outputs": [],
   "source": [
    "env = MarsEnv(grid_size=10, agent_capacity=10, agent_actioncost=1, agent_staycost=1)\n",
    "m, targets = env.get_mdp_targets()"
   ]
  },
  {
   "cell_type": "markdown",
   "metadata": {},
   "source": [
    "Mean computation time for *Safe* objective (safety) for an energy capacity of 10."
   ]
  },
  {
   "cell_type": "code",
   "execution_count": 105,
   "metadata": {},
   "outputs": [
    {
     "name": "stdout",
     "output_type": "stream",
     "text": [
      "4.61 s ± 32 ms per loop (mean ± std. dev. of 7 runs, 1 loop each)\n"
     ]
    }
   ],
   "source": [
    "%%timeit\n",
    "s = BasicES(m, cap=env.agent_capacity, targets=targets)\n",
    "strategy = s.get_strategy(SAFE, recompute=True)"
   ]
  },
  {
   "cell_type": "markdown",
   "metadata": {},
   "source": [
    "Mean computation time for *SafePR_T* (postive reachability) objective for an energy capacity of 10."
   ]
  },
  {
   "cell_type": "code",
   "execution_count": 106,
   "metadata": {},
   "outputs": [
    {
     "name": "stdout",
     "output_type": "stream",
     "text": [
      "9.66 s ± 31.1 ms per loop (mean ± std. dev. of 7 runs, 1 loop each)\n"
     ]
    }
   ],
   "source": [
    "%%timeit\n",
    "s = BasicES(m, cap=env.agent_capacity, targets=targets)\n",
    "strategy = s.get_strategy(POS_REACH, recompute=True)"
   ]
  },
  {
   "cell_type": "markdown",
   "metadata": {},
   "source": [
    "Mean computation time for *SafeBüchi_T* (Büchi) objective for an energy capacity of 10."
   ]
  },
  {
   "cell_type": "code",
   "execution_count": 107,
   "metadata": {},
   "outputs": [
    {
     "name": "stdout",
     "output_type": "stream",
     "text": [
      "9.85 s ± 30.9 ms per loop (mean ± std. dev. of 7 runs, 1 loop each)\n"
     ]
    }
   ],
   "source": [
    "%%timeit\n",
    "s = BasicES(m, cap=env.agent_capacity, targets=targets)\n",
    "strategy = s.get_strategy(BUCHI, recompute=True)"
   ]
  },
  {
   "cell_type": "markdown",
   "metadata": {},
   "source": [
    "### Mean computation time for Different Capacities and Grid Sizes"
   ]
  },
  {
   "cell_type": "markdown",
   "metadata": {},
   "source": [
    "We calculate the computation time for obtaining the strategy for different sizes of grid (different sizes of state spaces) and different energy capacities for the same objective. These results were reported in Table 1 in the paper. We consider the Büchi objective and capacities of 10, 20, 50 and 100 for our tests. We note that the absolute values of the computation time vary on the machine used but should have the same trend in scalability."
   ]
  },
  {
   "cell_type": "code",
   "execution_count": 98,
   "metadata": {},
   "outputs": [],
   "source": [
    "def marsgrid_comptime(grid_sizes, cap):\n",
    "    for grid_size in grid_sizes:\n",
    "        env = MarsEnv(grid_size=grid_size, agent_capacity=cap, agent_actioncost=1, agent_staycost=1)\n",
    "        m, targets = env.get_mdp_targets()\n",
    "        t = %timeit -o -q s = BasicES(m, cap=env.agent_capacity, targets=targets); strategy = s.get_strategy(BUCHI, recompute=True)\n",
    "        print('Computation time for grid size {} and capacity {}:'.format(grid_size, cap)); print(t)"
   ]
  },
  {
   "cell_type": "markdown",
   "metadata": {},
   "source": [
    "#### Capacity = 10"
   ]
  },
  {
   "cell_type": "markdown",
   "metadata": {},
   "source": [
    "**Grid sizes of $n = 5,7,10,15,20$, i.e., $625, 2401, 10000, 50625, 160000$ states.**"
   ]
  },
  {
   "cell_type": "code",
   "execution_count": 99,
   "metadata": {},
   "outputs": [
    {
     "name": "stdout",
     "output_type": "stream",
     "text": [
      "Computation time for grid size 5 and capacity 10:\n",
      "276 ms ± 12 ms per loop (mean ± std. dev. of 7 runs, 1 loop each)\n",
      "Computation time for grid size 7 and capacity 10:\n",
      "1.87 s ± 19.3 ms per loop (mean ± std. dev. of 7 runs, 1 loop each)\n",
      "Computation time for grid size 10 and capacity 10:\n",
      "10.3 s ± 91.9 ms per loop (mean ± std. dev. of 7 runs, 1 loop each)\n",
      "Computation time for grid size 15 and capacity 10:\n",
      "54.4 s ± 753 ms per loop (mean ± std. dev. of 7 runs, 1 loop each)\n",
      "Computation time for grid size 20 and capacity 10:\n",
      "2min 59s ± 2.56 s per loop (mean ± std. dev. of 7 runs, 1 loop each)\n"
     ]
    }
   ],
   "source": [
    "marsgrid_comptime([5,7,10,15,20],10)"
   ]
  },
  {
   "cell_type": "markdown",
   "metadata": {},
   "source": [
    "#### Capacity = 20"
   ]
  },
  {
   "cell_type": "markdown",
   "metadata": {},
   "source": [
    "**Grid sizes of $n = 5,7,10,15,20$, i.e., $625, 2401, 10000, 50625, 160000$ states.**"
   ]
  },
  {
   "cell_type": "code",
   "execution_count": 101,
   "metadata": {},
   "outputs": [
    {
     "name": "stdout",
     "output_type": "stream",
     "text": [
      "Computation time for grid size 5 and capacity 20:\n",
      "263 ms ± 5.21 ms per loop (mean ± std. dev. of 7 runs, 1 loop each)\n",
      "Computation time for grid size 7 and capacity 20:\n",
      "1.9 s ± 10.5 ms per loop (mean ± std. dev. of 7 runs, 1 loop each)\n",
      "Computation time for grid size 10 and capacity 20:\n",
      "12.3 s ± 33.6 ms per loop (mean ± std. dev. of 7 runs, 1 loop each)\n",
      "Computation time for grid size 15 and capacity 20:\n",
      "1min 20s ± 231 ms per loop (mean ± std. dev. of 7 runs, 1 loop each)\n",
      "Computation time for grid size 20 and capacity 20:\n",
      "4min 59s ± 706 ms per loop (mean ± std. dev. of 7 runs, 1 loop each)\n"
     ]
    }
   ],
   "source": [
    "marsgrid_comptime([5,7,10,15,20],20)"
   ]
  },
  {
   "cell_type": "markdown",
   "metadata": {},
   "source": [
    "#### Capacity = 50"
   ]
  },
  {
   "cell_type": "markdown",
   "metadata": {},
   "source": [
    "**Grid sizes of $n = 5,7,10,15,20$, i.e., $625, 2401, 10000, 50625, 160000$ states.**"
   ]
  },
  {
   "cell_type": "code",
   "execution_count": 102,
   "metadata": {},
   "outputs": [
    {
     "name": "stdout",
     "output_type": "stream",
     "text": [
      "Computation time for grid size 5 and capacity 50:\n",
      "282 ms ± 6.22 ms per loop (mean ± std. dev. of 7 runs, 1 loop each)\n",
      "Computation time for grid size 7 and capacity 50:\n",
      "1.78 s ± 8.45 ms per loop (mean ± std. dev. of 7 runs, 1 loop each)\n",
      "Computation time for grid size 10 and capacity 50:\n",
      "11.7 s ± 22.3 ms per loop (mean ± std. dev. of 7 runs, 1 loop each)\n",
      "Computation time for grid size 15 and capacity 50:\n",
      "1min 30s ± 183 ms per loop (mean ± std. dev. of 7 runs, 1 loop each)\n",
      "Computation time for grid size 20 and capacity 50:\n",
      "6min 34s ± 1.1 s per loop (mean ± std. dev. of 7 runs, 1 loop each)\n"
     ]
    }
   ],
   "source": [
    "marsgrid_comptime([5,7,10,15,20],50)"
   ]
  },
  {
   "cell_type": "markdown",
   "metadata": {},
   "source": [
    "#### Capacity = 100"
   ]
  },
  {
   "cell_type": "markdown",
   "metadata": {},
   "source": [
    "**Grid sizes of $n = 5,7,10,15,20$, i.e., $625, 2401, 10000, 50625, 160000$ states.**"
   ]
  },
  {
   "cell_type": "code",
   "execution_count": 103,
   "metadata": {},
   "outputs": [
    {
     "name": "stdout",
     "output_type": "stream",
     "text": [
      "Computation time for grid size 5 and capacity 100:\n",
      "263 ms ± 5.82 ms per loop (mean ± std. dev. of 7 runs, 1 loop each)\n",
      "Computation time for grid size 7 and capacity 100:\n",
      "1.81 s ± 7.46 ms per loop (mean ± std. dev. of 7 runs, 1 loop each)\n",
      "Computation time for grid size 10 and capacity 100:\n",
      "12.3 s ± 43 ms per loop (mean ± std. dev. of 7 runs, 1 loop each)\n",
      "Computation time for grid size 15 and capacity 100:\n",
      "1min 30s ± 308 ms per loop (mean ± std. dev. of 7 runs, 1 loop each)\n",
      "Computation time for grid size 20 and capacity 100:\n",
      "6min 53s ± 1.29 s per loop (mean ± std. dev. of 7 runs, 1 loop each)\n"
     ]
    }
   ],
   "source": [
    "marsgrid_comptime([5,7,10,15,20],100)"
   ]
  }
 ],
 "metadata": {
  "kernelspec": {
   "display_name": "Python 3",
   "language": "python",
   "name": "python3"
  },
  "language_info": {
   "codemirror_mode": {
    "name": "ipython",
    "version": 3
   },
   "file_extension": ".py",
   "mimetype": "text/x-python",
   "name": "python",
   "nbconvert_exporter": "python",
   "pygments_lexer": "ipython3",
   "version": "3.8.2"
  }
 },
 "nbformat": 4,
 "nbformat_minor": 4
}